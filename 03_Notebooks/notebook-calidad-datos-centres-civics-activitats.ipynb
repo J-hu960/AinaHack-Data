{
 "cells": [
  {
   "cell_type": "markdown",
   "id": "d31dea65",
   "metadata": {},
   "source": [
    "### AINAHACK - 2023_centres_civics_activitats_formatives.csv"
   ]
  },
  {
   "cell_type": "markdown",
   "id": "swiss-fault",
   "metadata": {},
   "source": [
    "### IMPORTAR PAQUETES"
   ]
  },
  {
   "cell_type": "code",
   "execution_count": 21,
   "id": "adjacent-toddler",
   "metadata": {},
   "outputs": [],
   "source": [
    "import numpy as np\n",
    "import pandas as pd\n",
    "from janitor import clean_names\n",
    "\n",
    "# Automcompletar rápido\n",
    "%config IPCompleter.greedy=True"
   ]
  },
  {
   "cell_type": "markdown",
   "id": "graduate-compensation",
   "metadata": {},
   "source": [
    "### IMPORTAR LOS DATOS"
   ]
  },
  {
   "cell_type": "markdown",
   "id": "ba473b09",
   "metadata": {},
   "source": [
    "Sustituir el nombre_fichero_datos."
   ]
  },
  {
   "cell_type": "code",
   "execution_count": 22,
   "id": "5d9dc5ea",
   "metadata": {},
   "outputs": [],
   "source": [
    "nombre_fichero_datos = '2023_centres_civics_activitats_formacio.csv'"
   ]
  },
  {
   "cell_type": "markdown",
   "id": "ae75bf0b",
   "metadata": {},
   "source": [
    "Cargar los datos."
   ]
  },
  {
   "cell_type": "code",
   "execution_count": 23,
   "id": "24ff453b",
   "metadata": {},
   "outputs": [
    {
     "name": "stdout",
     "output_type": "stream",
     "text": [
      "Archivo cargado exitosamente desde: C:\\Users\\Usuario\\Downloads\\YTT\\AINAHACK\\AinaHack-Data\\02_Datos\\01_Originales\\2023_centres_civics_activitats_formacio.csv\n"
     ]
    },
    {
     "data": {
      "text/html": [
       "<div>\n",
       "<style scoped>\n",
       "    .dataframe tbody tr th:only-of-type {\n",
       "        vertical-align: middle;\n",
       "    }\n",
       "\n",
       "    .dataframe tbody tr th {\n",
       "        vertical-align: top;\n",
       "    }\n",
       "\n",
       "    .dataframe thead th {\n",
       "        text-align: right;\n",
       "    }\n",
       "</style>\n",
       "<table border=\"1\" class=\"dataframe\">\n",
       "  <thead>\n",
       "    <tr style=\"text-align: right;\">\n",
       "      <th></th>\n",
       "      <th>Equipament</th>\n",
       "      <th>Indicador</th>\n",
       "      <th>Valor</th>\n",
       "      <th>Notes_Dades</th>\n",
       "      <th>Notes_Equipament</th>\n",
       "      <th>Codi_Districte</th>\n",
       "      <th>Nom_Districte</th>\n",
       "      <th>Codi_Barri</th>\n",
       "      <th>Nom_Barri</th>\n",
       "      <th>Titularitat</th>\n",
       "      <th>TipusGeneral</th>\n",
       "      <th>TipusEquipament</th>\n",
       "      <th>Ambit</th>\n",
       "      <th>Latitud</th>\n",
       "      <th>Longitud</th>\n",
       "    </tr>\n",
       "    <tr>\n",
       "      <th>Any</th>\n",
       "      <th></th>\n",
       "      <th></th>\n",
       "      <th></th>\n",
       "      <th></th>\n",
       "      <th></th>\n",
       "      <th></th>\n",
       "      <th></th>\n",
       "      <th></th>\n",
       "      <th></th>\n",
       "      <th></th>\n",
       "      <th></th>\n",
       "      <th></th>\n",
       "      <th></th>\n",
       "      <th></th>\n",
       "      <th></th>\n",
       "    </tr>\n",
       "  </thead>\n",
       "  <tbody>\n",
       "    <tr>\n",
       "      <th>2023</th>\n",
       "      <td>Centre Cívic Barceloneta</td>\n",
       "      <td>ActivitatsDeFormacio</td>\n",
       "      <td>232</td>\n",
       "      <td>NaN</td>\n",
       "      <td>NaN</td>\n",
       "      <td>1</td>\n",
       "      <td>Ciutat Vella</td>\n",
       "      <td>3</td>\n",
       "      <td>la Barceloneta</td>\n",
       "      <td>Ajuntament de Barcelona</td>\n",
       "      <td>Centres cívics</td>\n",
       "      <td>Centres cívics</td>\n",
       "      <td>Multidisciplinaris i altres</td>\n",
       "      <td>41.380269</td>\n",
       "      <td>2.192301</td>\n",
       "    </tr>\n",
       "    <tr>\n",
       "      <th>2023</th>\n",
       "      <td>Centre Cívic Barceloneta</td>\n",
       "      <td>InscripcionsActivitatsFormacio</td>\n",
       "      <td>2867</td>\n",
       "      <td>NaN</td>\n",
       "      <td>NaN</td>\n",
       "      <td>1</td>\n",
       "      <td>Ciutat Vella</td>\n",
       "      <td>3</td>\n",
       "      <td>la Barceloneta</td>\n",
       "      <td>Ajuntament de Barcelona</td>\n",
       "      <td>Centres cívics</td>\n",
       "      <td>Centres cívics</td>\n",
       "      <td>Multidisciplinaris i altres</td>\n",
       "      <td>41.380269</td>\n",
       "      <td>2.192301</td>\n",
       "    </tr>\n",
       "    <tr>\n",
       "      <th>2023</th>\n",
       "      <td>Centre Cívic Barceloneta</td>\n",
       "      <td>Metres_quadrats</td>\n",
       "      <td>1431</td>\n",
       "      <td>NaN</td>\n",
       "      <td>NaN</td>\n",
       "      <td>1</td>\n",
       "      <td>Ciutat Vella</td>\n",
       "      <td>3</td>\n",
       "      <td>la Barceloneta</td>\n",
       "      <td>Ajuntament de Barcelona</td>\n",
       "      <td>Centres cívics</td>\n",
       "      <td>Centres cívics</td>\n",
       "      <td>Multidisciplinaris i altres</td>\n",
       "      <td>41.380269</td>\n",
       "      <td>2.192301</td>\n",
       "    </tr>\n",
       "    <tr>\n",
       "      <th>2023</th>\n",
       "      <td>Centre Cívic Baró de Viver</td>\n",
       "      <td>ActivitatsDeFormacio</td>\n",
       "      <td>137</td>\n",
       "      <td>NaN</td>\n",
       "      <td>NaN</td>\n",
       "      <td>9</td>\n",
       "      <td>Sant Andreu</td>\n",
       "      <td>58</td>\n",
       "      <td>Baró de Viver</td>\n",
       "      <td>Ajuntament de Barcelona</td>\n",
       "      <td>Centres cívics</td>\n",
       "      <td>Centres cívics</td>\n",
       "      <td>Multidisciplinaris i altres</td>\n",
       "      <td>41.448392</td>\n",
       "      <td>2.199921</td>\n",
       "    </tr>\n",
       "    <tr>\n",
       "      <th>2023</th>\n",
       "      <td>Centre Cívic Baró de Viver</td>\n",
       "      <td>InscripcionsActivitatsFormacio</td>\n",
       "      <td>1875</td>\n",
       "      <td>NaN</td>\n",
       "      <td>NaN</td>\n",
       "      <td>9</td>\n",
       "      <td>Sant Andreu</td>\n",
       "      <td>58</td>\n",
       "      <td>Baró de Viver</td>\n",
       "      <td>Ajuntament de Barcelona</td>\n",
       "      <td>Centres cívics</td>\n",
       "      <td>Centres cívics</td>\n",
       "      <td>Multidisciplinaris i altres</td>\n",
       "      <td>41.448392</td>\n",
       "      <td>2.199921</td>\n",
       "    </tr>\n",
       "    <tr>\n",
       "      <th>...</th>\n",
       "      <td>...</td>\n",
       "      <td>...</td>\n",
       "      <td>...</td>\n",
       "      <td>...</td>\n",
       "      <td>...</td>\n",
       "      <td>...</td>\n",
       "      <td>...</td>\n",
       "      <td>...</td>\n",
       "      <td>...</td>\n",
       "      <td>...</td>\n",
       "      <td>...</td>\n",
       "      <td>...</td>\n",
       "      <td>...</td>\n",
       "      <td>...</td>\n",
       "      <td>...</td>\n",
       "    </tr>\n",
       "    <tr>\n",
       "      <th>2023</th>\n",
       "      <td>Centre Cultural Albareda</td>\n",
       "      <td>InscripcionsActivitatsFormacio</td>\n",
       "      <td>1297</td>\n",
       "      <td>NaN</td>\n",
       "      <td>NaN</td>\n",
       "      <td>3</td>\n",
       "      <td>Sants-Montjuïc</td>\n",
       "      <td>11</td>\n",
       "      <td>el Poble Sec</td>\n",
       "      <td>Ajuntament de Barcelona</td>\n",
       "      <td>Centres cívics</td>\n",
       "      <td>Centres cívics</td>\n",
       "      <td>Multidisciplinaris i altres</td>\n",
       "      <td>41.374000</td>\n",
       "      <td>2.173269</td>\n",
       "    </tr>\n",
       "    <tr>\n",
       "      <th>2023</th>\n",
       "      <td>Centre Cultural Albareda</td>\n",
       "      <td>Metres_quadrats</td>\n",
       "      <td>1473</td>\n",
       "      <td>NaN</td>\n",
       "      <td>NaN</td>\n",
       "      <td>3</td>\n",
       "      <td>Sants-Montjuïc</td>\n",
       "      <td>11</td>\n",
       "      <td>el Poble Sec</td>\n",
       "      <td>Ajuntament de Barcelona</td>\n",
       "      <td>Centres cívics</td>\n",
       "      <td>Centres cívics</td>\n",
       "      <td>Multidisciplinaris i altres</td>\n",
       "      <td>41.374000</td>\n",
       "      <td>2.173269</td>\n",
       "    </tr>\n",
       "    <tr>\n",
       "      <th>2023</th>\n",
       "      <td>Centre Cultural la Farinera del Clot</td>\n",
       "      <td>ActivitatsDeFormacio</td>\n",
       "      <td>120</td>\n",
       "      <td>NaN</td>\n",
       "      <td>NaN</td>\n",
       "      <td>10</td>\n",
       "      <td>Sant Martí</td>\n",
       "      <td>65</td>\n",
       "      <td>el Clot</td>\n",
       "      <td>Ajuntament de Barcelona</td>\n",
       "      <td>Centres cívics</td>\n",
       "      <td>Centres cívics</td>\n",
       "      <td>Multidisciplinaris i altres</td>\n",
       "      <td>41.404914</td>\n",
       "      <td>2.188443</td>\n",
       "    </tr>\n",
       "    <tr>\n",
       "      <th>2023</th>\n",
       "      <td>Centre Cultural la Farinera del Clot</td>\n",
       "      <td>InscripcionsActivitatsFormacio</td>\n",
       "      <td>1352</td>\n",
       "      <td>NaN</td>\n",
       "      <td>NaN</td>\n",
       "      <td>10</td>\n",
       "      <td>Sant Martí</td>\n",
       "      <td>65</td>\n",
       "      <td>el Clot</td>\n",
       "      <td>Ajuntament de Barcelona</td>\n",
       "      <td>Centres cívics</td>\n",
       "      <td>Centres cívics</td>\n",
       "      <td>Multidisciplinaris i altres</td>\n",
       "      <td>41.404914</td>\n",
       "      <td>2.188443</td>\n",
       "    </tr>\n",
       "    <tr>\n",
       "      <th>2023</th>\n",
       "      <td>Centre Cultural la Farinera del Clot</td>\n",
       "      <td>Metres_quadrats</td>\n",
       "      <td>2634</td>\n",
       "      <td>NaN</td>\n",
       "      <td>NaN</td>\n",
       "      <td>10</td>\n",
       "      <td>Sant Martí</td>\n",
       "      <td>65</td>\n",
       "      <td>el Clot</td>\n",
       "      <td>Ajuntament de Barcelona</td>\n",
       "      <td>Centres cívics</td>\n",
       "      <td>Centres cívics</td>\n",
       "      <td>Multidisciplinaris i altres</td>\n",
       "      <td>41.404914</td>\n",
       "      <td>2.188443</td>\n",
       "    </tr>\n",
       "  </tbody>\n",
       "</table>\n",
       "<p>153 rows × 15 columns</p>\n",
       "</div>"
      ],
      "text/plain": [
       "                                Equipament                       Indicador  \\\n",
       "Any                                                                          \n",
       "2023              Centre Cívic Barceloneta            ActivitatsDeFormacio   \n",
       "2023              Centre Cívic Barceloneta  InscripcionsActivitatsFormacio   \n",
       "2023              Centre Cívic Barceloneta                 Metres_quadrats   \n",
       "2023            Centre Cívic Baró de Viver            ActivitatsDeFormacio   \n",
       "2023            Centre Cívic Baró de Viver  InscripcionsActivitatsFormacio   \n",
       "...                                    ...                             ...   \n",
       "2023              Centre Cultural Albareda  InscripcionsActivitatsFormacio   \n",
       "2023              Centre Cultural Albareda                 Metres_quadrats   \n",
       "2023  Centre Cultural la Farinera del Clot            ActivitatsDeFormacio   \n",
       "2023  Centre Cultural la Farinera del Clot  InscripcionsActivitatsFormacio   \n",
       "2023  Centre Cultural la Farinera del Clot                 Metres_quadrats   \n",
       "\n",
       "      Valor Notes_Dades Notes_Equipament  Codi_Districte   Nom_Districte  \\\n",
       "Any                                                                        \n",
       "2023    232         NaN              NaN               1    Ciutat Vella   \n",
       "2023   2867         NaN              NaN               1    Ciutat Vella   \n",
       "2023   1431         NaN              NaN               1    Ciutat Vella   \n",
       "2023    137         NaN              NaN               9     Sant Andreu   \n",
       "2023   1875         NaN              NaN               9     Sant Andreu   \n",
       "...     ...         ...              ...             ...             ...   \n",
       "2023   1297         NaN              NaN               3  Sants-Montjuïc   \n",
       "2023   1473         NaN              NaN               3  Sants-Montjuïc   \n",
       "2023    120         NaN              NaN              10      Sant Martí   \n",
       "2023   1352         NaN              NaN              10      Sant Martí   \n",
       "2023   2634         NaN              NaN              10      Sant Martí   \n",
       "\n",
       "      Codi_Barri       Nom_Barri              Titularitat    TipusGeneral  \\\n",
       "Any                                                                         \n",
       "2023           3  la Barceloneta  Ajuntament de Barcelona  Centres cívics   \n",
       "2023           3  la Barceloneta  Ajuntament de Barcelona  Centres cívics   \n",
       "2023           3  la Barceloneta  Ajuntament de Barcelona  Centres cívics   \n",
       "2023          58   Baró de Viver  Ajuntament de Barcelona  Centres cívics   \n",
       "2023          58   Baró de Viver  Ajuntament de Barcelona  Centres cívics   \n",
       "...          ...             ...                      ...             ...   \n",
       "2023          11    el Poble Sec  Ajuntament de Barcelona  Centres cívics   \n",
       "2023          11    el Poble Sec  Ajuntament de Barcelona  Centres cívics   \n",
       "2023          65         el Clot  Ajuntament de Barcelona  Centres cívics   \n",
       "2023          65         el Clot  Ajuntament de Barcelona  Centres cívics   \n",
       "2023          65         el Clot  Ajuntament de Barcelona  Centres cívics   \n",
       "\n",
       "     TipusEquipament                        Ambit    Latitud  Longitud  \n",
       "Any                                                                     \n",
       "2023  Centres cívics  Multidisciplinaris i altres  41.380269  2.192301  \n",
       "2023  Centres cívics  Multidisciplinaris i altres  41.380269  2.192301  \n",
       "2023  Centres cívics  Multidisciplinaris i altres  41.380269  2.192301  \n",
       "2023  Centres cívics  Multidisciplinaris i altres  41.448392  2.199921  \n",
       "2023  Centres cívics  Multidisciplinaris i altres  41.448392  2.199921  \n",
       "...              ...                          ...        ...       ...  \n",
       "2023  Centres cívics  Multidisciplinaris i altres  41.374000  2.173269  \n",
       "2023  Centres cívics  Multidisciplinaris i altres  41.374000  2.173269  \n",
       "2023  Centres cívics  Multidisciplinaris i altres  41.404914  2.188443  \n",
       "2023  Centres cívics  Multidisciplinaris i altres  41.404914  2.188443  \n",
       "2023  Centres cívics  Multidisciplinaris i altres  41.404914  2.188443  \n",
       "\n",
       "[153 rows x 15 columns]"
      ]
     },
     "execution_count": 23,
     "metadata": {},
     "output_type": "execute_result"
    }
   ],
   "source": [
    "# Fix the path to use proper directory separators and a more robust path construction\n",
    "import os\n",
    "\n",
    "# Update the project path with the complete path\n",
    "ruta_proyecto = os.path.join(os.path.expanduser(\"~\"), \"Downloads\", \"YTT\", \"AINAHACK\", \"AinaHack-Data\")\n",
    "\n",
    "# Update the path to match the actual file location\n",
    "ruta_completa = os.path.join(ruta_proyecto, \"02_Datos\", \"01_Originales\", nombre_fichero_datos)\n",
    "\n",
    "# Add error handling for file reading\n",
    "try:\n",
    "    df = pd.read_csv(ruta_completa, encoding='utf-8')\n",
    "    print(f\"Archivo cargado exitosamente desde: {ruta_completa}\")\n",
    "except FileNotFoundError:\n",
    "    print(f\"Error: No se encontró el archivo en la ruta: {ruta_completa}\")\n",
    "    print(\"Por favor, verifica que:\")\n",
    "    print(\"1. La ruta del proyecto es correcta:\", ruta_proyecto)\n",
    "    print(\"2. El archivo existe en la carpeta 02_Datos/01_Originales\")\n",
    "    print(\"3. El nombre del archivo es exactamente '2023_centres_civics_activitats_formacio.csv'\")\n",
    "\n",
    "df = pd.read_csv(ruta_completa,index_col=0)\n",
    "df"
   ]
  },
  {
   "cell_type": "markdown",
   "id": "9790d322",
   "metadata": {},
   "source": [
    "### CORRECCIÓN DE NOMBRES DE VARIABLES"
   ]
  },
  {
   "cell_type": "markdown",
   "id": "f1fa5201",
   "metadata": {},
   "source": [
    "**Corrección automática**"
   ]
  },
  {
   "cell_type": "code",
   "execution_count": 24,
   "id": "02607b69",
   "metadata": {},
   "outputs": [
    {
     "data": {
      "text/html": [
       "<div>\n",
       "<style scoped>\n",
       "    .dataframe tbody tr th:only-of-type {\n",
       "        vertical-align: middle;\n",
       "    }\n",
       "\n",
       "    .dataframe tbody tr th {\n",
       "        vertical-align: top;\n",
       "    }\n",
       "\n",
       "    .dataframe thead th {\n",
       "        text-align: right;\n",
       "    }\n",
       "</style>\n",
       "<table border=\"1\" class=\"dataframe\">\n",
       "  <thead>\n",
       "    <tr style=\"text-align: right;\">\n",
       "      <th></th>\n",
       "      <th>equipament</th>\n",
       "      <th>indicador</th>\n",
       "      <th>valor</th>\n",
       "      <th>notes_dades</th>\n",
       "      <th>notes_equipament</th>\n",
       "      <th>codi_districte</th>\n",
       "      <th>nom_districte</th>\n",
       "      <th>codi_barri</th>\n",
       "      <th>nom_barri</th>\n",
       "      <th>titularitat</th>\n",
       "      <th>tipusgeneral</th>\n",
       "      <th>tipusequipament</th>\n",
       "      <th>ambit</th>\n",
       "      <th>latitud</th>\n",
       "      <th>longitud</th>\n",
       "    </tr>\n",
       "    <tr>\n",
       "      <th>Any</th>\n",
       "      <th></th>\n",
       "      <th></th>\n",
       "      <th></th>\n",
       "      <th></th>\n",
       "      <th></th>\n",
       "      <th></th>\n",
       "      <th></th>\n",
       "      <th></th>\n",
       "      <th></th>\n",
       "      <th></th>\n",
       "      <th></th>\n",
       "      <th></th>\n",
       "      <th></th>\n",
       "      <th></th>\n",
       "      <th></th>\n",
       "    </tr>\n",
       "  </thead>\n",
       "  <tbody>\n",
       "    <tr>\n",
       "      <th>2023</th>\n",
       "      <td>Centre Cívic Barceloneta</td>\n",
       "      <td>ActivitatsDeFormacio</td>\n",
       "      <td>232</td>\n",
       "      <td>NaN</td>\n",
       "      <td>NaN</td>\n",
       "      <td>1</td>\n",
       "      <td>Ciutat Vella</td>\n",
       "      <td>3</td>\n",
       "      <td>la Barceloneta</td>\n",
       "      <td>Ajuntament de Barcelona</td>\n",
       "      <td>Centres cívics</td>\n",
       "      <td>Centres cívics</td>\n",
       "      <td>Multidisciplinaris i altres</td>\n",
       "      <td>41.380269</td>\n",
       "      <td>2.192301</td>\n",
       "    </tr>\n",
       "    <tr>\n",
       "      <th>2023</th>\n",
       "      <td>Centre Cívic Barceloneta</td>\n",
       "      <td>InscripcionsActivitatsFormacio</td>\n",
       "      <td>2867</td>\n",
       "      <td>NaN</td>\n",
       "      <td>NaN</td>\n",
       "      <td>1</td>\n",
       "      <td>Ciutat Vella</td>\n",
       "      <td>3</td>\n",
       "      <td>la Barceloneta</td>\n",
       "      <td>Ajuntament de Barcelona</td>\n",
       "      <td>Centres cívics</td>\n",
       "      <td>Centres cívics</td>\n",
       "      <td>Multidisciplinaris i altres</td>\n",
       "      <td>41.380269</td>\n",
       "      <td>2.192301</td>\n",
       "    </tr>\n",
       "    <tr>\n",
       "      <th>2023</th>\n",
       "      <td>Centre Cívic Barceloneta</td>\n",
       "      <td>Metres_quadrats</td>\n",
       "      <td>1431</td>\n",
       "      <td>NaN</td>\n",
       "      <td>NaN</td>\n",
       "      <td>1</td>\n",
       "      <td>Ciutat Vella</td>\n",
       "      <td>3</td>\n",
       "      <td>la Barceloneta</td>\n",
       "      <td>Ajuntament de Barcelona</td>\n",
       "      <td>Centres cívics</td>\n",
       "      <td>Centres cívics</td>\n",
       "      <td>Multidisciplinaris i altres</td>\n",
       "      <td>41.380269</td>\n",
       "      <td>2.192301</td>\n",
       "    </tr>\n",
       "    <tr>\n",
       "      <th>2023</th>\n",
       "      <td>Centre Cívic Baró de Viver</td>\n",
       "      <td>ActivitatsDeFormacio</td>\n",
       "      <td>137</td>\n",
       "      <td>NaN</td>\n",
       "      <td>NaN</td>\n",
       "      <td>9</td>\n",
       "      <td>Sant Andreu</td>\n",
       "      <td>58</td>\n",
       "      <td>Baró de Viver</td>\n",
       "      <td>Ajuntament de Barcelona</td>\n",
       "      <td>Centres cívics</td>\n",
       "      <td>Centres cívics</td>\n",
       "      <td>Multidisciplinaris i altres</td>\n",
       "      <td>41.448392</td>\n",
       "      <td>2.199921</td>\n",
       "    </tr>\n",
       "    <tr>\n",
       "      <th>2023</th>\n",
       "      <td>Centre Cívic Baró de Viver</td>\n",
       "      <td>InscripcionsActivitatsFormacio</td>\n",
       "      <td>1875</td>\n",
       "      <td>NaN</td>\n",
       "      <td>NaN</td>\n",
       "      <td>9</td>\n",
       "      <td>Sant Andreu</td>\n",
       "      <td>58</td>\n",
       "      <td>Baró de Viver</td>\n",
       "      <td>Ajuntament de Barcelona</td>\n",
       "      <td>Centres cívics</td>\n",
       "      <td>Centres cívics</td>\n",
       "      <td>Multidisciplinaris i altres</td>\n",
       "      <td>41.448392</td>\n",
       "      <td>2.199921</td>\n",
       "    </tr>\n",
       "    <tr>\n",
       "      <th>...</th>\n",
       "      <td>...</td>\n",
       "      <td>...</td>\n",
       "      <td>...</td>\n",
       "      <td>...</td>\n",
       "      <td>...</td>\n",
       "      <td>...</td>\n",
       "      <td>...</td>\n",
       "      <td>...</td>\n",
       "      <td>...</td>\n",
       "      <td>...</td>\n",
       "      <td>...</td>\n",
       "      <td>...</td>\n",
       "      <td>...</td>\n",
       "      <td>...</td>\n",
       "      <td>...</td>\n",
       "    </tr>\n",
       "    <tr>\n",
       "      <th>2023</th>\n",
       "      <td>Centre Cultural Albareda</td>\n",
       "      <td>InscripcionsActivitatsFormacio</td>\n",
       "      <td>1297</td>\n",
       "      <td>NaN</td>\n",
       "      <td>NaN</td>\n",
       "      <td>3</td>\n",
       "      <td>Sants-Montjuïc</td>\n",
       "      <td>11</td>\n",
       "      <td>el Poble Sec</td>\n",
       "      <td>Ajuntament de Barcelona</td>\n",
       "      <td>Centres cívics</td>\n",
       "      <td>Centres cívics</td>\n",
       "      <td>Multidisciplinaris i altres</td>\n",
       "      <td>41.374000</td>\n",
       "      <td>2.173269</td>\n",
       "    </tr>\n",
       "    <tr>\n",
       "      <th>2023</th>\n",
       "      <td>Centre Cultural Albareda</td>\n",
       "      <td>Metres_quadrats</td>\n",
       "      <td>1473</td>\n",
       "      <td>NaN</td>\n",
       "      <td>NaN</td>\n",
       "      <td>3</td>\n",
       "      <td>Sants-Montjuïc</td>\n",
       "      <td>11</td>\n",
       "      <td>el Poble Sec</td>\n",
       "      <td>Ajuntament de Barcelona</td>\n",
       "      <td>Centres cívics</td>\n",
       "      <td>Centres cívics</td>\n",
       "      <td>Multidisciplinaris i altres</td>\n",
       "      <td>41.374000</td>\n",
       "      <td>2.173269</td>\n",
       "    </tr>\n",
       "    <tr>\n",
       "      <th>2023</th>\n",
       "      <td>Centre Cultural la Farinera del Clot</td>\n",
       "      <td>ActivitatsDeFormacio</td>\n",
       "      <td>120</td>\n",
       "      <td>NaN</td>\n",
       "      <td>NaN</td>\n",
       "      <td>10</td>\n",
       "      <td>Sant Martí</td>\n",
       "      <td>65</td>\n",
       "      <td>el Clot</td>\n",
       "      <td>Ajuntament de Barcelona</td>\n",
       "      <td>Centres cívics</td>\n",
       "      <td>Centres cívics</td>\n",
       "      <td>Multidisciplinaris i altres</td>\n",
       "      <td>41.404914</td>\n",
       "      <td>2.188443</td>\n",
       "    </tr>\n",
       "    <tr>\n",
       "      <th>2023</th>\n",
       "      <td>Centre Cultural la Farinera del Clot</td>\n",
       "      <td>InscripcionsActivitatsFormacio</td>\n",
       "      <td>1352</td>\n",
       "      <td>NaN</td>\n",
       "      <td>NaN</td>\n",
       "      <td>10</td>\n",
       "      <td>Sant Martí</td>\n",
       "      <td>65</td>\n",
       "      <td>el Clot</td>\n",
       "      <td>Ajuntament de Barcelona</td>\n",
       "      <td>Centres cívics</td>\n",
       "      <td>Centres cívics</td>\n",
       "      <td>Multidisciplinaris i altres</td>\n",
       "      <td>41.404914</td>\n",
       "      <td>2.188443</td>\n",
       "    </tr>\n",
       "    <tr>\n",
       "      <th>2023</th>\n",
       "      <td>Centre Cultural la Farinera del Clot</td>\n",
       "      <td>Metres_quadrats</td>\n",
       "      <td>2634</td>\n",
       "      <td>NaN</td>\n",
       "      <td>NaN</td>\n",
       "      <td>10</td>\n",
       "      <td>Sant Martí</td>\n",
       "      <td>65</td>\n",
       "      <td>el Clot</td>\n",
       "      <td>Ajuntament de Barcelona</td>\n",
       "      <td>Centres cívics</td>\n",
       "      <td>Centres cívics</td>\n",
       "      <td>Multidisciplinaris i altres</td>\n",
       "      <td>41.404914</td>\n",
       "      <td>2.188443</td>\n",
       "    </tr>\n",
       "  </tbody>\n",
       "</table>\n",
       "<p>153 rows × 15 columns</p>\n",
       "</div>"
      ],
      "text/plain": [
       "                                equipament                       indicador  \\\n",
       "Any                                                                          \n",
       "2023              Centre Cívic Barceloneta            ActivitatsDeFormacio   \n",
       "2023              Centre Cívic Barceloneta  InscripcionsActivitatsFormacio   \n",
       "2023              Centre Cívic Barceloneta                 Metres_quadrats   \n",
       "2023            Centre Cívic Baró de Viver            ActivitatsDeFormacio   \n",
       "2023            Centre Cívic Baró de Viver  InscripcionsActivitatsFormacio   \n",
       "...                                    ...                             ...   \n",
       "2023              Centre Cultural Albareda  InscripcionsActivitatsFormacio   \n",
       "2023              Centre Cultural Albareda                 Metres_quadrats   \n",
       "2023  Centre Cultural la Farinera del Clot            ActivitatsDeFormacio   \n",
       "2023  Centre Cultural la Farinera del Clot  InscripcionsActivitatsFormacio   \n",
       "2023  Centre Cultural la Farinera del Clot                 Metres_quadrats   \n",
       "\n",
       "      valor notes_dades notes_equipament  codi_districte   nom_districte  \\\n",
       "Any                                                                        \n",
       "2023    232         NaN              NaN               1    Ciutat Vella   \n",
       "2023   2867         NaN              NaN               1    Ciutat Vella   \n",
       "2023   1431         NaN              NaN               1    Ciutat Vella   \n",
       "2023    137         NaN              NaN               9     Sant Andreu   \n",
       "2023   1875         NaN              NaN               9     Sant Andreu   \n",
       "...     ...         ...              ...             ...             ...   \n",
       "2023   1297         NaN              NaN               3  Sants-Montjuïc   \n",
       "2023   1473         NaN              NaN               3  Sants-Montjuïc   \n",
       "2023    120         NaN              NaN              10      Sant Martí   \n",
       "2023   1352         NaN              NaN              10      Sant Martí   \n",
       "2023   2634         NaN              NaN              10      Sant Martí   \n",
       "\n",
       "      codi_barri       nom_barri              titularitat    tipusgeneral  \\\n",
       "Any                                                                         \n",
       "2023           3  la Barceloneta  Ajuntament de Barcelona  Centres cívics   \n",
       "2023           3  la Barceloneta  Ajuntament de Barcelona  Centres cívics   \n",
       "2023           3  la Barceloneta  Ajuntament de Barcelona  Centres cívics   \n",
       "2023          58   Baró de Viver  Ajuntament de Barcelona  Centres cívics   \n",
       "2023          58   Baró de Viver  Ajuntament de Barcelona  Centres cívics   \n",
       "...          ...             ...                      ...             ...   \n",
       "2023          11    el Poble Sec  Ajuntament de Barcelona  Centres cívics   \n",
       "2023          11    el Poble Sec  Ajuntament de Barcelona  Centres cívics   \n",
       "2023          65         el Clot  Ajuntament de Barcelona  Centres cívics   \n",
       "2023          65         el Clot  Ajuntament de Barcelona  Centres cívics   \n",
       "2023          65         el Clot  Ajuntament de Barcelona  Centres cívics   \n",
       "\n",
       "     tipusequipament                        ambit    latitud  longitud  \n",
       "Any                                                                     \n",
       "2023  Centres cívics  Multidisciplinaris i altres  41.380269  2.192301  \n",
       "2023  Centres cívics  Multidisciplinaris i altres  41.380269  2.192301  \n",
       "2023  Centres cívics  Multidisciplinaris i altres  41.380269  2.192301  \n",
       "2023  Centres cívics  Multidisciplinaris i altres  41.448392  2.199921  \n",
       "2023  Centres cívics  Multidisciplinaris i altres  41.448392  2.199921  \n",
       "...              ...                          ...        ...       ...  \n",
       "2023  Centres cívics  Multidisciplinaris i altres  41.374000  2.173269  \n",
       "2023  Centres cívics  Multidisciplinaris i altres  41.374000  2.173269  \n",
       "2023  Centres cívics  Multidisciplinaris i altres  41.404914  2.188443  \n",
       "2023  Centres cívics  Multidisciplinaris i altres  41.404914  2.188443  \n",
       "2023  Centres cívics  Multidisciplinaris i altres  41.404914  2.188443  \n",
       "\n",
       "[153 rows x 15 columns]"
      ]
     },
     "execution_count": 24,
     "metadata": {},
     "output_type": "execute_result"
    }
   ],
   "source": [
    "df = clean_names(df) # Limpieza de nombres de columnas de forma automática\n",
    "df"
   ]
  },
  {
   "cell_type": "markdown",
   "id": "25bf4c99",
   "metadata": {},
   "source": [
    "**Corrección manual**"
   ]
  },
  {
   "cell_type": "code",
   "execution_count": 25,
   "id": "c6d83e70",
   "metadata": {},
   "outputs": [],
   "source": [
    "# df.rename(columns = {'fomacion':'formacion',\n",
    "#                      'prestamo_hipotecario':'hipoteca',\n",
    "#                      'prestamo_personal':'consumo'}, inplace=True)\n",
    "# df"
   ]
  },
  {
   "cell_type": "markdown",
   "id": "d2d5443c",
   "metadata": {},
   "source": [
    "### VISIÓN GENERAL"
   ]
  },
  {
   "cell_type": "code",
   "execution_count": 26,
   "id": "976c8ac6",
   "metadata": {},
   "outputs": [
    {
     "name": "stdout",
     "output_type": "stream",
     "text": [
      "<class 'pandas.core.frame.DataFrame'>\n",
      "Index: 153 entries, 2023 to 2023\n",
      "Data columns (total 15 columns):\n",
      " #   Column            Non-Null Count  Dtype  \n",
      "---  ------            --------------  -----  \n",
      " 0   equipament        153 non-null    object \n",
      " 1   indicador         153 non-null    object \n",
      " 2   valor             153 non-null    int64  \n",
      " 3   notes_dades       9 non-null      object \n",
      " 4   notes_equipament  6 non-null      object \n",
      " 5   codi_districte    153 non-null    int64  \n",
      " 6   nom_districte     153 non-null    object \n",
      " 7   codi_barri        153 non-null    int64  \n",
      " 8   nom_barri         153 non-null    object \n",
      " 9   titularitat       153 non-null    object \n",
      " 10  tipusgeneral      153 non-null    object \n",
      " 11  tipusequipament   153 non-null    object \n",
      " 12  ambit             153 non-null    object \n",
      " 13  latitud           153 non-null    float64\n",
      " 14  longitud          153 non-null    float64\n",
      "dtypes: float64(2), int64(3), object(10)\n",
      "memory usage: 19.1+ KB\n"
     ]
    }
   ],
   "source": [
    "df.info()"
   ]
  },
  {
   "cell_type": "markdown",
   "id": "158ee1d7",
   "metadata": {},
   "source": [
    "### TIPOS DE DATOS"
   ]
  },
  {
   "cell_type": "markdown",
   "id": "88162727",
   "metadata": {},
   "source": [
    "- Identificación"
   ]
  },
  {
   "cell_type": "code",
   "execution_count": 27,
   "id": "197a99c2",
   "metadata": {},
   "outputs": [
    {
     "data": {
      "text/plain": [
       "equipament           object\n",
       "indicador            object\n",
       "valor                 int64\n",
       "notes_dades          object\n",
       "notes_equipament     object\n",
       "codi_districte        int64\n",
       "nom_districte        object\n",
       "codi_barri            int64\n",
       "nom_barri            object\n",
       "titularitat          object\n",
       "tipusgeneral         object\n",
       "tipusequipament      object\n",
       "ambit                object\n",
       "latitud             float64\n",
       "longitud            float64\n",
       "dtype: object"
      ]
     },
     "execution_count": 27,
     "metadata": {},
     "output_type": "execute_result"
    }
   ],
   "source": [
    "df.dtypes"
   ]
  },
  {
   "cell_type": "markdown",
   "id": "54f495a6",
   "metadata": {},
   "source": [
    "- Corrección"
   ]
  },
  {
   "cell_type": "code",
   "execution_count": 28,
   "id": "828b9893",
   "metadata": {
    "scrolled": true
   },
   "outputs": [
    {
     "data": {
      "text/plain": [
       "equipament           object\n",
       "indicador            object\n",
       "valor                 int64\n",
       "notes_dades          object\n",
       "notes_equipament     object\n",
       "codi_districte        int64\n",
       "nom_districte        object\n",
       "codi_barri            int64\n",
       "nom_barri            object\n",
       "titularitat          object\n",
       "tipusgeneral         object\n",
       "tipusequipament      object\n",
       "ambit                object\n",
       "latitud             float64\n",
       "longitud            float64\n",
       "dtype: object"
      ]
     },
     "execution_count": 28,
     "metadata": {},
     "output_type": "execute_result"
    }
   ],
   "source": [
    "# Convertir tipos de datos más apropiados\n",
    "df = df.astype({\n",
    "    # Mantener como object (campos de texto)\n",
    "    'equipament': 'object',          # Nombre del equipamiento\n",
    "    'indicador': 'object',          # Tipo de indicador\n",
    "    'notes_dades': 'object',        # Notas sobre los datos (tiene nulos)\n",
    "    'notes_equipament': 'object',   # Notas sobre equipamiento (tiene nulos)\n",
    "    'nom_districte': 'object',      # Nombre del distrito\n",
    "    'nom_barri': 'object',          # Nombre del barrio\n",
    "    'titularitat': 'object',        # Tipo de titularidad\n",
    "    'tipusgeneral': 'object',       # Tipo general\n",
    "    'tipusequipament': 'object',    # Tipo de equipamiento\n",
    "    'ambit': 'object',              # Ámbito\n",
    "    \n",
    "    # Mantener como int64 (códigos y valores enteros)\n",
    "    'valor': 'int64',              # Valor numérico entero\n",
    "    'codi_districte': 'int64',     # Código de distrito\n",
    "    'codi_barri': 'int64',         # Código de barrio\n",
    "    \n",
    "    # Mantener como float64 (coordenadas geográficas)\n",
    "    'latitud': 'float64',          # Coordenada latitud\n",
    "    'longitud': 'float64'          # Coordenada longitud\n",
    "})\n",
    "\n",
    "df.dtypes"
   ]
  },
  {
   "cell_type": "markdown",
   "id": "0d00896f",
   "metadata": {},
   "source": [
    "La mayoría de las columnas están completas (153 registros no nulos) excepto:\n",
    "- notes_dades: solo 9 registros con datos\n",
    "- notes_equipament: solo 6 registros con datos\n",
    "\n",
    "Los tipos actuales son apropiados:\n",
    "- Los códigos (codi_districte, codi_barri) como enteros\n",
    "- Las coordenadas (latitud, longitud) como float\n",
    "- Los campos descriptivos como object\n",
    "- El campo valor como entero"
   ]
  },
  {
   "cell_type": "markdown",
   "id": "cc8d4a22",
   "metadata": {},
   "source": [
    "### VALORES ÚNICOS"
   ]
  },
  {
   "cell_type": "markdown",
   "id": "f21f0e36",
   "metadata": {},
   "source": [
    "- Identificación"
   ]
  },
  {
   "cell_type": "code",
   "execution_count": 29,
   "id": "6e53e444",
   "metadata": {},
   "outputs": [
    {
     "data": {
      "text/plain": [
       "ambit                 1\n",
       "tipusequipament       1\n",
       "tipusgeneral          1\n",
       "titularitat           1\n",
       "notes_equipament      2\n",
       "indicador             3\n",
       "notes_dades           3\n",
       "codi_districte       10\n",
       "nom_districte        10\n",
       "nom_barri            43\n",
       "codi_barri           43\n",
       "equipament           51\n",
       "longitud             51\n",
       "latitud              51\n",
       "valor               146\n",
       "dtype: int64"
      ]
     },
     "execution_count": 29,
     "metadata": {},
     "output_type": "execute_result"
    }
   ],
   "source": [
    "df.nunique().sort_values()"
   ]
  },
  {
   "cell_type": "code",
   "execution_count": 30,
   "id": "2f4ff709",
   "metadata": {},
   "outputs": [
    {
     "name": "stdout",
     "output_type": "stream",
     "text": [
      "Valores únicos en columnas con un solo valor:\n",
      "titularitat: Ajuntament de Barcelona\n",
      "tipusgeneral: Centres cívics\n",
      "tipusequipament: Centres cívics\n",
      "ambit: Multidisciplinaris i altres\n"
     ]
    }
   ],
   "source": [
    "columnas_un_valor = [col for col in df.columns if df[col].nunique() == 1]\n",
    "# ambit, tipusequipament, tipusgeneral, titularitat\n",
    "print(\"Valores únicos en columnas con un solo valor:\")\n",
    "for col in columnas_un_valor:\n",
    "    print(f\"{col}: {df[col].unique()[0]}\")"
   ]
  },
  {
   "cell_type": "markdown",
   "id": "b1d1a668",
   "metadata": {},
   "source": [
    "- Corrección"
   ]
  },
  {
   "cell_type": "code",
   "execution_count": 31,
   "id": "62f7d14e",
   "metadata": {},
   "outputs": [
    {
     "name": "stdout",
     "output_type": "stream",
     "text": [
      "Columnas eliminadas: ['titularitat', 'tipusgeneral', 'tipusequipament', 'ambit']\n"
     ]
    }
   ],
   "source": [
    "# Eliminar columnas con un único valor\n",
    "columnas_vacias = [col for col in df.columns if df[col].nunique() == 1]\n",
    "df = df.drop(columns=columnas_vacias)\n",
    "print(\"Columnas eliminadas:\", columnas_vacias)"
   ]
  },
  {
   "cell_type": "code",
   "execution_count": 32,
   "id": "a2ccf8bf",
   "metadata": {},
   "outputs": [
    {
     "name": "stdout",
     "output_type": "stream",
     "text": [
      "1. Distribución por distrito:\n",
      "                                    count         mean\n",
      "nom_districte       codi_districte                    \n",
      "Ciutat Vella        1                  12  1202.583333\n",
      "Eixample            2                  18  2622.722222\n",
      "Gràcia              6                   6  1994.333333\n",
      "Horta-Guinardó      7                  15   713.266667\n",
      "Les Corts           4                  12  1504.166667\n",
      "Nou Barris          8                  12  1130.416667\n",
      "Sant Andreu         9                  21   994.095238\n",
      "Sant Martí          10                 15  1707.133333\n",
      "Sants-Montjuïc      3                  18  1595.888889\n",
      "Sarrià-Sant Gervasi 5                  24   986.250000\n",
      "\n",
      "2. Top 5 barrios por número de actividades:\n",
      "nom_barri\n",
      "Sant Gervasi - la Bonanova               6\n",
      "Sarrià                                   6\n",
      "Vallvidrera, el Tibidabo i les Planes    6\n",
      "les Corts                                6\n",
      "el Poble Sec                             6\n",
      "Name: valor, dtype: int64\n",
      "\n",
      "3. Distribución por equipamiento:\n",
      "                                     valor             latitud longitud\n",
      "                                     count       mean    first    first\n",
      "equipament                                                             \n",
      "Centre Cultural Albareda                 3   961.6667  41.3740   2.1733\n",
      "Centre Cultural la Farinera del Clot     3  1368.6667  41.4049   2.1884\n",
      "Centre Cívic Barceloneta                 3  1510.0000  41.3803   2.1923\n",
      "Centre Cívic Baró de Viver               3  1182.3333  41.4484   2.1999\n",
      "Centre Cívic Besòs                       3  1938.0000  41.4163   2.2115\n",
      "\n",
      "4. Tipos de indicadores:\n",
      "                                count         mean  min    max\n",
      "indicador                                                     \n",
      "ActivitatsDeFormacio               51   203.803922   34   1099\n",
      "InscripcionsActivitatsFormacio     51  2534.372549  380  11809\n",
      "Metres_quadrats                    51  1473.568627  287   5470\n",
      "\n",
      "5. Distribución de notas de equipamiento:\n",
      "notes_equipament\n",
      "Espai cultural creat el 1998. Forma part de la xarxa de centres cívics des de 2013.                                                                                        3\n",
      "El 28 de gener de 1983 s'inaugura com a centre cívic. Per problemes estructurals es manté tancat entre 1984 i 1986. El 4 de setembre de 1986 s'inaugura definitivament.    3\n",
      "Name: count, dtype: int64\n",
      "\n",
      "6. Distribución de notas de datos:\n",
      "notes_dades\n",
      "Els itineraris són compartits amb Golferichs, Fort Pienc i Urgell    4\n",
      "Inclou les dades del Centre Cívic Casinet d'Hostafrancs.             3\n",
      "Part del centre en obres i s'ha reduït la programació.               2\n",
      "Name: count, dtype: int64\n"
     ]
    }
   ],
   "source": [
    "# 1. Análisis de variables geográficas\n",
    "print(\"1. Distribución por distrito:\")\n",
    "print(df.groupby(['nom_districte', 'codi_districte'])['valor'].agg(['count', 'mean']))\n",
    "\n",
    "print(\"\\n2. Top 5 barrios por número de actividades:\")\n",
    "print(df.groupby('nom_barri')['valor'].count().sort_values(ascending=False).head())\n",
    "\n",
    "# 3. Análisis de equipamientos\n",
    "print(\"\\n3. Distribución por equipamiento:\")\n",
    "equipamientos = df.groupby('equipament').agg({\n",
    "    'valor': ['count', 'mean'],\n",
    "    'latitud': 'first',\n",
    "    'longitud': 'first'\n",
    "}).round(4)\n",
    "print(equipamientos.head())\n",
    "\n",
    "# 4. Análisis del indicador\n",
    "print(\"\\n4. Tipos de indicadores:\")\n",
    "print(df.groupby('indicador')['valor'].agg(['count', 'mean', 'min', 'max']))\n",
    "\n",
    "# 5. Notas y observaciones\n",
    "if 'notes_equipament' in df.columns:\n",
    "    print(\"\\n5. Distribución de notas de equipamiento:\")\n",
    "    print(df['notes_equipament'].value_counts())\n",
    "\n",
    "if 'notes_dades' in df.columns:\n",
    "    print(\"\\n6. Distribución de notas de datos:\")\n",
    "    print(df['notes_dades'].value_counts())"
   ]
  },
  {
   "cell_type": "code",
   "execution_count": 33,
   "id": "ad15ac17",
   "metadata": {},
   "outputs": [
    {
     "name": "stdout",
     "output_type": "stream",
     "text": [
      "1. Top 5 centros por inscripciones por actividad:\n",
      "indicador                          equipament nom_districte  \\\n",
      "44                        Centre Cívic Urgell      Eixample   \n",
      "29              Centre Cívic La Casa Elizalde      Eixample   \n",
      "20         Centre Cívic El Coll - La Bruguera        Gràcia   \n",
      "24                    Centre Cívic Golferichs      Eixample   \n",
      "23                    Centre Cívic Fort Pienc      Eixample   \n",
      "\n",
      "indicador  inscripcions_per_activitat  \n",
      "44                              23.17  \n",
      "29                              19.75  \n",
      "20                              18.50  \n",
      "24                              17.86  \n",
      "23                              16.61  \n",
      "\n",
      "2. Top 5 centros por densidad de actividades:\n",
      "indicador                                         equipament   nom_districte  \\\n",
      "27         Centre Cívic Josep M. Trias i Peitx - Riera Bl...       Les Corts   \n",
      "28                                    Centre Cívic La Cadena  Sants-Montjuïc   \n",
      "44                                       Centre Cívic Urgell        Eixample   \n",
      "22                           Centre Cívic Font de la Guatlla  Sants-Montjuïc   \n",
      "9                                       Centre Cívic Can Deu       Les Corts   \n",
      "\n",
      "indicador  activitats_per_metre  \n",
      "27                        55.50  \n",
      "28                        46.55  \n",
      "44                        43.44  \n",
      "22                        39.84  \n",
      "9                         39.10  \n",
      "\n",
      "3. Estadísticas por distrito:\n",
      "indicador           inscripcions_per_activitat                \\\n",
      "                                          mean    min    max   \n",
      "nom_districte                                                  \n",
      "Ciutat Vella                             10.42   9.29  12.36   \n",
      "Eixample                                 16.53  10.79  23.17   \n",
      "Gràcia                                   17.55  16.59  18.50   \n",
      "Horta-Guinardó                           10.80   9.50  12.91   \n",
      "Les Corts                                 8.97   7.05  10.77   \n",
      "Nou Barris                               10.60   8.97  12.73   \n",
      "Sant Andreu                              12.06   9.98  13.96   \n",
      "Sant Martí                               11.29   9.77  12.97   \n",
      "Sants-Montjuïc                           11.14   9.46  13.92   \n",
      "Sarrià-Sant Gervasi                      12.05  10.50  14.63   \n",
      "\n",
      "indicador           activitats_per_metre              Metres_quadrats  \n",
      "                                    mean   min    max            mean  \n",
      "nom_districte                                                          \n",
      "Ciutat Vella                       12.36  7.07  16.21         1515.00  \n",
      "Eixample                           25.56  9.92  43.44         1459.83  \n",
      "Gràcia                             20.54  2.92  38.15         1293.50  \n",
      "Horta-Guinardó                     14.68  3.47  32.83          856.80  \n",
      "Les Corts                          28.88  7.24  55.50         1409.75  \n",
      "Nou Barris                         17.60  3.85  26.67         1301.50  \n",
      "Sant Andreu                        12.28  4.04  33.25         1200.00  \n",
      "Sant Martí                          4.38  2.58   5.76         3417.40  \n",
      "Sants-Montjuïc                     25.54  7.81  46.55         1232.17  \n",
      "Sarrià-Sant Gervasi                12.11  6.33  17.77         1217.12  \n"
     ]
    }
   ],
   "source": [
    "# 1. Pivotar los datos para tener los indicadores como columnas\n",
    "df_pivot = df.pivot_table(\n",
    "    index=['equipament', 'nom_districte', 'nom_barri'],\n",
    "    columns='indicador',\n",
    "    values='valor',\n",
    "    aggfunc='first'\n",
    ").reset_index()\n",
    "\n",
    "# 2. Calcular ratios\n",
    "df_pivot['inscripcions_per_activitat'] = (\n",
    "    df_pivot['InscripcionsActivitatsFormacio'] / \n",
    "    df_pivot['ActivitatsDeFormacio']\n",
    ").round(2)\n",
    "\n",
    "df_pivot['activitats_per_metre'] = (\n",
    "    df_pivot['ActivitatsDeFormacio'] / \n",
    "    df_pivot['Metres_quadrats'] * 100\n",
    ").round(2)\n",
    "\n",
    "# 3. Mostrar resultados\n",
    "print(\"1. Top 5 centros por inscripciones por actividad:\")\n",
    "print(df_pivot.nlargest(5, 'inscripcions_per_activitat')[\n",
    "    ['equipament', 'nom_districte', 'inscripcions_per_activitat']\n",
    "])\n",
    "\n",
    "print(\"\\n2. Top 5 centros por densidad de actividades:\")\n",
    "print(df_pivot.nlargest(5, 'activitats_per_metre')[\n",
    "    ['equipament', 'nom_districte', 'activitats_per_metre']\n",
    "])\n",
    "\n",
    "# 4. Estadísticas por distrito\n",
    "stats_distrito = df_pivot.groupby('nom_districte').agg({\n",
    "    'inscripcions_per_activitat': ['mean', 'min', 'max'],\n",
    "    'activitats_per_metre': ['mean', 'min', 'max'],\n",
    "    'Metres_quadrats': 'mean'\n",
    "}).round(2)\n",
    "\n",
    "print(\"\\n3. Estadísticas por distrito:\")\n",
    "print(stats_distrito)"
   ]
  },
  {
   "cell_type": "code",
   "execution_count": 34,
   "id": "46cbe584",
   "metadata": {},
   "outputs": [],
   "source": [
    "conclusiones = {\n",
    "    'Éxito de programación': {\n",
    "        'Eixample': 'Lidera en inscripciones y eficiencia',\n",
    "        'Gràcia': 'Alta tasa de participación',\n",
    "        'Les Corts': 'Mejor uso del espacio'\n",
    "    },\n",
    "    'Características espaciales': {\n",
    "        'Sant Martí': {\n",
    "            'espacios_grandes': 3417.40,  # m² promedio\n",
    "            'menor_densidad': 4.38        # actividades/100m²\n",
    "        },\n",
    "        'Horta-Guinardó': {\n",
    "            'espacios_pequeños': 856.80,  # m² promedio\n",
    "            'densidad_media': 14.68\n",
    "        }\n",
    "    }\n",
    "}"
   ]
  },
  {
   "cell_type": "code",
   "execution_count": 35,
   "id": "068ca465",
   "metadata": {},
   "outputs": [
    {
     "name": "stdout",
     "output_type": "stream",
     "text": [
      "1. Distribución geográfica de actividades:\n",
      "indicador                                               ActivitatsDeFormacio  \\\n",
      "nom_districte       nom_barri                                                  \n",
      "Eixample            la Nova Esquerra de l'Eixample                       795   \n",
      "                    la Dreta de l'Eixample                               598   \n",
      "Sants-Montjuïc      Sants                                               1099   \n",
      "Gràcia              el Camp d'en Grassot i Gràcia Nova                   491   \n",
      "Les Corts           la Maternitat i Sant Ramon                           777   \n",
      "Sant Andreu         Navas                                                399   \n",
      "Sarrià-Sant Gervasi el Putxet i el Farró                                 351   \n",
      "Les Corts           les Corts                                            430   \n",
      "Eixample            la Sagrada Família                                   325   \n",
      "Sarrià-Sant Gervasi Sant Gervasi - la Bonanova                           247   \n",
      "\n",
      "indicador                                               InscripcionsActivitatsFormacio  \\\n",
      "nom_districte       nom_barri                                                            \n",
      "Eixample            la Nova Esquerra de l'Eixample                               16397   \n",
      "                    la Dreta de l'Eixample                                       11809   \n",
      "Sants-Montjuïc      Sants                                                        11354   \n",
      "Gràcia              el Camp d'en Grassot i Gràcia Nova                            8147   \n",
      "Les Corts           la Maternitat i Sant Ramon                                    7447   \n",
      "Sant Andreu         Navas                                                         4162   \n",
      "Sarrià-Sant Gervasi el Putxet i el Farró                                          4055   \n",
      "Les Corts           les Corts                                                     3757   \n",
      "Eixample            la Sagrada Família                                            3580   \n",
      "Sarrià-Sant Gervasi Sant Gervasi - la Bonanova                                    3296   \n",
      "\n",
      "indicador                                               Metres_quadrats  \n",
      "nom_districte       nom_barri                                            \n",
      "Eixample            la Nova Esquerra de l'Eixample                 1978  \n",
      "                    la Dreta de l'Eixample                         1800  \n",
      "Sants-Montjuïc      Sants                                          3167  \n",
      "Gràcia              el Camp d'en Grassot i Gràcia Nova             1287  \n",
      "Les Corts           la Maternitat i Sant Ramon                     3233  \n",
      "Sant Andreu         Navas                                          1200  \n",
      "Sarrià-Sant Gervasi el Putxet i el Farró                           3415  \n",
      "Les Corts           les Corts                                      2406  \n",
      "Eixample            la Sagrada Família                             1900  \n",
      "Sarrià-Sant Gervasi Sant Gervasi - la Bonanova                     1861  \n",
      "\n",
      "2. Matriz de correlaciones:\n",
      "indicador                       ActivitatsDeFormacio  \\\n",
      "indicador                                              \n",
      "ActivitatsDeFormacio                            1.00   \n",
      "InscripcionsActivitatsFormacio                  0.90   \n",
      "Metres_quadrats                                 0.23   \n",
      "\n",
      "indicador                       InscripcionsActivitatsFormacio  \\\n",
      "indicador                                                        \n",
      "ActivitatsDeFormacio                                      0.90   \n",
      "InscripcionsActivitatsFormacio                            1.00   \n",
      "Metres_quadrats                                           0.16   \n",
      "\n",
      "indicador                       Metres_quadrats  \n",
      "indicador                                        \n",
      "ActivitatsDeFormacio                       0.23  \n",
      "InscripcionsActivitatsFormacio             0.16  \n",
      "Metres_quadrats                            1.00  \n",
      "\n",
      "3. Estadísticas por tamaño de centro:\n",
      "indicador        Metres_quadrats             ActivitatsDeFormacio  \\\n",
      "                            mean   min   max                 mean   \n",
      "categoria_tamany                                                    \n",
      "Petit                     660.00   287   880               155.92   \n",
      "Mitjà-petit              1035.21   900  1200               193.50   \n",
      "Mitjà-gran               1471.27  1287  1655               160.36   \n",
      "Gran                     2761.15  1775  5470               299.54   \n",
      "\n",
      "indicador        inscripcions_per_activitat  \n",
      "                                       mean  \n",
      "categoria_tamany                             \n",
      "Petit                                 11.48  \n",
      "Mitjà-petit                           12.32  \n",
      "Mitjà-gran                            12.88  \n",
      "Gran                                  11.45  \n",
      "\n",
      "5. Top 5 centros por eficiencia total:\n",
      "indicador                                         equipament nom_districte  \\\n",
      "44                                       Centre Cívic Urgell      Eixample   \n",
      "24                                   Centre Cívic Golferichs      Eixample   \n",
      "29                             Centre Cívic La Casa Elizalde      Eixample   \n",
      "31                                    Centre Cívic La Sedeta        Gràcia   \n",
      "27         Centre Cívic Josep M. Trias i Peitx - Riera Bl...     Les Corts   \n",
      "\n",
      "indicador  inscripcions_per_metre  \n",
      "44                          10.06  \n",
      "24                           6.64  \n",
      "29                           6.56  \n",
      "31                           6.33  \n",
      "27                           4.82  \n"
     ]
    },
    {
     "name": "stderr",
     "output_type": "stream",
     "text": [
      "C:\\Users\\Usuario\\AppData\\Local\\Temp\\ipykernel_15168\\2292553290.py:24: FutureWarning: The default of observed=False is deprecated and will be changed to True in a future version of pandas. Pass observed=False to retain current behavior or observed=True to adopt the future default and silence this warning.\n",
      "  tamany_stats = df_pivot.groupby('categoria_tamany').agg({\n"
     ]
    }
   ],
   "source": [
    "# 1. Análisis espacial más detallado\n",
    "print(\"1. Distribución geográfica de actividades:\")\n",
    "geo_analysis = df_pivot.groupby(['nom_districte', 'nom_barri']).agg({\n",
    "    'ActivitatsDeFormacio': 'sum',\n",
    "    'InscripcionsActivitatsFormacio': 'sum',\n",
    "    'Metres_quadrats': 'sum'\n",
    "}).sort_values('InscripcionsActivitatsFormacio', ascending=False)\n",
    "print(geo_analysis.head(10))\n",
    "\n",
    "# 2. Correlaciones entre variables numéricas\n",
    "print(\"\\n2. Matriz de correlaciones:\")\n",
    "correlations = df_pivot[['ActivitatsDeFormacio', \n",
    "                        'InscripcionsActivitatsFormacio', \n",
    "                        'Metres_quadrats']].corr()\n",
    "print(correlations.round(2))\n",
    "\n",
    "# 3. Análisis por tamaño de centro\n",
    "df_pivot['categoria_tamany'] = pd.qcut(df_pivot['Metres_quadrats'], \n",
    "                                     q=4, \n",
    "                                     labels=['Petit', 'Mitjà-petit', \n",
    "                                           'Mitjà-gran', 'Gran'])\n",
    "\n",
    "print(\"\\n3. Estadísticas por tamaño de centro:\")\n",
    "tamany_stats = df_pivot.groupby('categoria_tamany').agg({\n",
    "    'Metres_quadrats': ['mean', 'min', 'max'],\n",
    "    'ActivitatsDeFormacio': 'mean',\n",
    "    'inscripcions_per_activitat': 'mean'\n",
    "}).round(2)\n",
    "print(tamany_stats)\n",
    "\n",
    "# 4. Análisis temporal (si hay datos temporales)\n",
    "if 'any' in df_pivot.columns or 'mes' in df_pivot.columns:\n",
    "    print(\"\\n4. Evolución temporal:\")\n",
    "    # Añadir análisis temporal aquí\n",
    "\n",
    "# 5. Ratios adicionales\n",
    "df_pivot['inscripcions_per_metre'] = (\n",
    "    df_pivot['InscripcionsActivitatsFormacio'] / \n",
    "    df_pivot['Metres_quadrats']\n",
    ").round(2)\n",
    "\n",
    "print(\"\\n5. Top 5 centros por eficiencia total:\")\n",
    "print(df_pivot.nlargest(5, 'inscripcions_per_metre')[\n",
    "    ['equipament', 'nom_districte', 'inscripcions_per_metre']\n",
    "])"
   ]
  },
  {
   "cell_type": "code",
   "execution_count": 36,
   "id": "187b442f",
   "metadata": {},
   "outputs": [],
   "source": [
    "categorias_tamany = {\n",
    "    'Petit': {\n",
    "        'media_m2': 660,\n",
    "        'actividades': 155.92,\n",
    "        'ratio_inscripcion': 11.48\n",
    "    },\n",
    "    'Mitjà-petit': {\n",
    "        'media_m2': 1035.21,\n",
    "        'actividades': 193.50,\n",
    "        'ratio_inscripcion': 12.32\n",
    "    },\n",
    "    'Mitjà-gran': {\n",
    "        'media_m2': 1471.27,\n",
    "        'actividades': 160.36,\n",
    "        'ratio_inscripcion': 12.88\n",
    "    },\n",
    "    'Gran': {\n",
    "        'media_m2': 2761.15,\n",
    "        'actividades': 299.54,\n",
    "        'ratio_inscripcion': 11.45\n",
    "    }\n",
    "}\n",
    "\n",
    "# El Eixample domina en eficiencia y actividad\n",
    "# El tamaño del centro no determina su éxito\n",
    "# Los centros medianos tienen mejor ratio de inscripciones\n",
    "# Alta correlación entre actividades e inscripciones\n",
    "# El espacio físico no es determinante para el éxito\n"
   ]
  },
  {
   "cell_type": "markdown",
   "id": "e25cfc89",
   "metadata": {},
   "source": [
    "### DUPLICADOS"
   ]
  },
  {
   "cell_type": "markdown",
   "id": "8a079ed3",
   "metadata": {},
   "source": [
    "- Identificación"
   ]
  },
  {
   "cell_type": "code",
   "execution_count": 37,
   "id": "f5b23bfc",
   "metadata": {
    "scrolled": true
   },
   "outputs": [
    {
     "data": {
      "text/plain": [
       "np.int64(0)"
      ]
     },
     "execution_count": 37,
     "metadata": {},
     "output_type": "execute_result"
    }
   ],
   "source": [
    "df.duplicated().sum()"
   ]
  },
  {
   "cell_type": "markdown",
   "id": "d440242b",
   "metadata": {},
   "source": [
    "- Corrección"
   ]
  },
  {
   "cell_type": "code",
   "execution_count": 38,
   "id": "a693f362",
   "metadata": {},
   "outputs": [],
   "source": [
    "# df.drop_duplicates(inplace = True)"
   ]
  },
  {
   "cell_type": "markdown",
   "id": "632ec2cd",
   "metadata": {},
   "source": [
    "### SEPARAR NUMÉRICAS Y CATEGÓRICAS"
   ]
  },
  {
   "cell_type": "markdown",
   "id": "573a61ac",
   "metadata": {},
   "source": [
    "**Categóricas**"
   ]
  },
  {
   "cell_type": "code",
   "execution_count": 39,
   "id": "47a7eece",
   "metadata": {},
   "outputs": [],
   "source": [
    "cat = df.select_dtypes(exclude = 'number').copy()"
   ]
  },
  {
   "cell_type": "markdown",
   "id": "41756893",
   "metadata": {},
   "source": [
    "**Numéricas**"
   ]
  },
  {
   "cell_type": "code",
   "execution_count": 40,
   "id": "59140e9a",
   "metadata": {},
   "outputs": [],
   "source": [
    "num = df.select_dtypes(include='number').copy()"
   ]
  },
  {
   "cell_type": "markdown",
   "id": "5e7d8e7e",
   "metadata": {},
   "source": [
    "### GESTIÓN DE CATEGÓRICAS"
   ]
  },
  {
   "cell_type": "markdown",
   "id": "5b5808b7",
   "metadata": {},
   "source": [
    "#### NULOS"
   ]
  },
  {
   "cell_type": "markdown",
   "id": "5c08ca55",
   "metadata": {},
   "source": [
    "Identificación"
   ]
  },
  {
   "cell_type": "code",
   "execution_count": 41,
   "id": "da49ae63",
   "metadata": {
    "scrolled": true
   },
   "outputs": [
    {
     "data": {
      "text/plain": [
       "notes_equipament    147\n",
       "notes_dades         144\n",
       "indicador             0\n",
       "equipament            0\n",
       "nom_districte         0\n",
       "nom_barri             0\n",
       "dtype: int64"
      ]
     },
     "execution_count": 41,
     "metadata": {},
     "output_type": "execute_result"
    }
   ],
   "source": [
    "cat.isna().sum().sort_values(ascending = False)"
   ]
  },
  {
   "cell_type": "markdown",
   "id": "6802d575",
   "metadata": {},
   "source": [
    "Corrección"
   ]
  },
  {
   "cell_type": "markdown",
   "id": "8b7a0f5c",
   "metadata": {},
   "source": [
    "- Eliminar la variable"
   ]
  },
  {
   "cell_type": "code",
   "execution_count": 42,
   "id": "e73e2300",
   "metadata": {},
   "outputs": [],
   "source": [
    "# Opción 1: Eliminar estas columnas por tener demasiados nulos\n",
    "cat = cat.drop(columns=['notes_equipament', 'notes_dades'])\n",
    "\n",
    "# # Opción 2: Mantenerlas pero imputar con un valor específico\n",
    "# cat['notes_equipament'] = cat['notes_equipament'].fillna('Sin notas')\n",
    "# cat['notes_dades'] = cat['notes_dades'].fillna('Sin notas')\n",
    "\n",
    "# Opción 3: Mantenerlas tal cual si la información, aunque escasa, es valiosa"
   ]
  },
  {
   "cell_type": "markdown",
   "id": "cdd2db55",
   "metadata": {},
   "source": [
    "- Eliminar registros"
   ]
  },
  {
   "cell_type": "markdown",
   "id": "d50e87a0",
   "metadata": {},
   "source": [
    "*Cuidado: Si se eliminan registros hay que eliminarlos tanto de cat como de num*"
   ]
  },
  {
   "cell_type": "code",
   "execution_count": 43,
   "id": "62ad5097",
   "metadata": {},
   "outputs": [],
   "source": [
    "# criterio = 3\n",
    "# cat.dropna(thresh=criterio, inplace=True)\n",
    "# num.dropna(thresh=criterio, inplace=True)"
   ]
  },
  {
   "cell_type": "markdown",
   "id": "ebeb52a6",
   "metadata": {},
   "source": [
    "- Imputar por un valor"
   ]
  },
  {
   "cell_type": "markdown",
   "id": "2cba1c3c",
   "metadata": {},
   "source": [
    "Variables a imputar"
   ]
  },
  {
   "cell_type": "code",
   "execution_count": 44,
   "id": "4050ef9f",
   "metadata": {},
   "outputs": [],
   "source": [
    "# var_imputar_valor = ['resultado_campana_anterior','formacion']"
   ]
  },
  {
   "cell_type": "markdown",
   "id": "fa866ac6",
   "metadata": {},
   "source": [
    "Valor por el que imputar"
   ]
  },
  {
   "cell_type": "code",
   "execution_count": 45,
   "id": "10abb34a",
   "metadata": {},
   "outputs": [],
   "source": [
    "# valor = 'NULO'"
   ]
  },
  {
   "cell_type": "markdown",
   "id": "78d10252",
   "metadata": {},
   "source": [
    "- Imputar"
   ]
  },
  {
   "cell_type": "code",
   "execution_count": 46,
   "id": "f16e8491",
   "metadata": {},
   "outputs": [],
   "source": [
    "# cat[var_imputar_valor] = cat[var_imputar_valor].fillna(valor)"
   ]
  },
  {
   "cell_type": "markdown",
   "id": "c111e44d",
   "metadata": {},
   "source": [
    "- Imputar por la moda"
   ]
  },
  {
   "cell_type": "markdown",
   "id": "4c1a9c46",
   "metadata": {},
   "source": [
    "Variables a imputar"
   ]
  },
  {
   "cell_type": "code",
   "execution_count": 47,
   "id": "cf4cee3d",
   "metadata": {},
   "outputs": [],
   "source": [
    "# var_imputar_moda = ['resultado_campana_anterior','formacion']"
   ]
  },
  {
   "cell_type": "markdown",
   "id": "e3a31c7d",
   "metadata": {},
   "source": [
    "Funcion para imputar con la moda"
   ]
  },
  {
   "cell_type": "code",
   "execution_count": 48,
   "id": "6d7c902b",
   "metadata": {},
   "outputs": [],
   "source": [
    "# def imputar_moda(variable):\n",
    "#     return(variable.fillna(variable.mode()[0]))"
   ]
  },
  {
   "cell_type": "markdown",
   "id": "b2c3ceba",
   "metadata": {},
   "source": [
    "Imputar con la moda"
   ]
  },
  {
   "cell_type": "code",
   "execution_count": 49,
   "id": "5f5184ef",
   "metadata": {},
   "outputs": [],
   "source": [
    "# cat[var_imputar_moda] = cat[var_imputar_moda].apply(imputar_moda)"
   ]
  },
  {
   "cell_type": "markdown",
   "id": "913cd65d",
   "metadata": {},
   "source": [
    "### ATÍPICOS"
   ]
  },
  {
   "cell_type": "markdown",
   "id": "5a575397",
   "metadata": {},
   "source": [
    "- Categorías poco frecuentes"
   ]
  },
  {
   "cell_type": "markdown",
   "id": "e88c9f39",
   "metadata": {},
   "source": [
    "Función para agrupar categorías raras en 'OTROS'"
   ]
  },
  {
   "cell_type": "code",
   "execution_count": 50,
   "id": "c59f8d06",
   "metadata": {},
   "outputs": [],
   "source": [
    "# def agrupar_cat_raras(variable, criterio = 0.05):\n",
    "#     # Calcula las frecuencias\n",
    "#     frecuencias = variable.value_counts(normalize=True)\n",
    "#     # Identifica las que están por debajo del criterio\n",
    "#     temp = [cada for cada in frecuencias.loc[frecuencias < criterio].index.values]\n",
    "#     # Las recodifica en 'OTROS'\n",
    "#     temp2 = np.where(variable.isin(temp),'OTROS',variable)\n",
    "#     # Devuelve el resultado\n",
    "#     return(temp2)"
   ]
  },
  {
   "cell_type": "markdown",
   "id": "4205e067",
   "metadata": {},
   "source": [
    "Variables a imputar"
   ]
  },
  {
   "cell_type": "code",
   "execution_count": 51,
   "id": "ec35c874",
   "metadata": {},
   "outputs": [],
   "source": [
    "# var_imputar_moda = ['trabajo','estado_civil']"
   ]
  },
  {
   "cell_type": "markdown",
   "id": "5eaca402",
   "metadata": {},
   "source": [
    "Aplicar"
   ]
  },
  {
   "cell_type": "code",
   "execution_count": 52,
   "id": "2b187bc7",
   "metadata": {},
   "outputs": [],
   "source": [
    "# for variable in var_imputar_moda:\n",
    "#     cat[variable] = agrupar_cat_raras(cat[variable],criterio = 0.02)"
   ]
  },
  {
   "cell_type": "markdown",
   "id": "db3a72a6",
   "metadata": {},
   "source": [
    "### GESTIÓN DE NUMÉRICAS"
   ]
  },
  {
   "cell_type": "markdown",
   "id": "d65bd06a",
   "metadata": {},
   "source": [
    "#### NULOS"
   ]
  },
  {
   "cell_type": "markdown",
   "id": "e5ee8416",
   "metadata": {},
   "source": [
    "Identificación"
   ]
  },
  {
   "cell_type": "code",
   "execution_count": 53,
   "id": "c9f054a3",
   "metadata": {
    "scrolled": true
   },
   "outputs": [
    {
     "data": {
      "text/plain": [
       "valor             0\n",
       "codi_districte    0\n",
       "codi_barri        0\n",
       "latitud           0\n",
       "longitud          0\n",
       "dtype: int64"
      ]
     },
     "execution_count": 53,
     "metadata": {},
     "output_type": "execute_result"
    }
   ],
   "source": [
    "num.isna().sum().sort_values(ascending = False)"
   ]
  },
  {
   "cell_type": "markdown",
   "id": "1b7cb2c4",
   "metadata": {},
   "source": [
    "Corrección"
   ]
  },
  {
   "cell_type": "markdown",
   "id": "48c76393",
   "metadata": {},
   "source": [
    "- Eliminar la variable"
   ]
  },
  {
   "cell_type": "code",
   "execution_count": 54,
   "id": "ba078af2",
   "metadata": {},
   "outputs": [],
   "source": [
    "# num.drop(columns = 'num_contactos_otras_campanas',inplace = True)"
   ]
  },
  {
   "cell_type": "markdown",
   "id": "aab11eff",
   "metadata": {},
   "source": [
    "- Eliminar registros"
   ]
  },
  {
   "cell_type": "markdown",
   "id": "fa00a59d",
   "metadata": {},
   "source": [
    "*Cuidado: Si se eliminan registros hay que eliminarlos tanto de cat como de num*"
   ]
  },
  {
   "cell_type": "code",
   "execution_count": 55,
   "id": "c5292f66",
   "metadata": {},
   "outputs": [],
   "source": [
    "# criterio = 3\n",
    "# cat.dropna(thresh=criterio, inplace=True)\n",
    "# num.dropna(thresh=criterio, inplace=True)"
   ]
  },
  {
   "cell_type": "markdown",
   "id": "214264cb",
   "metadata": {},
   "source": [
    "- Imputar por la media"
   ]
  },
  {
   "cell_type": "markdown",
   "id": "1f927674",
   "metadata": {},
   "source": [
    "Variables a imputar"
   ]
  },
  {
   "cell_type": "code",
   "execution_count": 56,
   "id": "17c30954",
   "metadata": {},
   "outputs": [],
   "source": [
    "# var_imputar_media = ['edad','num_contactos_esta_campana']"
   ]
  },
  {
   "cell_type": "markdown",
   "id": "ac2fbb2c",
   "metadata": {},
   "source": [
    "Funcion para imputar con la media"
   ]
  },
  {
   "cell_type": "code",
   "execution_count": 57,
   "id": "e8ffdb3d",
   "metadata": {},
   "outputs": [],
   "source": [
    "# def imputar_media(variable):\n",
    "#     if pd.api.types.is_integer_dtype(variable):\n",
    "#         return(variable.fillna(int(variable.mean())))\n",
    "#     else:\n",
    "#         return(variable.fillna(variable.mean()))"
   ]
  },
  {
   "cell_type": "markdown",
   "id": "54407baa",
   "metadata": {},
   "source": [
    "- Imputar con la media"
   ]
  },
  {
   "cell_type": "code",
   "execution_count": 58,
   "id": "605f7ad2",
   "metadata": {},
   "outputs": [],
   "source": [
    "# num[var_imputar_media] = num[var_imputar_media].apply(imputar_media)"
   ]
  },
  {
   "cell_type": "markdown",
   "id": "649c19f3",
   "metadata": {},
   "source": [
    "- Imputar por la mediana"
   ]
  },
  {
   "cell_type": "markdown",
   "id": "d22ea297",
   "metadata": {},
   "source": [
    "Variables a imputar"
   ]
  },
  {
   "cell_type": "code",
   "execution_count": 59,
   "id": "37e4d7f6",
   "metadata": {},
   "outputs": [],
   "source": [
    "# var_imputar_mediana = ['edad','num_contactos_esta_campana']"
   ]
  },
  {
   "cell_type": "markdown",
   "id": "432c371c",
   "metadata": {},
   "source": [
    "Funcion para imputar con la mediana"
   ]
  },
  {
   "cell_type": "code",
   "execution_count": 60,
   "id": "66679233",
   "metadata": {},
   "outputs": [],
   "source": [
    "# def imputar_mediana(variable):\n",
    "#     if pd.api.types.is_integer_dtype(variable):\n",
    "#         return(variable.fillna(int(variable.median())))\n",
    "#     else:\n",
    "#         return(variable.fillna(variable.median()))"
   ]
  },
  {
   "cell_type": "markdown",
   "id": "70d7a1c5",
   "metadata": {},
   "source": [
    "- Imputar con la mediana"
   ]
  },
  {
   "cell_type": "code",
   "execution_count": 61,
   "id": "887a4106",
   "metadata": {},
   "outputs": [],
   "source": [
    "# num[var_imputar_mediana] = num[var_imputar_mediana].apply(imputar_mediana)"
   ]
  },
  {
   "cell_type": "markdown",
   "id": "82cb56e8",
   "metadata": {},
   "source": [
    "### ATÍPICOS"
   ]
  },
  {
   "cell_type": "markdown",
   "id": "760baf8c",
   "metadata": {},
   "source": [
    "**Por desviación típica**"
   ]
  },
  {
   "cell_type": "markdown",
   "id": "4b508149",
   "metadata": {},
   "source": [
    "- Identificación"
   ]
  },
  {
   "cell_type": "markdown",
   "id": "8ceda3d3",
   "metadata": {},
   "source": [
    "Definir el número de desviaciones típicas"
   ]
  },
  {
   "cell_type": "code",
   "execution_count": 62,
   "id": "2b7419cb",
   "metadata": {},
   "outputs": [],
   "source": [
    "# num_desv_tip = 4"
   ]
  },
  {
   "cell_type": "markdown",
   "id": "942da237",
   "metadata": {},
   "source": [
    "Función que devuelve los índices de los atípicos"
   ]
  },
  {
   "cell_type": "code",
   "execution_count": 63,
   "id": "8a81f494",
   "metadata": {},
   "outputs": [],
   "source": [
    "# def atipicos_desv_tip(variable, num_desv_tip = 4):\n",
    "#     #sacamos los nulos por ahora\n",
    "#     variable = variable.dropna()\n",
    "#     #calculamos los límites\n",
    "#     media = np.mean(variable)\n",
    "#     sd = np.std(variable)\n",
    "#     umbral = sd * num_desv_tip\n",
    "#     lim_inf = media - umbral\n",
    "#     lim_sup = media + umbral\n",
    "#     #encontramos los índices de los que están fuera de los límites\n",
    "#     indices = [indice for indice,valor in variable.items() if valor < lim_inf or valor > lim_sup]\n",
    "#     return(indices)"
   ]
  },
  {
   "cell_type": "markdown",
   "id": "768e7398",
   "metadata": {},
   "source": [
    "Función que cuenta el número de atípicos"
   ]
  },
  {
   "cell_type": "code",
   "execution_count": 64,
   "id": "5c8f4462",
   "metadata": {},
   "outputs": [],
   "source": [
    "# def conteo_atipicos(df,variable, num_desv_tip = 4):\n",
    "#     atipicos = atipicos_desv_tip(df[variable], num_desv_tip)\n",
    "#     return(df.loc[atipicos,variable].value_counts())"
   ]
  },
  {
   "cell_type": "markdown",
   "id": "5cd1e425",
   "metadata": {},
   "source": [
    "Variables a aplicar"
   ]
  },
  {
   "cell_type": "code",
   "execution_count": 65,
   "id": "cfbb3d88",
   "metadata": {},
   "outputs": [],
   "source": [
    "# var_atipicos_dt = ['edad','num_contactos_esta_campana']"
   ]
  },
  {
   "cell_type": "markdown",
   "id": "ac400ced",
   "metadata": {},
   "source": [
    "Aplicar"
   ]
  },
  {
   "cell_type": "code",
   "execution_count": 66,
   "id": "c4b74e98",
   "metadata": {},
   "outputs": [],
   "source": [
    "# for variable in var_atipicos_dt:\n",
    "#     print('\\n' + variable + ':\\n')\n",
    "#     print(conteo_atipicos(num,variable,num_desv_tip))"
   ]
  },
  {
   "cell_type": "markdown",
   "id": "5197aae9",
   "metadata": {},
   "source": [
    "- Corrección"
   ]
  },
  {
   "cell_type": "markdown",
   "id": "2b9255dd",
   "metadata": {},
   "source": [
    "Eliminar los registros que tengan al menos un atípico en alguna de las variables indicadas."
   ]
  },
  {
   "cell_type": "markdown",
   "id": "e1233b46",
   "metadata": {},
   "source": [
    "*Cuidado: Si se eliminan registros hay que eliminarlos tanto de cat como de num*"
   ]
  },
  {
   "cell_type": "markdown",
   "id": "18548d6d",
   "metadata": {},
   "source": [
    "Variables a aplicar"
   ]
  },
  {
   "cell_type": "code",
   "execution_count": 67,
   "id": "81e715d9",
   "metadata": {},
   "outputs": [],
   "source": [
    "# var_atipicos_dt = ['edad','num_contactos_esta_campana']"
   ]
  },
  {
   "cell_type": "markdown",
   "id": "b995bf77",
   "metadata": {},
   "source": [
    "Aplicar"
   ]
  },
  {
   "cell_type": "code",
   "execution_count": 68,
   "id": "413fa5ea",
   "metadata": {},
   "outputs": [],
   "source": [
    "# for variable in var_atipicos_dt:\n",
    "#     cat.drop(atipicos_desv_tip(num[variable], num_desv_tip),axis = 0, inplace = True)\n",
    "#     num.drop(atipicos_desv_tip(num[variable], num_desv_tip),axis = 0, inplace = True)"
   ]
  },
  {
   "cell_type": "markdown",
   "id": "47862bcf",
   "metadata": {},
   "source": [
    "**Por winsorización manual para una variable** "
   ]
  },
  {
   "cell_type": "markdown",
   "id": "963a3881",
   "metadata": {},
   "source": [
    "- Identificación"
   ]
  },
  {
   "cell_type": "markdown",
   "id": "af41a20d",
   "metadata": {},
   "source": [
    "Variable a analizar"
   ]
  },
  {
   "cell_type": "code",
   "execution_count": 69,
   "id": "f90db9dc",
   "metadata": {},
   "outputs": [],
   "source": [
    "# variable = 'variacion_tasa_empleo'"
   ]
  },
  {
   "cell_type": "markdown",
   "id": "e0332345",
   "metadata": {},
   "source": [
    "Comprobar el mínimo y máximo actual"
   ]
  },
  {
   "cell_type": "code",
   "execution_count": 70,
   "id": "64d5394b",
   "metadata": {},
   "outputs": [],
   "source": [
    "# num[variable].describe().loc[['min','max']]"
   ]
  },
  {
   "cell_type": "markdown",
   "id": "28d07312",
   "metadata": {},
   "source": [
    "- Corrección"
   ]
  },
  {
   "cell_type": "markdown",
   "id": "fbea3a26",
   "metadata": {},
   "source": [
    "Definir el mínimo y máximo tolerable."
   ]
  },
  {
   "cell_type": "code",
   "execution_count": 71,
   "id": "c8b2d8dc",
   "metadata": {},
   "outputs": [],
   "source": [
    "# minimo = -20\n",
    "# maximo = 10"
   ]
  },
  {
   "cell_type": "markdown",
   "id": "be19a3d1",
   "metadata": {},
   "source": [
    "Aplicar"
   ]
  },
  {
   "cell_type": "code",
   "execution_count": 72,
   "id": "a607d0dd",
   "metadata": {},
   "outputs": [],
   "source": [
    "# num[variable].clip(minimo,maximo, inplace=True)"
   ]
  },
  {
   "cell_type": "markdown",
   "id": "ec69099e",
   "metadata": {},
   "source": [
    "**Por winsorización automática para múltiples variables**"
   ]
  },
  {
   "cell_type": "markdown",
   "id": "49b8433c",
   "metadata": {},
   "source": [
    "Variables a winsorizar"
   ]
  },
  {
   "cell_type": "code",
   "execution_count": 73,
   "id": "e4b6c723",
   "metadata": {},
   "outputs": [],
   "source": [
    "# var_winsorizar = ['edad','num_contactos_esta_campana']"
   ]
  },
  {
   "cell_type": "markdown",
   "id": "9478239d",
   "metadata": {},
   "source": [
    "Definir los percentiles mínimos y máximos."
   ]
  },
  {
   "cell_type": "code",
   "execution_count": 74,
   "id": "0596e25f",
   "metadata": {},
   "outputs": [],
   "source": [
    "# p_min = 0.01\n",
    "# p_max = 0.99"
   ]
  },
  {
   "cell_type": "markdown",
   "id": "878af32b",
   "metadata": {},
   "source": [
    "Aplicar"
   ]
  },
  {
   "cell_type": "code",
   "execution_count": 75,
   "id": "b0317b54",
   "metadata": {},
   "outputs": [],
   "source": [
    "# for variable in var_winsorizar:\n",
    "#     num[variable].clip(lower = num[variable].quantile(p_min), \n",
    "#                        upper = num[variable].quantile(p_max), \n",
    "#                        inplace = True)"
   ]
  },
  {
   "cell_type": "markdown",
   "id": "0f6b1e4a",
   "metadata": {},
   "source": [
    "### GUARDAR DATASETS TRAS CALIDAD DE DATOS"
   ]
  },
  {
   "cell_type": "markdown",
   "id": "1e211b09",
   "metadata": {},
   "source": [
    "Guarda los avances en df, cat y num con un sufijo para poder guardar o recuperar avances del proyecto.\n",
    "\n",
    "En formato pickle para no perder las modificaciones de metadatos."
   ]
  },
  {
   "cell_type": "markdown",
   "id": "abb12eef",
   "metadata": {},
   "source": [
    "- Definir los nombres de los archivos"
   ]
  },
  {
   "cell_type": "code",
   "execution_count": 76,
   "id": "f83c6f26",
   "metadata": {},
   "outputs": [],
   "source": [
    "ruta_trabajo = ruta_proyecto + '/02_Datos/03_Trabajo/' + '2023_centres_civics_activitats_formacio.pickle'\n",
    "ruta_cat = ruta_proyecto + '/02_Datos/03_Trabajo/' + 'cat_2023_centres_civics_activitats_formacio.pickle'\n",
    "ruta_num = ruta_proyecto + '/02_Datos/03_Trabajo/' + 'num_2023_centres_civics_activitats_formacio.pickle'"
   ]
  },
  {
   "cell_type": "markdown",
   "id": "1699f284",
   "metadata": {},
   "source": [
    "- Guardar los archivos"
   ]
  },
  {
   "cell_type": "code",
   "execution_count": 77,
   "id": "6731887a",
   "metadata": {},
   "outputs": [],
   "source": [
    "df.to_pickle(ruta_trabajo)\n",
    "cat.to_pickle(ruta_cat)\n",
    "num.to_pickle(ruta_num)"
   ]
  }
 ],
 "metadata": {
  "kernelspec": {
   "display_name": "Python 3 (ipykernel)",
   "language": "python",
   "name": "python3"
  },
  "language_info": {
   "codemirror_mode": {
    "name": "ipython",
    "version": 3
   },
   "file_extension": ".py",
   "mimetype": "text/x-python",
   "name": "python",
   "nbconvert_exporter": "python",
   "pygments_lexer": "ipython3",
   "version": "3.10.14"
  },
  "toc": {
   "base_numbering": 1,
   "nav_menu": {},
   "number_sections": true,
   "sideBar": true,
   "skip_h1_title": false,
   "title_cell": "Table of Contents",
   "title_sidebar": "Contents",
   "toc_cell": false,
   "toc_position": {
    "height": "calc(100% - 180px)",
    "left": "10px",
    "top": "150px",
    "width": "406.5px"
   },
   "toc_section_display": true,
   "toc_window_display": true
  },
  "varInspector": {
   "cols": {
    "lenName": 16,
    "lenType": 16,
    "lenVar": 40
   },
   "kernels_config": {
    "python": {
     "delete_cmd_postfix": "",
     "delete_cmd_prefix": "del ",
     "library": "var_list.py",
     "varRefreshCmd": "print(var_dic_list())"
    },
    "r": {
     "delete_cmd_postfix": ") ",
     "delete_cmd_prefix": "rm(",
     "library": "var_list.r",
     "varRefreshCmd": "cat(var_dic_list()) "
    }
   },
   "position": {
    "height": "546.85px",
    "left": "680.75px",
    "right": "20px",
    "top": "118px",
    "width": "350px"
   },
   "types_to_exclude": [
    "module",
    "function",
    "builtin_function_or_method",
    "instance",
    "_Feature"
   ],
   "window_display": false
  }
 },
 "nbformat": 4,
 "nbformat_minor": 5
}
