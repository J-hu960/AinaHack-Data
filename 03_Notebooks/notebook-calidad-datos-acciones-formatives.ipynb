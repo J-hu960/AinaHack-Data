{
 "cells": [
  {
   "cell_type": "markdown",
   "id": "d31dea65",
   "metadata": {},
   "source": [
    "### AINAHACK - 2022_accions_formatives.csv"
   ]
  },
  {
   "cell_type": "markdown",
   "id": "swiss-fault",
   "metadata": {},
   "source": [
    "### IMPORTAR PAQUETES"
   ]
  },
  {
   "cell_type": "code",
   "execution_count": 16,
   "id": "adjacent-toddler",
   "metadata": {},
   "outputs": [],
   "source": [
    "import numpy as np\n",
    "import pandas as pd\n",
    "from janitor import clean_names\n",
    "\n",
    "# Automcompletar rápido\n",
    "%config IPCompleter.greedy=True"
   ]
  },
  {
   "cell_type": "markdown",
   "id": "graduate-compensation",
   "metadata": {},
   "source": [
    "### IMPORTAR LOS DATOS"
   ]
  },
  {
   "cell_type": "markdown",
   "id": "ba473b09",
   "metadata": {},
   "source": [
    "Sustituir el nombre_fichero_datos."
   ]
  },
  {
   "cell_type": "code",
   "execution_count": 17,
   "id": "5d9dc5ea",
   "metadata": {},
   "outputs": [],
   "source": [
    "nombre_fichero_datos = '2022_accions_formatives.csv'"
   ]
  },
  {
   "cell_type": "markdown",
   "id": "ae75bf0b",
   "metadata": {},
   "source": [
    "Cargar los datos."
   ]
  },
  {
   "cell_type": "code",
   "execution_count": 18,
   "id": "24ff453b",
   "metadata": {},
   "outputs": [
    {
     "name": "stdout",
     "output_type": "stream",
     "text": [
      "Archivo cargado exitosamente desde: C:\\Users\\Usuario\\Downloads\\YTT\\AINAHACK\\AinaHack-Data\\02_Datos\\01_Originales\\2022_accions-formatives.csv\n"
     ]
    },
    {
     "data": {
      "text/html": [
       "<div>\n",
       "<style scoped>\n",
       "    .dataframe tbody tr th:only-of-type {\n",
       "        vertical-align: middle;\n",
       "    }\n",
       "\n",
       "    .dataframe tbody tr th {\n",
       "        vertical-align: top;\n",
       "    }\n",
       "\n",
       "    .dataframe thead th {\n",
       "        text-align: right;\n",
       "    }\n",
       "</style>\n",
       "<table border=\"1\" class=\"dataframe\">\n",
       "  <thead>\n",
       "    <tr style=\"text-align: right;\">\n",
       "      <th></th>\n",
       "      <th>Àmbit d’actuació</th>\n",
       "      <th>Nom acció formativa</th>\n",
       "      <th>Nombre places</th>\n",
       "      <th>Durada hora</th>\n",
       "      <th>Edicions previstes</th>\n",
       "      <th>Personal Destinatari 1</th>\n",
       "      <th>Personal Destinatari 2</th>\n",
       "      <th>Personal Destinatari 3</th>\n",
       "      <th>Personal Destinatari 4</th>\n",
       "      <th>Personal Destinatari 5</th>\n",
       "      <th>Objectius</th>\n",
       "    </tr>\n",
       "    <tr>\n",
       "      <th>Catàleg</th>\n",
       "      <th></th>\n",
       "      <th></th>\n",
       "      <th></th>\n",
       "      <th></th>\n",
       "      <th></th>\n",
       "      <th></th>\n",
       "      <th></th>\n",
       "      <th></th>\n",
       "      <th></th>\n",
       "      <th></th>\n",
       "      <th></th>\n",
       "    </tr>\n",
       "  </thead>\n",
       "  <tbody>\n",
       "    <tr>\n",
       "      <th>TRANSVERSAL - 2022</th>\n",
       "      <td>Actualització normativa</td>\n",
       "      <td>Procediment administratiu. Actualitzat amb le...</td>\n",
       "      <td>40.0</td>\n",
       "      <td>30.0</td>\n",
       "      <td>8.0</td>\n",
       "      <td>NaN</td>\n",
       "      <td>NaN</td>\n",
       "      <td>NaN</td>\n",
       "      <td>NaN</td>\n",
       "      <td>NaN</td>\n",
       "      <td>Conèixer les eines procedimentals bàsiques que...</td>\n",
       "    </tr>\n",
       "    <tr>\n",
       "      <th>TRANSVERSAL - 2022</th>\n",
       "      <td>Actualització normativa</td>\n",
       "      <td>Propietat intel·lectual - Llicències Creative...</td>\n",
       "      <td>45.0</td>\n",
       "      <td>15.0</td>\n",
       "      <td>2.0</td>\n",
       "      <td>NaN</td>\n",
       "      <td>NaN</td>\n",
       "      <td>NaN</td>\n",
       "      <td>NaN</td>\n",
       "      <td>NaN</td>\n",
       "      <td>Conèixer la legislació sobre propietat intel·l...</td>\n",
       "    </tr>\n",
       "    <tr>\n",
       "      <th>TRANSVERSAL - 2022</th>\n",
       "      <td>Administració electrònica i tecnologies de la ...</td>\n",
       "      <td>Curació de continguts</td>\n",
       "      <td>45.0</td>\n",
       "      <td>15.0</td>\n",
       "      <td>3.0</td>\n",
       "      <td>NaN</td>\n",
       "      <td>NaN</td>\n",
       "      <td>NaN</td>\n",
       "      <td>NaN</td>\n",
       "      <td>NaN</td>\n",
       "      <td>Aprendre a cercar, filtrar, seleccionar i extr...</td>\n",
       "    </tr>\n",
       "    <tr>\n",
       "      <th>TRANSVERSAL - 2022</th>\n",
       "      <td>Administració electrònica i tecnologies de la ...</td>\n",
       "      <td>Excel 2010 (nivell mitjà)</td>\n",
       "      <td>45.0</td>\n",
       "      <td>25.0</td>\n",
       "      <td>1.0</td>\n",
       "      <td>NaN</td>\n",
       "      <td>NaN</td>\n",
       "      <td>NaN</td>\n",
       "      <td>NaN</td>\n",
       "      <td>NaN</td>\n",
       "      <td>Aprendre les funcionalitat del programari info...</td>\n",
       "    </tr>\n",
       "    <tr>\n",
       "      <th>TRANSVERSAL - 2022</th>\n",
       "      <td>Administració electrònica i tecnologies de la ...</td>\n",
       "      <td>Excel: treball amb macros</td>\n",
       "      <td>45.0</td>\n",
       "      <td>10.0</td>\n",
       "      <td>2.0</td>\n",
       "      <td>NaN</td>\n",
       "      <td>NaN</td>\n",
       "      <td>NaN</td>\n",
       "      <td>NaN</td>\n",
       "      <td>NaN</td>\n",
       "      <td>Aprendre a crear macros bàsiques i avançades.</td>\n",
       "    </tr>\n",
       "    <tr>\n",
       "      <th>...</th>\n",
       "      <td>...</td>\n",
       "      <td>...</td>\n",
       "      <td>...</td>\n",
       "      <td>...</td>\n",
       "      <td>...</td>\n",
       "      <td>...</td>\n",
       "      <td>...</td>\n",
       "      <td>...</td>\n",
       "      <td>...</td>\n",
       "      <td>...</td>\n",
       "      <td>...</td>\n",
       "    </tr>\n",
       "    <tr>\n",
       "      <th>DS, Justícia Global, Fem., LGTBI -  2022</th>\n",
       "      <td>Desenvolupament competencial</td>\n",
       "      <td>Introducció a l'Avaluació de programes, proje...</td>\n",
       "      <td>30.0</td>\n",
       "      <td>28.0</td>\n",
       "      <td>1.0</td>\n",
       "      <td>NaN</td>\n",
       "      <td>NaN</td>\n",
       "      <td>NaN</td>\n",
       "      <td>NaN</td>\n",
       "      <td>NaN</td>\n",
       "      <td>General: Adquirir coneixements bàsics vinculat...</td>\n",
       "    </tr>\n",
       "    <tr>\n",
       "      <th>DS, Justícia Global, Fem., LGTBI -  2022</th>\n",
       "      <td>Desenvolupament competencial</td>\n",
       "      <td>Les discriminacions a Barcelona: Detecció i d...</td>\n",
       "      <td>25.0</td>\n",
       "      <td>12.0</td>\n",
       "      <td>1.0</td>\n",
       "      <td>NaN</td>\n",
       "      <td>NaN</td>\n",
       "      <td>NaN</td>\n",
       "      <td>NaN</td>\n",
       "      <td>NaN</td>\n",
       "      <td>General: L’objectiu és formar a les treballado...</td>\n",
       "    </tr>\n",
       "    <tr>\n",
       "      <th>DS, Justícia Global, Fem., LGTBI -  2022</th>\n",
       "      <td>Gestió per projectes</td>\n",
       "      <td>Anàlisi i gestió per processos en l'àmbit Social</td>\n",
       "      <td>20.0</td>\n",
       "      <td>35.0</td>\n",
       "      <td>1.0</td>\n",
       "      <td>NaN</td>\n",
       "      <td>NaN</td>\n",
       "      <td>NaN</td>\n",
       "      <td>NaN</td>\n",
       "      <td>NaN</td>\n",
       "      <td>General: Revisar els coneixements i la metodol...</td>\n",
       "    </tr>\n",
       "    <tr>\n",
       "      <th>DAC - 2022</th>\n",
       "      <td>Desenvolupament competencial</td>\n",
       "      <td>Tècniques d'expressió aplicades a la millora ...</td>\n",
       "      <td>15.0</td>\n",
       "      <td>10.0</td>\n",
       "      <td>1.0</td>\n",
       "      <td>NaN</td>\n",
       "      <td>NaN</td>\n",
       "      <td>NaN</td>\n",
       "      <td>NaN</td>\n",
       "      <td>NaN</td>\n",
       "      <td>Identificar i desenvolupar habilitats comunica...</td>\n",
       "    </tr>\n",
       "    <tr>\n",
       "      <th>DAC - 2022</th>\n",
       "      <td>Gestió per projectes</td>\n",
       "      <td>Avaluació interna de processos i serveis</td>\n",
       "      <td>15.0</td>\n",
       "      <td>15.0</td>\n",
       "      <td>11.0</td>\n",
       "      <td>NaN</td>\n",
       "      <td>NaN</td>\n",
       "      <td>NaN</td>\n",
       "      <td>NaN</td>\n",
       "      <td>NaN</td>\n",
       "      <td>Conèixer els aspectes clau en el disseny dels ...</td>\n",
       "    </tr>\n",
       "  </tbody>\n",
       "</table>\n",
       "<p>80 rows × 11 columns</p>\n",
       "</div>"
      ],
      "text/plain": [
       "                                                                        Àmbit d’actuació     \\\n",
       "Catàleg                                                                                       \n",
       "TRANSVERSAL - 2022                                                  Actualització normativa   \n",
       "TRANSVERSAL - 2022                                                  Actualització normativa   \n",
       "TRANSVERSAL - 2022                        Administració electrònica i tecnologies de la ...   \n",
       "TRANSVERSAL - 2022                        Administració electrònica i tecnologies de la ...   \n",
       "TRANSVERSAL - 2022                        Administració electrònica i tecnologies de la ...   \n",
       "...                                                                                     ...   \n",
       "DS, Justícia Global, Fem., LGTBI -  2022                       Desenvolupament competencial   \n",
       "DS, Justícia Global, Fem., LGTBI -  2022                       Desenvolupament competencial   \n",
       "DS, Justícia Global, Fem., LGTBI -  2022                               Gestió per projectes   \n",
       "DAC - 2022                                                     Desenvolupament competencial   \n",
       "DAC - 2022                                                             Gestió per projectes   \n",
       "\n",
       "                                                                        Nom acció formativa  \\\n",
       "Catàleg                                                                                       \n",
       "TRANSVERSAL - 2022                         Procediment administratiu. Actualitzat amb le...   \n",
       "TRANSVERSAL - 2022                         Propietat intel·lectual - Llicències Creative...   \n",
       "TRANSVERSAL - 2022                                                    Curació de continguts   \n",
       "TRANSVERSAL - 2022                                                Excel 2010 (nivell mitjà)   \n",
       "TRANSVERSAL - 2022                                                Excel: treball amb macros   \n",
       "...                                                                                     ...   \n",
       "DS, Justícia Global, Fem., LGTBI -  2022   Introducció a l'Avaluació de programes, proje...   \n",
       "DS, Justícia Global, Fem., LGTBI -  2022   Les discriminacions a Barcelona: Detecció i d...   \n",
       "DS, Justícia Global, Fem., LGTBI -  2022   Anàlisi i gestió per processos en l'àmbit Social   \n",
       "DAC - 2022                                 Tècniques d'expressió aplicades a la millora ...   \n",
       "DAC - 2022                                         Avaluació interna de processos i serveis   \n",
       "\n",
       "                                          Nombre places  Durada hora  \\\n",
       "Catàleg                                                                \n",
       "TRANSVERSAL - 2022                                 40.0         30.0   \n",
       "TRANSVERSAL - 2022                                 45.0         15.0   \n",
       "TRANSVERSAL - 2022                                 45.0         15.0   \n",
       "TRANSVERSAL - 2022                                 45.0         25.0   \n",
       "TRANSVERSAL - 2022                                 45.0         10.0   \n",
       "...                                                 ...          ...   \n",
       "DS, Justícia Global, Fem., LGTBI -  2022           30.0         28.0   \n",
       "DS, Justícia Global, Fem., LGTBI -  2022           25.0         12.0   \n",
       "DS, Justícia Global, Fem., LGTBI -  2022           20.0         35.0   \n",
       "DAC - 2022                                         15.0         10.0   \n",
       "DAC - 2022                                         15.0         15.0   \n",
       "\n",
       "                                          Edicions previstes  \\\n",
       "Catàleg                                                        \n",
       "TRANSVERSAL - 2022                                       8.0   \n",
       "TRANSVERSAL - 2022                                       2.0   \n",
       "TRANSVERSAL - 2022                                       3.0   \n",
       "TRANSVERSAL - 2022                                       1.0   \n",
       "TRANSVERSAL - 2022                                       2.0   \n",
       "...                                                      ...   \n",
       "DS, Justícia Global, Fem., LGTBI -  2022                 1.0   \n",
       "DS, Justícia Global, Fem., LGTBI -  2022                 1.0   \n",
       "DS, Justícia Global, Fem., LGTBI -  2022                 1.0   \n",
       "DAC - 2022                                               1.0   \n",
       "DAC - 2022                                              11.0   \n",
       "\n",
       "                                          Personal Destinatari 1  \\\n",
       "Catàleg                                                            \n",
       "TRANSVERSAL - 2022                                           NaN   \n",
       "TRANSVERSAL - 2022                                           NaN   \n",
       "TRANSVERSAL - 2022                                           NaN   \n",
       "TRANSVERSAL - 2022                                           NaN   \n",
       "TRANSVERSAL - 2022                                           NaN   \n",
       "...                                                          ...   \n",
       "DS, Justícia Global, Fem., LGTBI -  2022                     NaN   \n",
       "DS, Justícia Global, Fem., LGTBI -  2022                     NaN   \n",
       "DS, Justícia Global, Fem., LGTBI -  2022                     NaN   \n",
       "DAC - 2022                                                   NaN   \n",
       "DAC - 2022                                                   NaN   \n",
       "\n",
       "                                          Personal Destinatari 2  \\\n",
       "Catàleg                                                            \n",
       "TRANSVERSAL - 2022                                           NaN   \n",
       "TRANSVERSAL - 2022                                           NaN   \n",
       "TRANSVERSAL - 2022                                           NaN   \n",
       "TRANSVERSAL - 2022                                           NaN   \n",
       "TRANSVERSAL - 2022                                           NaN   \n",
       "...                                                          ...   \n",
       "DS, Justícia Global, Fem., LGTBI -  2022                     NaN   \n",
       "DS, Justícia Global, Fem., LGTBI -  2022                     NaN   \n",
       "DS, Justícia Global, Fem., LGTBI -  2022                     NaN   \n",
       "DAC - 2022                                                   NaN   \n",
       "DAC - 2022                                                   NaN   \n",
       "\n",
       "                                          Personal Destinatari 3  \\\n",
       "Catàleg                                                            \n",
       "TRANSVERSAL - 2022                                           NaN   \n",
       "TRANSVERSAL - 2022                                           NaN   \n",
       "TRANSVERSAL - 2022                                           NaN   \n",
       "TRANSVERSAL - 2022                                           NaN   \n",
       "TRANSVERSAL - 2022                                           NaN   \n",
       "...                                                          ...   \n",
       "DS, Justícia Global, Fem., LGTBI -  2022                     NaN   \n",
       "DS, Justícia Global, Fem., LGTBI -  2022                     NaN   \n",
       "DS, Justícia Global, Fem., LGTBI -  2022                     NaN   \n",
       "DAC - 2022                                                   NaN   \n",
       "DAC - 2022                                                   NaN   \n",
       "\n",
       "                                          Personal Destinatari 4  \\\n",
       "Catàleg                                                            \n",
       "TRANSVERSAL - 2022                                           NaN   \n",
       "TRANSVERSAL - 2022                                           NaN   \n",
       "TRANSVERSAL - 2022                                           NaN   \n",
       "TRANSVERSAL - 2022                                           NaN   \n",
       "TRANSVERSAL - 2022                                           NaN   \n",
       "...                                                          ...   \n",
       "DS, Justícia Global, Fem., LGTBI -  2022                     NaN   \n",
       "DS, Justícia Global, Fem., LGTBI -  2022                     NaN   \n",
       "DS, Justícia Global, Fem., LGTBI -  2022                     NaN   \n",
       "DAC - 2022                                                   NaN   \n",
       "DAC - 2022                                                   NaN   \n",
       "\n",
       "                                          Personal Destinatari 5  \\\n",
       "Catàleg                                                            \n",
       "TRANSVERSAL - 2022                                           NaN   \n",
       "TRANSVERSAL - 2022                                           NaN   \n",
       "TRANSVERSAL - 2022                                           NaN   \n",
       "TRANSVERSAL - 2022                                           NaN   \n",
       "TRANSVERSAL - 2022                                           NaN   \n",
       "...                                                          ...   \n",
       "DS, Justícia Global, Fem., LGTBI -  2022                     NaN   \n",
       "DS, Justícia Global, Fem., LGTBI -  2022                     NaN   \n",
       "DS, Justícia Global, Fem., LGTBI -  2022                     NaN   \n",
       "DAC - 2022                                                   NaN   \n",
       "DAC - 2022                                                   NaN   \n",
       "\n",
       "                                                                                  Objectius  \n",
       "Catàleg                                                                                      \n",
       "TRANSVERSAL - 2022                        Conèixer les eines procedimentals bàsiques que...  \n",
       "TRANSVERSAL - 2022                        Conèixer la legislació sobre propietat intel·l...  \n",
       "TRANSVERSAL - 2022                        Aprendre a cercar, filtrar, seleccionar i extr...  \n",
       "TRANSVERSAL - 2022                        Aprendre les funcionalitat del programari info...  \n",
       "TRANSVERSAL - 2022                            Aprendre a crear macros bàsiques i avançades.  \n",
       "...                                                                                     ...  \n",
       "DS, Justícia Global, Fem., LGTBI -  2022  General: Adquirir coneixements bàsics vinculat...  \n",
       "DS, Justícia Global, Fem., LGTBI -  2022  General: L’objectiu és formar a les treballado...  \n",
       "DS, Justícia Global, Fem., LGTBI -  2022  General: Revisar els coneixements i la metodol...  \n",
       "DAC - 2022                                Identificar i desenvolupar habilitats comunica...  \n",
       "DAC - 2022                                Conèixer els aspectes clau en el disseny dels ...  \n",
       "\n",
       "[80 rows x 11 columns]"
      ]
     },
     "execution_count": 18,
     "metadata": {},
     "output_type": "execute_result"
    }
   ],
   "source": [
    "# Fix the path to use proper directory separators and a more robust path construction\n",
    "import os\n",
    "\n",
    "# Update the project path with the complete path\n",
    "ruta_proyecto = os.path.join(os.path.expanduser(\"~\"), \"Downloads\", \"YTT\", \"AINAHACK\", \"AinaHack-Data\")\n",
    "\n",
    "# Update the path to match the actual file location\n",
    "ruta_completa = os.path.join(ruta_proyecto, \"02_Datos\", \"01_Originales\", nombre_fichero_datos)\n",
    "\n",
    "# Add error handling for file reading\n",
    "try:\n",
    "    df = pd.read_csv(ruta_completa, encoding='utf-8')\n",
    "    print(f\"Archivo cargado exitosamente desde: {ruta_completa}\")\n",
    "except FileNotFoundError:\n",
    "    print(f\"Error: No se encontró el archivo en la ruta: {ruta_completa}\")\n",
    "    print(\"Por favor, verifica que:\")\n",
    "    print(\"1. La ruta del proyecto es correcta:\", ruta_proyecto)\n",
    "    print(\"2. El archivo existe en la carpeta 02_Datos/01_Originales\")\n",
    "    print(\"3. El nombre del archivo es exactamente '2022_accions_formatives.csv'\")\n",
    "\n",
    "df = pd.read_csv(ruta_completa,index_col=0)\n",
    "df"
   ]
  },
  {
   "cell_type": "markdown",
   "id": "9790d322",
   "metadata": {},
   "source": [
    "### CORRECCIÓN DE NOMBRES DE VARIABLES"
   ]
  },
  {
   "cell_type": "markdown",
   "id": "f1fa5201",
   "metadata": {},
   "source": [
    "**Corrección automática**"
   ]
  },
  {
   "cell_type": "code",
   "execution_count": 19,
   "id": "02607b69",
   "metadata": {},
   "outputs": [
    {
     "data": {
      "text/html": [
       "<div>\n",
       "<style scoped>\n",
       "    .dataframe tbody tr th:only-of-type {\n",
       "        vertical-align: middle;\n",
       "    }\n",
       "\n",
       "    .dataframe tbody tr th {\n",
       "        vertical-align: top;\n",
       "    }\n",
       "\n",
       "    .dataframe thead th {\n",
       "        text-align: right;\n",
       "    }\n",
       "</style>\n",
       "<table border=\"1\" class=\"dataframe\">\n",
       "  <thead>\n",
       "    <tr style=\"text-align: right;\">\n",
       "      <th></th>\n",
       "      <th>ambit_dactuacio_</th>\n",
       "      <th>nom_accio_formativa</th>\n",
       "      <th>nombre_places</th>\n",
       "      <th>durada_hora</th>\n",
       "      <th>edicions_previstes</th>\n",
       "      <th>personal_destinatari_1</th>\n",
       "      <th>personal_destinatari_2</th>\n",
       "      <th>personal_destinatari_3</th>\n",
       "      <th>personal_destinatari_4</th>\n",
       "      <th>personal_destinatari_5</th>\n",
       "      <th>objectius</th>\n",
       "    </tr>\n",
       "    <tr>\n",
       "      <th>Catàleg</th>\n",
       "      <th></th>\n",
       "      <th></th>\n",
       "      <th></th>\n",
       "      <th></th>\n",
       "      <th></th>\n",
       "      <th></th>\n",
       "      <th></th>\n",
       "      <th></th>\n",
       "      <th></th>\n",
       "      <th></th>\n",
       "      <th></th>\n",
       "    </tr>\n",
       "  </thead>\n",
       "  <tbody>\n",
       "    <tr>\n",
       "      <th>TRANSVERSAL - 2022</th>\n",
       "      <td>Actualització normativa</td>\n",
       "      <td>Procediment administratiu. Actualitzat amb le...</td>\n",
       "      <td>40.0</td>\n",
       "      <td>30.0</td>\n",
       "      <td>8.0</td>\n",
       "      <td>NaN</td>\n",
       "      <td>NaN</td>\n",
       "      <td>NaN</td>\n",
       "      <td>NaN</td>\n",
       "      <td>NaN</td>\n",
       "      <td>Conèixer les eines procedimentals bàsiques que...</td>\n",
       "    </tr>\n",
       "    <tr>\n",
       "      <th>TRANSVERSAL - 2022</th>\n",
       "      <td>Actualització normativa</td>\n",
       "      <td>Propietat intel·lectual - Llicències Creative...</td>\n",
       "      <td>45.0</td>\n",
       "      <td>15.0</td>\n",
       "      <td>2.0</td>\n",
       "      <td>NaN</td>\n",
       "      <td>NaN</td>\n",
       "      <td>NaN</td>\n",
       "      <td>NaN</td>\n",
       "      <td>NaN</td>\n",
       "      <td>Conèixer la legislació sobre propietat intel·l...</td>\n",
       "    </tr>\n",
       "    <tr>\n",
       "      <th>TRANSVERSAL - 2022</th>\n",
       "      <td>Administració electrònica i tecnologies de la ...</td>\n",
       "      <td>Curació de continguts</td>\n",
       "      <td>45.0</td>\n",
       "      <td>15.0</td>\n",
       "      <td>3.0</td>\n",
       "      <td>NaN</td>\n",
       "      <td>NaN</td>\n",
       "      <td>NaN</td>\n",
       "      <td>NaN</td>\n",
       "      <td>NaN</td>\n",
       "      <td>Aprendre a cercar, filtrar, seleccionar i extr...</td>\n",
       "    </tr>\n",
       "    <tr>\n",
       "      <th>TRANSVERSAL - 2022</th>\n",
       "      <td>Administració electrònica i tecnologies de la ...</td>\n",
       "      <td>Excel 2010 (nivell mitjà)</td>\n",
       "      <td>45.0</td>\n",
       "      <td>25.0</td>\n",
       "      <td>1.0</td>\n",
       "      <td>NaN</td>\n",
       "      <td>NaN</td>\n",
       "      <td>NaN</td>\n",
       "      <td>NaN</td>\n",
       "      <td>NaN</td>\n",
       "      <td>Aprendre les funcionalitat del programari info...</td>\n",
       "    </tr>\n",
       "    <tr>\n",
       "      <th>TRANSVERSAL - 2022</th>\n",
       "      <td>Administració electrònica i tecnologies de la ...</td>\n",
       "      <td>Excel: treball amb macros</td>\n",
       "      <td>45.0</td>\n",
       "      <td>10.0</td>\n",
       "      <td>2.0</td>\n",
       "      <td>NaN</td>\n",
       "      <td>NaN</td>\n",
       "      <td>NaN</td>\n",
       "      <td>NaN</td>\n",
       "      <td>NaN</td>\n",
       "      <td>Aprendre a crear macros bàsiques i avançades.</td>\n",
       "    </tr>\n",
       "    <tr>\n",
       "      <th>...</th>\n",
       "      <td>...</td>\n",
       "      <td>...</td>\n",
       "      <td>...</td>\n",
       "      <td>...</td>\n",
       "      <td>...</td>\n",
       "      <td>...</td>\n",
       "      <td>...</td>\n",
       "      <td>...</td>\n",
       "      <td>...</td>\n",
       "      <td>...</td>\n",
       "      <td>...</td>\n",
       "    </tr>\n",
       "    <tr>\n",
       "      <th>DS, Justícia Global, Fem., LGTBI -  2022</th>\n",
       "      <td>Desenvolupament competencial</td>\n",
       "      <td>Introducció a l'Avaluació de programes, proje...</td>\n",
       "      <td>30.0</td>\n",
       "      <td>28.0</td>\n",
       "      <td>1.0</td>\n",
       "      <td>NaN</td>\n",
       "      <td>NaN</td>\n",
       "      <td>NaN</td>\n",
       "      <td>NaN</td>\n",
       "      <td>NaN</td>\n",
       "      <td>General: Adquirir coneixements bàsics vinculat...</td>\n",
       "    </tr>\n",
       "    <tr>\n",
       "      <th>DS, Justícia Global, Fem., LGTBI -  2022</th>\n",
       "      <td>Desenvolupament competencial</td>\n",
       "      <td>Les discriminacions a Barcelona: Detecció i d...</td>\n",
       "      <td>25.0</td>\n",
       "      <td>12.0</td>\n",
       "      <td>1.0</td>\n",
       "      <td>NaN</td>\n",
       "      <td>NaN</td>\n",
       "      <td>NaN</td>\n",
       "      <td>NaN</td>\n",
       "      <td>NaN</td>\n",
       "      <td>General: L’objectiu és formar a les treballado...</td>\n",
       "    </tr>\n",
       "    <tr>\n",
       "      <th>DS, Justícia Global, Fem., LGTBI -  2022</th>\n",
       "      <td>Gestió per projectes</td>\n",
       "      <td>Anàlisi i gestió per processos en l'àmbit Social</td>\n",
       "      <td>20.0</td>\n",
       "      <td>35.0</td>\n",
       "      <td>1.0</td>\n",
       "      <td>NaN</td>\n",
       "      <td>NaN</td>\n",
       "      <td>NaN</td>\n",
       "      <td>NaN</td>\n",
       "      <td>NaN</td>\n",
       "      <td>General: Revisar els coneixements i la metodol...</td>\n",
       "    </tr>\n",
       "    <tr>\n",
       "      <th>DAC - 2022</th>\n",
       "      <td>Desenvolupament competencial</td>\n",
       "      <td>Tècniques d'expressió aplicades a la millora ...</td>\n",
       "      <td>15.0</td>\n",
       "      <td>10.0</td>\n",
       "      <td>1.0</td>\n",
       "      <td>NaN</td>\n",
       "      <td>NaN</td>\n",
       "      <td>NaN</td>\n",
       "      <td>NaN</td>\n",
       "      <td>NaN</td>\n",
       "      <td>Identificar i desenvolupar habilitats comunica...</td>\n",
       "    </tr>\n",
       "    <tr>\n",
       "      <th>DAC - 2022</th>\n",
       "      <td>Gestió per projectes</td>\n",
       "      <td>Avaluació interna de processos i serveis</td>\n",
       "      <td>15.0</td>\n",
       "      <td>15.0</td>\n",
       "      <td>11.0</td>\n",
       "      <td>NaN</td>\n",
       "      <td>NaN</td>\n",
       "      <td>NaN</td>\n",
       "      <td>NaN</td>\n",
       "      <td>NaN</td>\n",
       "      <td>Conèixer els aspectes clau en el disseny dels ...</td>\n",
       "    </tr>\n",
       "  </tbody>\n",
       "</table>\n",
       "<p>80 rows × 11 columns</p>\n",
       "</div>"
      ],
      "text/plain": [
       "                                                                           ambit_dactuacio_  \\\n",
       "Catàleg                                                                                       \n",
       "TRANSVERSAL - 2022                                                  Actualització normativa   \n",
       "TRANSVERSAL - 2022                                                  Actualització normativa   \n",
       "TRANSVERSAL - 2022                        Administració electrònica i tecnologies de la ...   \n",
       "TRANSVERSAL - 2022                        Administració electrònica i tecnologies de la ...   \n",
       "TRANSVERSAL - 2022                        Administració electrònica i tecnologies de la ...   \n",
       "...                                                                                     ...   \n",
       "DS, Justícia Global, Fem., LGTBI -  2022                       Desenvolupament competencial   \n",
       "DS, Justícia Global, Fem., LGTBI -  2022                       Desenvolupament competencial   \n",
       "DS, Justícia Global, Fem., LGTBI -  2022                               Gestió per projectes   \n",
       "DAC - 2022                                                     Desenvolupament competencial   \n",
       "DAC - 2022                                                             Gestió per projectes   \n",
       "\n",
       "                                                                        nom_accio_formativa  \\\n",
       "Catàleg                                                                                       \n",
       "TRANSVERSAL - 2022                         Procediment administratiu. Actualitzat amb le...   \n",
       "TRANSVERSAL - 2022                         Propietat intel·lectual - Llicències Creative...   \n",
       "TRANSVERSAL - 2022                                                    Curació de continguts   \n",
       "TRANSVERSAL - 2022                                                Excel 2010 (nivell mitjà)   \n",
       "TRANSVERSAL - 2022                                                Excel: treball amb macros   \n",
       "...                                                                                     ...   \n",
       "DS, Justícia Global, Fem., LGTBI -  2022   Introducció a l'Avaluació de programes, proje...   \n",
       "DS, Justícia Global, Fem., LGTBI -  2022   Les discriminacions a Barcelona: Detecció i d...   \n",
       "DS, Justícia Global, Fem., LGTBI -  2022   Anàlisi i gestió per processos en l'àmbit Social   \n",
       "DAC - 2022                                 Tècniques d'expressió aplicades a la millora ...   \n",
       "DAC - 2022                                         Avaluació interna de processos i serveis   \n",
       "\n",
       "                                          nombre_places  durada_hora  \\\n",
       "Catàleg                                                                \n",
       "TRANSVERSAL - 2022                                 40.0         30.0   \n",
       "TRANSVERSAL - 2022                                 45.0         15.0   \n",
       "TRANSVERSAL - 2022                                 45.0         15.0   \n",
       "TRANSVERSAL - 2022                                 45.0         25.0   \n",
       "TRANSVERSAL - 2022                                 45.0         10.0   \n",
       "...                                                 ...          ...   \n",
       "DS, Justícia Global, Fem., LGTBI -  2022           30.0         28.0   \n",
       "DS, Justícia Global, Fem., LGTBI -  2022           25.0         12.0   \n",
       "DS, Justícia Global, Fem., LGTBI -  2022           20.0         35.0   \n",
       "DAC - 2022                                         15.0         10.0   \n",
       "DAC - 2022                                         15.0         15.0   \n",
       "\n",
       "                                          edicions_previstes  \\\n",
       "Catàleg                                                        \n",
       "TRANSVERSAL - 2022                                       8.0   \n",
       "TRANSVERSAL - 2022                                       2.0   \n",
       "TRANSVERSAL - 2022                                       3.0   \n",
       "TRANSVERSAL - 2022                                       1.0   \n",
       "TRANSVERSAL - 2022                                       2.0   \n",
       "...                                                      ...   \n",
       "DS, Justícia Global, Fem., LGTBI -  2022                 1.0   \n",
       "DS, Justícia Global, Fem., LGTBI -  2022                 1.0   \n",
       "DS, Justícia Global, Fem., LGTBI -  2022                 1.0   \n",
       "DAC - 2022                                               1.0   \n",
       "DAC - 2022                                              11.0   \n",
       "\n",
       "                                          personal_destinatari_1  \\\n",
       "Catàleg                                                            \n",
       "TRANSVERSAL - 2022                                           NaN   \n",
       "TRANSVERSAL - 2022                                           NaN   \n",
       "TRANSVERSAL - 2022                                           NaN   \n",
       "TRANSVERSAL - 2022                                           NaN   \n",
       "TRANSVERSAL - 2022                                           NaN   \n",
       "...                                                          ...   \n",
       "DS, Justícia Global, Fem., LGTBI -  2022                     NaN   \n",
       "DS, Justícia Global, Fem., LGTBI -  2022                     NaN   \n",
       "DS, Justícia Global, Fem., LGTBI -  2022                     NaN   \n",
       "DAC - 2022                                                   NaN   \n",
       "DAC - 2022                                                   NaN   \n",
       "\n",
       "                                          personal_destinatari_2  \\\n",
       "Catàleg                                                            \n",
       "TRANSVERSAL - 2022                                           NaN   \n",
       "TRANSVERSAL - 2022                                           NaN   \n",
       "TRANSVERSAL - 2022                                           NaN   \n",
       "TRANSVERSAL - 2022                                           NaN   \n",
       "TRANSVERSAL - 2022                                           NaN   \n",
       "...                                                          ...   \n",
       "DS, Justícia Global, Fem., LGTBI -  2022                     NaN   \n",
       "DS, Justícia Global, Fem., LGTBI -  2022                     NaN   \n",
       "DS, Justícia Global, Fem., LGTBI -  2022                     NaN   \n",
       "DAC - 2022                                                   NaN   \n",
       "DAC - 2022                                                   NaN   \n",
       "\n",
       "                                          personal_destinatari_3  \\\n",
       "Catàleg                                                            \n",
       "TRANSVERSAL - 2022                                           NaN   \n",
       "TRANSVERSAL - 2022                                           NaN   \n",
       "TRANSVERSAL - 2022                                           NaN   \n",
       "TRANSVERSAL - 2022                                           NaN   \n",
       "TRANSVERSAL - 2022                                           NaN   \n",
       "...                                                          ...   \n",
       "DS, Justícia Global, Fem., LGTBI -  2022                     NaN   \n",
       "DS, Justícia Global, Fem., LGTBI -  2022                     NaN   \n",
       "DS, Justícia Global, Fem., LGTBI -  2022                     NaN   \n",
       "DAC - 2022                                                   NaN   \n",
       "DAC - 2022                                                   NaN   \n",
       "\n",
       "                                          personal_destinatari_4  \\\n",
       "Catàleg                                                            \n",
       "TRANSVERSAL - 2022                                           NaN   \n",
       "TRANSVERSAL - 2022                                           NaN   \n",
       "TRANSVERSAL - 2022                                           NaN   \n",
       "TRANSVERSAL - 2022                                           NaN   \n",
       "TRANSVERSAL - 2022                                           NaN   \n",
       "...                                                          ...   \n",
       "DS, Justícia Global, Fem., LGTBI -  2022                     NaN   \n",
       "DS, Justícia Global, Fem., LGTBI -  2022                     NaN   \n",
       "DS, Justícia Global, Fem., LGTBI -  2022                     NaN   \n",
       "DAC - 2022                                                   NaN   \n",
       "DAC - 2022                                                   NaN   \n",
       "\n",
       "                                          personal_destinatari_5  \\\n",
       "Catàleg                                                            \n",
       "TRANSVERSAL - 2022                                           NaN   \n",
       "TRANSVERSAL - 2022                                           NaN   \n",
       "TRANSVERSAL - 2022                                           NaN   \n",
       "TRANSVERSAL - 2022                                           NaN   \n",
       "TRANSVERSAL - 2022                                           NaN   \n",
       "...                                                          ...   \n",
       "DS, Justícia Global, Fem., LGTBI -  2022                     NaN   \n",
       "DS, Justícia Global, Fem., LGTBI -  2022                     NaN   \n",
       "DS, Justícia Global, Fem., LGTBI -  2022                     NaN   \n",
       "DAC - 2022                                                   NaN   \n",
       "DAC - 2022                                                   NaN   \n",
       "\n",
       "                                                                                  objectius  \n",
       "Catàleg                                                                                      \n",
       "TRANSVERSAL - 2022                        Conèixer les eines procedimentals bàsiques que...  \n",
       "TRANSVERSAL - 2022                        Conèixer la legislació sobre propietat intel·l...  \n",
       "TRANSVERSAL - 2022                        Aprendre a cercar, filtrar, seleccionar i extr...  \n",
       "TRANSVERSAL - 2022                        Aprendre les funcionalitat del programari info...  \n",
       "TRANSVERSAL - 2022                            Aprendre a crear macros bàsiques i avançades.  \n",
       "...                                                                                     ...  \n",
       "DS, Justícia Global, Fem., LGTBI -  2022  General: Adquirir coneixements bàsics vinculat...  \n",
       "DS, Justícia Global, Fem., LGTBI -  2022  General: L’objectiu és formar a les treballado...  \n",
       "DS, Justícia Global, Fem., LGTBI -  2022  General: Revisar els coneixements i la metodol...  \n",
       "DAC - 2022                                Identificar i desenvolupar habilitats comunica...  \n",
       "DAC - 2022                                Conèixer els aspectes clau en el disseny dels ...  \n",
       "\n",
       "[80 rows x 11 columns]"
      ]
     },
     "execution_count": 19,
     "metadata": {},
     "output_type": "execute_result"
    }
   ],
   "source": [
    "df = clean_names(df) # Limpieza de nombres de columnas de forma automática\n",
    "df"
   ]
  },
  {
   "cell_type": "markdown",
   "id": "25bf4c99",
   "metadata": {},
   "source": [
    "**Corrección manual**"
   ]
  },
  {
   "cell_type": "code",
   "execution_count": 20,
   "id": "c6d83e70",
   "metadata": {},
   "outputs": [],
   "source": [
    "# df.rename(columns = {'fomacion':'formacion',\n",
    "#                      'prestamo_hipotecario':'hipoteca',\n",
    "#                      'prestamo_personal':'consumo'}, inplace=True)\n",
    "# df"
   ]
  },
  {
   "cell_type": "markdown",
   "id": "d2d5443c",
   "metadata": {},
   "source": [
    "### VISIÓN GENERAL"
   ]
  },
  {
   "cell_type": "code",
   "execution_count": 21,
   "id": "976c8ac6",
   "metadata": {},
   "outputs": [
    {
     "name": "stdout",
     "output_type": "stream",
     "text": [
      "<class 'pandas.core.frame.DataFrame'>\n",
      "Index: 80 entries, TRANSVERSAL - 2022 to DAC - 2022\n",
      "Data columns (total 11 columns):\n",
      " #   Column                  Non-Null Count  Dtype  \n",
      "---  ------                  --------------  -----  \n",
      " 0   ambit_dactuacio_        80 non-null     object \n",
      " 1   nom_accio_formativa     80 non-null     object \n",
      " 2   nombre_places           80 non-null     float64\n",
      " 3   durada_hora             80 non-null     float64\n",
      " 4   edicions_previstes      80 non-null     float64\n",
      " 5   personal_destinatari_1  0 non-null      float64\n",
      " 6   personal_destinatari_2  0 non-null      float64\n",
      " 7   personal_destinatari_3  0 non-null      float64\n",
      " 8   personal_destinatari_4  0 non-null      float64\n",
      " 9   personal_destinatari_5  0 non-null      float64\n",
      " 10  objectius               80 non-null     object \n",
      "dtypes: float64(8), object(3)\n",
      "memory usage: 7.5+ KB\n"
     ]
    }
   ],
   "source": [
    "df.info()"
   ]
  },
  {
   "cell_type": "markdown",
   "id": "158ee1d7",
   "metadata": {},
   "source": [
    "### TIPOS DE DATOS"
   ]
  },
  {
   "cell_type": "markdown",
   "id": "88162727",
   "metadata": {},
   "source": [
    "- Identificación"
   ]
  },
  {
   "cell_type": "code",
   "execution_count": 22,
   "id": "197a99c2",
   "metadata": {},
   "outputs": [
    {
     "data": {
      "text/plain": [
       "ambit_dactuacio_           object\n",
       "nom_accio_formativa        object\n",
       "nombre_places             float64\n",
       "durada_hora               float64\n",
       "edicions_previstes        float64\n",
       "personal_destinatari_1    float64\n",
       "personal_destinatari_2    float64\n",
       "personal_destinatari_3    float64\n",
       "personal_destinatari_4    float64\n",
       "personal_destinatari_5    float64\n",
       "objectius                  object\n",
       "dtype: object"
      ]
     },
     "execution_count": 22,
     "metadata": {},
     "output_type": "execute_result"
    }
   ],
   "source": [
    "df.dtypes"
   ]
  },
  {
   "cell_type": "markdown",
   "id": "54f495a6",
   "metadata": {},
   "source": [
    "- Corrección"
   ]
  },
  {
   "cell_type": "code",
   "execution_count": 23,
   "id": "828b9893",
   "metadata": {
    "scrolled": true
   },
   "outputs": [
    {
     "data": {
      "text/plain": [
       "ambit_dactuacio_           object\n",
       "nom_accio_formativa        object\n",
       "nombre_places               Int64\n",
       "durada_hora               float64\n",
       "edicions_previstes          Int64\n",
       "personal_destinatari_1      Int64\n",
       "personal_destinatari_2      Int64\n",
       "personal_destinatari_3      Int64\n",
       "personal_destinatari_4      Int64\n",
       "personal_destinatari_5      Int64\n",
       "objectius                  object\n",
       "dtype: object"
      ]
     },
     "execution_count": 23,
     "metadata": {},
     "output_type": "execute_result"
    }
   ],
   "source": [
    "# Convertir tipos de datos más apropiados\n",
    "df = df.astype({\n",
    "    'ambit_dactuacio_': 'object',          # Mantener como object (texto)\n",
    "    'nom_accio_formativa': 'object',       # Mantener como object (texto)\n",
    "    'nombre_places': 'Int64',              # Cambiar a Int64 (entero que acepta NaN)\n",
    "    'durada_hora': 'float64',              # Mantener como float por posibles decimales\n",
    "    'edicions_previstes': 'Int64',         # Cambiar a Int64 (entero que acepta NaN)\n",
    "    'personal_destinatari_1': 'Int64',     # Cambiar a Int64 (entero que acepta NaN)\n",
    "    'personal_destinatari_2': 'Int64',     # Cambiar a Int64 (entero que acepta NaN)\n",
    "    'personal_destinatari_3': 'Int64',     # Cambiar a Int64 (entero que acepta NaN)\n",
    "    'personal_destinatari_4': 'Int64',     # Cambiar a Int64 (entero que acepta NaN)\n",
    "    'personal_destinatari_5': 'Int64',     # Cambiar a Int64 (entero que acepta NaN)\n",
    "    'objectius': 'object'                  # Mantener como object (texto)\n",
    "})\n",
    "\n",
    "df.dtypes"
   ]
  },
  {
   "cell_type": "markdown",
   "id": "0d00896f",
   "metadata": {},
   "source": [
    "- nombre_places y edicions_previstes: Deberían ser números enteros ya que no tiene sentido tener fracciones de plazas o ediciones. Uso Int64 en lugar de int64 porque acepta valores NaN.\n",
    "- durada_hora: Mantengo como float64 porque pueden haber duraciones con decimales (ej: 1.5 horas).\n",
    "- personal_destinatari_1 a personal_destinatari_5: Cambio a Int64 porque son códigos o identificadores numéricos enteros, y necesitamos que acepten NaN.\n",
    "- Los campos de texto (ambit_dactuacio_, nom_accio_formativa, objectius) se mantienen como object."
   ]
  },
  {
   "cell_type": "markdown",
   "id": "cc8d4a22",
   "metadata": {},
   "source": [
    "### VALORES ÚNICOS"
   ]
  },
  {
   "cell_type": "markdown",
   "id": "f21f0e36",
   "metadata": {},
   "source": [
    "- Identificación"
   ]
  },
  {
   "cell_type": "code",
   "execution_count": 24,
   "id": "6e53e444",
   "metadata": {},
   "outputs": [
    {
     "data": {
      "text/plain": [
       "personal_destinatari_2     0\n",
       "personal_destinatari_3     0\n",
       "personal_destinatari_1     0\n",
       "personal_destinatari_4     0\n",
       "personal_destinatari_5     0\n",
       "ambit_dactuacio_          10\n",
       "edicions_previstes        10\n",
       "durada_hora               12\n",
       "nombre_places             14\n",
       "objectius                 77\n",
       "nom_accio_formativa       80\n",
       "dtype: int64"
      ]
     },
     "execution_count": 24,
     "metadata": {},
     "output_type": "execute_result"
    }
   ],
   "source": [
    "df.nunique().sort_values()"
   ]
  },
  {
   "cell_type": "markdown",
   "id": "b1d1a668",
   "metadata": {},
   "source": [
    "- Corrección"
   ]
  },
  {
   "cell_type": "code",
   "execution_count": 25,
   "id": "62f7d14e",
   "metadata": {},
   "outputs": [
    {
     "name": "stdout",
     "output_type": "stream",
     "text": [
      "Columnas eliminadas: ['personal_destinatari_1', 'personal_destinatari_2', 'personal_destinatari_3', 'personal_destinatari_4', 'personal_destinatari_5']\n"
     ]
    }
   ],
   "source": [
    "columnas_vacias = [col for col in df.columns if df[col].nunique() == 0]\n",
    "\n",
    "df = df.drop(columns=columnas_vacias)\n",
    "print(\"Columnas eliminadas:\", columnas_vacias)"
   ]
  },
  {
   "cell_type": "code",
   "execution_count": 26,
   "id": "1dc61b96",
   "metadata": {},
   "outputs": [
    {
     "name": "stdout",
     "output_type": "stream",
     "text": [
      "1. Estadísticas de acciones formativas:\n",
      "                                                    durada_hora  \\\n",
      "nom_accio_formativa                                               \n",
      "Acceptació i gestió de crítiques                           10.0   \n",
      "Anàlisi i gestió per processos en l'àmbit Social           35.0   \n",
      "Autolideratge i cos                                        16.0   \n",
      "Avaluació de projectes                                     15.0   \n",
      "Avaluació interna de processos i serveis                   15.0   \n",
      "Barcelona, ciutat de drets. L'enfocament basat ...         12.0   \n",
      "Com defensar idees: aprenent a debatre                     10.0   \n",
      "Com fer front a noves situacions                           10.0   \n",
      "Com incorporar la perspectiva de gènere a la te...         20.0   \n",
      "Com incrementar l'autoconfiança                            10.0   \n",
      "\n",
      "                                                    nombre_places  \\\n",
      "nom_accio_formativa                                                 \n",
      "Acceptació i gestió de crítiques                             20.0   \n",
      "Anàlisi i gestió per processos en l'àmbit Social             20.0   \n",
      "Autolideratge i cos                                          20.0   \n",
      "Avaluació de projectes                                       45.0   \n",
      "Avaluació interna de processos i serveis                     15.0   \n",
      "Barcelona, ciutat de drets. L'enfocament basat ...           25.0   \n",
      "Com defensar idees: aprenent a debatre                       45.0   \n",
      "Com fer front a noves situacions                             45.0   \n",
      "Com incorporar la perspectiva de gènere a la te...           45.0   \n",
      "Com incrementar l'autoconfiança                              45.0   \n",
      "\n",
      "                                                    edicions_previstes  \n",
      "nom_accio_formativa                                                     \n",
      "Acceptació i gestió de crítiques                                     1  \n",
      "Anàlisi i gestió per processos en l'àmbit Social                     1  \n",
      "Autolideratge i cos                                                  1  \n",
      "Avaluació de projectes                                               2  \n",
      "Avaluació interna de processos i serveis                            11  \n",
      "Barcelona, ciutat de drets. L'enfocament basat ...                   1  \n",
      "Com defensar idees: aprenent a debatre                               2  \n",
      "Com fer front a noves situacions                                     2  \n",
      "Com incorporar la perspectiva de gènere a la te...                   2  \n",
      "Com incrementar l'autoconfiança                                      1  \n",
      "\n",
      "2. Distribución por ámbito de actuación:\n",
      "                                                   nom_accio_formativa  \\\n",
      "                                                                 count   \n",
      "ambit_dactuacio_                                                         \n",
      "Actualització normativa                                              2   \n",
      "Administració electrònica i tecnologies de la i...                  13   \n",
      "Capacitats i habilitats de comandament                               1   \n",
      "Desenvolupament competencial                                        36   \n",
      "Econòmic i financier                                                 1   \n",
      "Gestió col·laborativa, transversal i descentral...                   2   \n",
      "Gestió per projectes                                                 5   \n",
      "Llengua i comunicació                                                6   \n",
      "Seguretat i salut laborals                                          10   \n",
      "Transversalitat i igualtat de gènere                                 4   \n",
      "\n",
      "                                                   durada_hora         \\\n",
      "                                                          mean    sum   \n",
      "ambit_dactuacio_                                                        \n",
      "Actualització normativa                                  22.50   45.0   \n",
      "Administració electrònica i tecnologies de la i...       10.54  137.0   \n",
      "Capacitats i habilitats de comandament                   10.00   10.0   \n",
      "Desenvolupament competencial                             16.28  586.0   \n",
      "Econòmic i financier                                     35.00   35.0   \n",
      "Gestió col·laborativa, transversal i descentral...       17.50   35.0   \n",
      "Gestió per projectes                                     18.40   92.0   \n",
      "Llengua i comunicació                                    13.83   83.0   \n",
      "Seguretat i salut laborals                               13.30  133.0   \n",
      "Transversalitat i igualtat de gènere                      6.50   26.0   \n",
      "\n",
      "                                                   nombre_places        \n",
      "                                                            mean   sum  \n",
      "ambit_dactuacio_                                                        \n",
      "Actualització normativa                                     42.5    85  \n",
      "Administració electrònica i tecnologies de la i...         31.23   406  \n",
      "Capacitats i habilitats de comandament                      50.0    50  \n",
      "Desenvolupament competencial                               31.83  1146  \n",
      "Econòmic i financier                                        40.0    40  \n",
      "Gestió col·laborativa, transversal i descentral...          47.5    95  \n",
      "Gestió per projectes                                        30.0   150  \n",
      "Llengua i comunicació                                       38.0   228  \n",
      "Seguretat i salut laborals                                  24.0   240  \n",
      "Transversalitat i igualtat de gènere                      511.25  2045  \n",
      "\n",
      "3. Estadísticas de duración y plazas:\n",
      "Duración (horas):\n",
      "count    80.00\n",
      "mean     14.78\n",
      "std       8.15\n",
      "min       2.00\n",
      "25%      10.00\n",
      "50%      15.00\n",
      "75%      20.00\n",
      "max      35.00\n",
      "Name: durada_hora, dtype: float64\n",
      "\n",
      "Número de plazas:\n",
      "count      80.0\n",
      "mean      56.06\n",
      "std      130.29\n",
      "min        15.0\n",
      "25%        20.0\n",
      "50%        29.0\n",
      "75%        45.0\n",
      "max      1000.0\n",
      "Name: nombre_places, dtype: Float64\n",
      "\n",
      "4. Análisis de objetivos:\n",
      "Número de objetivos únicos: 77\n",
      "\n",
      "Ejemplos de objetivos más comunes:\n",
      "objectius\n",
      "- Donar a conèixer el reglament per a la igualtat de gènere. - Divulgar-ne els mecanismes d'aplicació en els diferents àmbits. -    3\n",
      "-Conèixer i saber identificar les diferents manifestacions de conflicte que es poden generar dins de l’àmbit laboral. -Dotar als    2\n",
      "Aprendre a cercar, filtrar, seleccionar i extreure la informació que necessites a la xarxa sense perdre temps                       1\n",
      "Conèixer la legislació sobre propietat intel·lectual, les pautes d'actuació en matèria de drets d'autor i com treballar amb llic    1\n",
      "Conèixer les eines procedimentals bàsiques que contenen les lleis 39/2015 i 40/2015, d'1 d'octubre, de procediment administratiu    1\n",
      "Name: count, dtype: int64\n",
      "\n",
      "5. Correlaciones:\n",
      "                    durada_hora  nombre_places  edicions_previstes\n",
      "durada_hora                1.00          -0.29               -0.20\n",
      "nombre_places             -0.29           1.00               -0.08\n",
      "edicions_previstes        -0.20          -0.08                1.00\n"
     ]
    }
   ],
   "source": [
    "# 1. Análisis de acciones formativas\n",
    "print(\"1. Estadísticas de acciones formativas:\")\n",
    "formacion_stats = df.groupby('nom_accio_formativa').agg({\n",
    "    'durada_hora': 'mean',\n",
    "    'nombre_places': 'mean',\n",
    "    'edicions_previstes': 'sum'\n",
    "}).round(2)\n",
    "print(formacion_stats.head(10))\n",
    "\n",
    "# 2. Análisis por ámbito de actuación\n",
    "print(\"\\n2. Distribución por ámbito de actuación:\")\n",
    "ambit_stats = df.groupby('ambit_dactuacio_').agg({\n",
    "    'nom_accio_formativa': 'count',\n",
    "    'durada_hora': ['mean', 'sum'],\n",
    "    'nombre_places': ['mean', 'sum']\n",
    "}).round(2)\n",
    "print(ambit_stats)\n",
    "\n",
    "# 3. Análisis de duración y plazas\n",
    "print(\"\\n3. Estadísticas de duración y plazas:\")\n",
    "print(\"Duración (horas):\")\n",
    "print(df['durada_hora'].describe().round(2))\n",
    "print(\"\\nNúmero de plazas:\")\n",
    "print(df['nombre_places'].describe().round(2))\n",
    "\n",
    "# 4. Análisis de objetivos\n",
    "if 'objectius' in df.columns:\n",
    "    print(\"\\n4. Análisis de objetivos:\")\n",
    "    print(f\"Número de objetivos únicos: {df['objectius'].nunique()}\")\n",
    "    print(\"\\nEjemplos de objetivos más comunes:\")\n",
    "    print(df['objectius'].value_counts().head())\n",
    "\n",
    "# 5. Correlaciones entre variables numéricas\n",
    "print(\"\\n5. Correlaciones:\")\n",
    "correlations = df[['durada_hora', 'nombre_places', 'edicions_previstes']].corr()\n",
    "print(correlations.round(2))"
   ]
  },
  {
   "cell_type": "code",
   "execution_count": 27,
   "id": "2a711e9b",
   "metadata": {},
   "outputs": [],
   "source": [
    "formacion = {\n",
    "    'Duración': {\n",
    "        'media': 14.78,\n",
    "        'rango': '2-35 horas',\n",
    "        'más_común': '10-20 horas'\n",
    "    },\n",
    "    'Plazas': {\n",
    "        'media': 56.06,\n",
    "        'mediana': 29,\n",
    "        'rango': '15-1000'\n",
    "    },\n",
    "    'Ediciones': {\n",
    "        'rango': '1-11',\n",
    "        'más_común': '1-2 ediciones'\n",
    "    }\n",
    "}\n",
    "\n",
    "ambitos = {\n",
    "    'Más frecuentes': {\n",
    "        'Desenvolupament competencial': {\n",
    "            'cursos': 36,\n",
    "            'duración_media': 16.28,\n",
    "            'plazas_media': 31.83\n",
    "        },\n",
    "        'Administració electrònica': {\n",
    "            'cursos': 13,\n",
    "            'duración_media': 10.54,\n",
    "            'plazas_media': 31.23\n",
    "        },\n",
    "        'Seguretat i salut': {\n",
    "            'cursos': 10,\n",
    "            'duración_media': 13.30,\n",
    "            'plazas_media': 24.00\n",
    "        }\n",
    "    }\n",
    "}\n",
    "\n",
    "\n",
    "patrones = {\n",
    "    'Correlaciones negativas': {\n",
    "        'duración-plazas': -0.29,      # Cursos más largos tienen menos plazas\n",
    "        'duración-ediciones': -0.20,    # Cursos más largos tienen menos ediciones\n",
    "    },\n",
    "    'Distribución plazas': {\n",
    "        'mayoría': '20-45 plazas',\n",
    "        'casos_especiales': '1000 plazas (outliers)'\n",
    "    }\n",
    "}\n",
    "\n",
    "# La mayoría de cursos son cortos (10-20 horas)\n",
    "# Desarrollo competencial es el ámbito principal\n",
    "# Existe correlación negativa entre duración y plazas\n",
    "# Hay gran variabilidad en el número de plazas\n",
    "# La mayoría de cursos tienen 1-2 ediciones"
   ]
  },
  {
   "cell_type": "markdown",
   "id": "e25cfc89",
   "metadata": {},
   "source": [
    "### DUPLICADOS"
   ]
  },
  {
   "cell_type": "markdown",
   "id": "8a079ed3",
   "metadata": {},
   "source": [
    "- Identificación"
   ]
  },
  {
   "cell_type": "code",
   "execution_count": 28,
   "id": "f5b23bfc",
   "metadata": {
    "scrolled": true
   },
   "outputs": [
    {
     "data": {
      "text/plain": [
       "np.int64(0)"
      ]
     },
     "execution_count": 28,
     "metadata": {},
     "output_type": "execute_result"
    }
   ],
   "source": [
    "df.duplicated().sum()"
   ]
  },
  {
   "cell_type": "markdown",
   "id": "d440242b",
   "metadata": {},
   "source": [
    "- Corrección"
   ]
  },
  {
   "cell_type": "code",
   "execution_count": 29,
   "id": "a693f362",
   "metadata": {},
   "outputs": [],
   "source": [
    "# df.drop_duplicates(inplace = True)"
   ]
  },
  {
   "cell_type": "markdown",
   "id": "632ec2cd",
   "metadata": {},
   "source": [
    "### SEPARAR NUMÉRICAS Y CATEGÓRICAS"
   ]
  },
  {
   "cell_type": "markdown",
   "id": "573a61ac",
   "metadata": {},
   "source": [
    "**Categóricas**"
   ]
  },
  {
   "cell_type": "code",
   "execution_count": 30,
   "id": "47a7eece",
   "metadata": {},
   "outputs": [],
   "source": [
    "cat = df.select_dtypes(exclude = 'number').copy()"
   ]
  },
  {
   "cell_type": "markdown",
   "id": "41756893",
   "metadata": {},
   "source": [
    "**Numéricas**"
   ]
  },
  {
   "cell_type": "code",
   "execution_count": 31,
   "id": "59140e9a",
   "metadata": {},
   "outputs": [],
   "source": [
    "num = df.select_dtypes(include='number').copy()"
   ]
  },
  {
   "cell_type": "markdown",
   "id": "5e7d8e7e",
   "metadata": {},
   "source": [
    "### GESTIÓN DE CATEGÓRICAS"
   ]
  },
  {
   "cell_type": "markdown",
   "id": "5b5808b7",
   "metadata": {},
   "source": [
    "#### NULOS"
   ]
  },
  {
   "cell_type": "markdown",
   "id": "5c08ca55",
   "metadata": {},
   "source": [
    "Identificación"
   ]
  },
  {
   "cell_type": "code",
   "execution_count": 32,
   "id": "da49ae63",
   "metadata": {
    "scrolled": true
   },
   "outputs": [
    {
     "data": {
      "text/plain": [
       "ambit_dactuacio_       0\n",
       "nom_accio_formativa    0\n",
       "objectius              0\n",
       "dtype: int64"
      ]
     },
     "execution_count": 32,
     "metadata": {},
     "output_type": "execute_result"
    }
   ],
   "source": [
    "cat.isna().sum().sort_values(ascending = False)"
   ]
  },
  {
   "cell_type": "markdown",
   "id": "6802d575",
   "metadata": {},
   "source": [
    "Corrección"
   ]
  },
  {
   "cell_type": "markdown",
   "id": "8b7a0f5c",
   "metadata": {},
   "source": [
    "- Eliminar la variable"
   ]
  },
  {
   "cell_type": "code",
   "execution_count": 33,
   "id": "e73e2300",
   "metadata": {},
   "outputs": [],
   "source": [
    "# cat.drop(columns = 'dia_de_la_semana',inplace = True)"
   ]
  },
  {
   "cell_type": "markdown",
   "id": "cdd2db55",
   "metadata": {},
   "source": [
    "- Eliminar registros"
   ]
  },
  {
   "cell_type": "markdown",
   "id": "d50e87a0",
   "metadata": {},
   "source": [
    "*Cuidado: Si se eliminan registros hay que eliminarlos tanto de cat como de num*"
   ]
  },
  {
   "cell_type": "code",
   "execution_count": 34,
   "id": "62ad5097",
   "metadata": {},
   "outputs": [],
   "source": [
    "# criterio = 3\n",
    "# cat.dropna(thresh=criterio, inplace=True)\n",
    "# num.dropna(thresh=criterio, inplace=True)"
   ]
  },
  {
   "cell_type": "markdown",
   "id": "ebeb52a6",
   "metadata": {},
   "source": [
    "- Imputar por un valor"
   ]
  },
  {
   "cell_type": "markdown",
   "id": "2cba1c3c",
   "metadata": {},
   "source": [
    "Variables a imputar"
   ]
  },
  {
   "cell_type": "code",
   "execution_count": 35,
   "id": "4050ef9f",
   "metadata": {},
   "outputs": [],
   "source": [
    "# var_imputar_valor = ['resultado_campana_anterior','formacion']"
   ]
  },
  {
   "cell_type": "markdown",
   "id": "fa866ac6",
   "metadata": {},
   "source": [
    "Valor por el que imputar"
   ]
  },
  {
   "cell_type": "code",
   "execution_count": 36,
   "id": "10abb34a",
   "metadata": {},
   "outputs": [],
   "source": [
    "# valor = 'NULO'"
   ]
  },
  {
   "cell_type": "markdown",
   "id": "78d10252",
   "metadata": {},
   "source": [
    "- Imputar"
   ]
  },
  {
   "cell_type": "code",
   "execution_count": 37,
   "id": "f16e8491",
   "metadata": {},
   "outputs": [],
   "source": [
    "# cat[var_imputar_valor] = cat[var_imputar_valor].fillna(valor)"
   ]
  },
  {
   "cell_type": "markdown",
   "id": "c111e44d",
   "metadata": {},
   "source": [
    "- Imputar por la moda"
   ]
  },
  {
   "cell_type": "markdown",
   "id": "4c1a9c46",
   "metadata": {},
   "source": [
    "Variables a imputar"
   ]
  },
  {
   "cell_type": "code",
   "execution_count": 38,
   "id": "cf4cee3d",
   "metadata": {},
   "outputs": [],
   "source": [
    "# var_imputar_moda = ['resultado_campana_anterior','formacion']"
   ]
  },
  {
   "cell_type": "markdown",
   "id": "e3a31c7d",
   "metadata": {},
   "source": [
    "Funcion para imputar con la moda"
   ]
  },
  {
   "cell_type": "code",
   "execution_count": 39,
   "id": "6d7c902b",
   "metadata": {},
   "outputs": [],
   "source": [
    "# def imputar_moda(variable):\n",
    "#     return(variable.fillna(variable.mode()[0]))"
   ]
  },
  {
   "cell_type": "markdown",
   "id": "b2c3ceba",
   "metadata": {},
   "source": [
    "Imputar con la moda"
   ]
  },
  {
   "cell_type": "code",
   "execution_count": 40,
   "id": "5f5184ef",
   "metadata": {},
   "outputs": [],
   "source": [
    "# cat[var_imputar_moda] = cat[var_imputar_moda].apply(imputar_moda)"
   ]
  },
  {
   "cell_type": "markdown",
   "id": "913cd65d",
   "metadata": {},
   "source": [
    "### ATÍPICOS"
   ]
  },
  {
   "cell_type": "markdown",
   "id": "5a575397",
   "metadata": {},
   "source": [
    "- Categorías poco frecuentes"
   ]
  },
  {
   "cell_type": "markdown",
   "id": "e88c9f39",
   "metadata": {},
   "source": [
    "Función para agrupar categorías raras en 'OTROS'"
   ]
  },
  {
   "cell_type": "code",
   "execution_count": 41,
   "id": "c59f8d06",
   "metadata": {},
   "outputs": [],
   "source": [
    "# def agrupar_cat_raras(variable, criterio = 0.05):\n",
    "#     # Calcula las frecuencias\n",
    "#     frecuencias = variable.value_counts(normalize=True)\n",
    "#     # Identifica las que están por debajo del criterio\n",
    "#     temp = [cada for cada in frecuencias.loc[frecuencias < criterio].index.values]\n",
    "#     # Las recodifica en 'OTROS'\n",
    "#     temp2 = np.where(variable.isin(temp),'OTROS',variable)\n",
    "#     # Devuelve el resultado\n",
    "#     return(temp2)"
   ]
  },
  {
   "cell_type": "markdown",
   "id": "4205e067",
   "metadata": {},
   "source": [
    "Variables a imputar"
   ]
  },
  {
   "cell_type": "code",
   "execution_count": 42,
   "id": "ec35c874",
   "metadata": {},
   "outputs": [],
   "source": [
    "# var_imputar_moda = ['trabajo','estado_civil']"
   ]
  },
  {
   "cell_type": "markdown",
   "id": "5eaca402",
   "metadata": {},
   "source": [
    "Aplicar"
   ]
  },
  {
   "cell_type": "code",
   "execution_count": 43,
   "id": "2b187bc7",
   "metadata": {},
   "outputs": [],
   "source": [
    "# for variable in var_imputar_moda:\n",
    "#     cat[variable] = agrupar_cat_raras(cat[variable],criterio = 0.02)"
   ]
  },
  {
   "cell_type": "markdown",
   "id": "db3a72a6",
   "metadata": {},
   "source": [
    "### GESTIÓN DE NUMÉRICAS"
   ]
  },
  {
   "cell_type": "markdown",
   "id": "d65bd06a",
   "metadata": {},
   "source": [
    "#### NULOS"
   ]
  },
  {
   "cell_type": "markdown",
   "id": "e5ee8416",
   "metadata": {},
   "source": [
    "Identificación"
   ]
  },
  {
   "cell_type": "code",
   "execution_count": 44,
   "id": "c9f054a3",
   "metadata": {
    "scrolled": true
   },
   "outputs": [
    {
     "data": {
      "text/plain": [
       "nombre_places         0\n",
       "durada_hora           0\n",
       "edicions_previstes    0\n",
       "dtype: int64"
      ]
     },
     "execution_count": 44,
     "metadata": {},
     "output_type": "execute_result"
    }
   ],
   "source": [
    "num.isna().sum().sort_values(ascending = False)"
   ]
  },
  {
   "cell_type": "markdown",
   "id": "1b7cb2c4",
   "metadata": {},
   "source": [
    "Corrección"
   ]
  },
  {
   "cell_type": "markdown",
   "id": "48c76393",
   "metadata": {},
   "source": [
    "- Eliminar la variable"
   ]
  },
  {
   "cell_type": "code",
   "execution_count": 45,
   "id": "ba078af2",
   "metadata": {},
   "outputs": [],
   "source": [
    "# num.drop(columns = 'num_contactos_otras_campanas',inplace = True)"
   ]
  },
  {
   "cell_type": "markdown",
   "id": "aab11eff",
   "metadata": {},
   "source": [
    "- Eliminar registros"
   ]
  },
  {
   "cell_type": "markdown",
   "id": "fa00a59d",
   "metadata": {},
   "source": [
    "*Cuidado: Si se eliminan registros hay que eliminarlos tanto de cat como de num*"
   ]
  },
  {
   "cell_type": "code",
   "execution_count": 46,
   "id": "c5292f66",
   "metadata": {},
   "outputs": [],
   "source": [
    "# criterio = 3\n",
    "# cat.dropna(thresh=criterio, inplace=True)\n",
    "# num.dropna(thresh=criterio, inplace=True)"
   ]
  },
  {
   "cell_type": "markdown",
   "id": "214264cb",
   "metadata": {},
   "source": [
    "- Imputar por la media"
   ]
  },
  {
   "cell_type": "markdown",
   "id": "1f927674",
   "metadata": {},
   "source": [
    "Variables a imputar"
   ]
  },
  {
   "cell_type": "code",
   "execution_count": 47,
   "id": "17c30954",
   "metadata": {},
   "outputs": [],
   "source": [
    "# var_imputar_media = ['edad','num_contactos_esta_campana']"
   ]
  },
  {
   "cell_type": "markdown",
   "id": "ac2fbb2c",
   "metadata": {},
   "source": [
    "Funcion para imputar con la media"
   ]
  },
  {
   "cell_type": "code",
   "execution_count": 48,
   "id": "e8ffdb3d",
   "metadata": {},
   "outputs": [],
   "source": [
    "# def imputar_media(variable):\n",
    "#     if pd.api.types.is_integer_dtype(variable):\n",
    "#         return(variable.fillna(int(variable.mean())))\n",
    "#     else:\n",
    "#         return(variable.fillna(variable.mean()))"
   ]
  },
  {
   "cell_type": "markdown",
   "id": "54407baa",
   "metadata": {},
   "source": [
    "- Imputar con la media"
   ]
  },
  {
   "cell_type": "code",
   "execution_count": 49,
   "id": "605f7ad2",
   "metadata": {},
   "outputs": [],
   "source": [
    "# num[var_imputar_media] = num[var_imputar_media].apply(imputar_media)"
   ]
  },
  {
   "cell_type": "markdown",
   "id": "649c19f3",
   "metadata": {},
   "source": [
    "- Imputar por la mediana"
   ]
  },
  {
   "cell_type": "markdown",
   "id": "d22ea297",
   "metadata": {},
   "source": [
    "Variables a imputar"
   ]
  },
  {
   "cell_type": "code",
   "execution_count": 50,
   "id": "37e4d7f6",
   "metadata": {},
   "outputs": [],
   "source": [
    "# var_imputar_mediana = ['edad','num_contactos_esta_campana']"
   ]
  },
  {
   "cell_type": "markdown",
   "id": "432c371c",
   "metadata": {},
   "source": [
    "Funcion para imputar con la mediana"
   ]
  },
  {
   "cell_type": "code",
   "execution_count": 51,
   "id": "66679233",
   "metadata": {},
   "outputs": [],
   "source": [
    "# def imputar_mediana(variable):\n",
    "#     if pd.api.types.is_integer_dtype(variable):\n",
    "#         return(variable.fillna(int(variable.median())))\n",
    "#     else:\n",
    "#         return(variable.fillna(variable.median()))"
   ]
  },
  {
   "cell_type": "markdown",
   "id": "70d7a1c5",
   "metadata": {},
   "source": [
    "- Imputar con la mediana"
   ]
  },
  {
   "cell_type": "code",
   "execution_count": 52,
   "id": "887a4106",
   "metadata": {},
   "outputs": [],
   "source": [
    "# num[var_imputar_mediana] = num[var_imputar_mediana].apply(imputar_mediana)"
   ]
  },
  {
   "cell_type": "markdown",
   "id": "82cb56e8",
   "metadata": {},
   "source": [
    "### ATÍPICOS"
   ]
  },
  {
   "cell_type": "markdown",
   "id": "760baf8c",
   "metadata": {},
   "source": [
    "**Por desviación típica**"
   ]
  },
  {
   "cell_type": "markdown",
   "id": "4b508149",
   "metadata": {},
   "source": [
    "- Identificación"
   ]
  },
  {
   "cell_type": "markdown",
   "id": "8ceda3d3",
   "metadata": {},
   "source": [
    "Definir el número de desviaciones típicas"
   ]
  },
  {
   "cell_type": "code",
   "execution_count": 53,
   "id": "2b7419cb",
   "metadata": {},
   "outputs": [],
   "source": [
    "# num_desv_tip = 4"
   ]
  },
  {
   "cell_type": "markdown",
   "id": "942da237",
   "metadata": {},
   "source": [
    "Función que devuelve los índices de los atípicos"
   ]
  },
  {
   "cell_type": "code",
   "execution_count": 54,
   "id": "8a81f494",
   "metadata": {},
   "outputs": [],
   "source": [
    "# def atipicos_desv_tip(variable, num_desv_tip = 4):\n",
    "#     #sacamos los nulos por ahora\n",
    "#     variable = variable.dropna()\n",
    "#     #calculamos los límites\n",
    "#     media = np.mean(variable)\n",
    "#     sd = np.std(variable)\n",
    "#     umbral = sd * num_desv_tip\n",
    "#     lim_inf = media - umbral\n",
    "#     lim_sup = media + umbral\n",
    "#     #encontramos los índices de los que están fuera de los límites\n",
    "#     indices = [indice for indice,valor in variable.items() if valor < lim_inf or valor > lim_sup]\n",
    "#     return(indices)"
   ]
  },
  {
   "cell_type": "markdown",
   "id": "768e7398",
   "metadata": {},
   "source": [
    "Función que cuenta el número de atípicos"
   ]
  },
  {
   "cell_type": "code",
   "execution_count": 55,
   "id": "5c8f4462",
   "metadata": {},
   "outputs": [],
   "source": [
    "# def conteo_atipicos(df,variable, num_desv_tip = 4):\n",
    "#     atipicos = atipicos_desv_tip(df[variable], num_desv_tip)\n",
    "#     return(df.loc[atipicos,variable].value_counts())"
   ]
  },
  {
   "cell_type": "markdown",
   "id": "5cd1e425",
   "metadata": {},
   "source": [
    "Variables a aplicar"
   ]
  },
  {
   "cell_type": "code",
   "execution_count": 56,
   "id": "cfbb3d88",
   "metadata": {},
   "outputs": [],
   "source": [
    "# var_atipicos_dt = ['edad','num_contactos_esta_campana']"
   ]
  },
  {
   "cell_type": "markdown",
   "id": "ac400ced",
   "metadata": {},
   "source": [
    "Aplicar"
   ]
  },
  {
   "cell_type": "code",
   "execution_count": 57,
   "id": "c4b74e98",
   "metadata": {},
   "outputs": [],
   "source": [
    "# for variable in var_atipicos_dt:\n",
    "#     print('\\n' + variable + ':\\n')\n",
    "#     print(conteo_atipicos(num,variable,num_desv_tip))"
   ]
  },
  {
   "cell_type": "markdown",
   "id": "5197aae9",
   "metadata": {},
   "source": [
    "- Corrección"
   ]
  },
  {
   "cell_type": "markdown",
   "id": "2b9255dd",
   "metadata": {},
   "source": [
    "Eliminar los registros que tengan al menos un atípico en alguna de las variables indicadas."
   ]
  },
  {
   "cell_type": "markdown",
   "id": "e1233b46",
   "metadata": {},
   "source": [
    "*Cuidado: Si se eliminan registros hay que eliminarlos tanto de cat como de num*"
   ]
  },
  {
   "cell_type": "markdown",
   "id": "18548d6d",
   "metadata": {},
   "source": [
    "Variables a aplicar"
   ]
  },
  {
   "cell_type": "code",
   "execution_count": 58,
   "id": "81e715d9",
   "metadata": {},
   "outputs": [],
   "source": [
    "# var_atipicos_dt = ['edad','num_contactos_esta_campana']"
   ]
  },
  {
   "cell_type": "markdown",
   "id": "b995bf77",
   "metadata": {},
   "source": [
    "Aplicar"
   ]
  },
  {
   "cell_type": "code",
   "execution_count": 59,
   "id": "413fa5ea",
   "metadata": {},
   "outputs": [],
   "source": [
    "# for variable in var_atipicos_dt:\n",
    "#     cat.drop(atipicos_desv_tip(num[variable], num_desv_tip),axis = 0, inplace = True)\n",
    "#     num.drop(atipicos_desv_tip(num[variable], num_desv_tip),axis = 0, inplace = True)"
   ]
  },
  {
   "cell_type": "markdown",
   "id": "47862bcf",
   "metadata": {},
   "source": [
    "**Por winsorización manual para una variable** "
   ]
  },
  {
   "cell_type": "markdown",
   "id": "963a3881",
   "metadata": {},
   "source": [
    "- Identificación"
   ]
  },
  {
   "cell_type": "markdown",
   "id": "af41a20d",
   "metadata": {},
   "source": [
    "Variable a analizar"
   ]
  },
  {
   "cell_type": "code",
   "execution_count": 60,
   "id": "f90db9dc",
   "metadata": {},
   "outputs": [],
   "source": [
    "# variable = 'variacion_tasa_empleo'"
   ]
  },
  {
   "cell_type": "markdown",
   "id": "e0332345",
   "metadata": {},
   "source": [
    "Comprobar el mínimo y máximo actual"
   ]
  },
  {
   "cell_type": "code",
   "execution_count": 61,
   "id": "64d5394b",
   "metadata": {},
   "outputs": [],
   "source": [
    "# num[variable].describe().loc[['min','max']]"
   ]
  },
  {
   "cell_type": "markdown",
   "id": "28d07312",
   "metadata": {},
   "source": [
    "- Corrección"
   ]
  },
  {
   "cell_type": "markdown",
   "id": "fbea3a26",
   "metadata": {},
   "source": [
    "Definir el mínimo y máximo tolerable."
   ]
  },
  {
   "cell_type": "code",
   "execution_count": 62,
   "id": "c8b2d8dc",
   "metadata": {},
   "outputs": [],
   "source": [
    "# minimo = -20\n",
    "# maximo = 10"
   ]
  },
  {
   "cell_type": "markdown",
   "id": "be19a3d1",
   "metadata": {},
   "source": [
    "Aplicar"
   ]
  },
  {
   "cell_type": "code",
   "execution_count": 63,
   "id": "a607d0dd",
   "metadata": {},
   "outputs": [],
   "source": [
    "# num[variable].clip(minimo,maximo, inplace=True)"
   ]
  },
  {
   "cell_type": "markdown",
   "id": "ec69099e",
   "metadata": {},
   "source": [
    "**Por winsorización automática para múltiples variables**"
   ]
  },
  {
   "cell_type": "markdown",
   "id": "49b8433c",
   "metadata": {},
   "source": [
    "Variables a winsorizar"
   ]
  },
  {
   "cell_type": "code",
   "execution_count": 64,
   "id": "e4b6c723",
   "metadata": {},
   "outputs": [],
   "source": [
    "# var_winsorizar = ['edad','num_contactos_esta_campana']"
   ]
  },
  {
   "cell_type": "markdown",
   "id": "9478239d",
   "metadata": {},
   "source": [
    "Definir los percentiles mínimos y máximos."
   ]
  },
  {
   "cell_type": "code",
   "execution_count": 65,
   "id": "0596e25f",
   "metadata": {},
   "outputs": [],
   "source": [
    "# p_min = 0.01\n",
    "# p_max = 0.99"
   ]
  },
  {
   "cell_type": "markdown",
   "id": "878af32b",
   "metadata": {},
   "source": [
    "Aplicar"
   ]
  },
  {
   "cell_type": "code",
   "execution_count": 66,
   "id": "b0317b54",
   "metadata": {},
   "outputs": [],
   "source": [
    "# for variable in var_winsorizar:\n",
    "#     num[variable].clip(lower = num[variable].quantile(p_min), \n",
    "#                        upper = num[variable].quantile(p_max), \n",
    "#                        inplace = True)"
   ]
  },
  {
   "cell_type": "markdown",
   "id": "0f6b1e4a",
   "metadata": {},
   "source": [
    "### GUARDAR DATASETS TRAS CALIDAD DE DATOS"
   ]
  },
  {
   "cell_type": "markdown",
   "id": "1e211b09",
   "metadata": {},
   "source": [
    "Guarda los avances en df, cat y num con un sufijo para poder guardar o recuperar avances del proyecto.\n",
    "\n",
    "En formato pickle para no perder las modificaciones de metadatos."
   ]
  },
  {
   "cell_type": "markdown",
   "id": "abb12eef",
   "metadata": {},
   "source": [
    "- Definir los nombres de los archivos"
   ]
  },
  {
   "cell_type": "code",
   "execution_count": 67,
   "id": "f83c6f26",
   "metadata": {},
   "outputs": [],
   "source": [
    "ruta_trabajo = ruta_proyecto + '/02_Datos/03_Trabajo/' + '2022-accions-formatives.pickle'\n",
    "ruta_cat = ruta_proyecto + '/02_Datos/03_Trabajo/' + 'cat_2022-accions-formatives.pickle'\n",
    "ruta_num = ruta_proyecto + '/02_Datos/03_Trabajo/' + 'num_2022-accions-formatives.pickle'"
   ]
  },
  {
   "cell_type": "markdown",
   "id": "1699f284",
   "metadata": {},
   "source": [
    "- Guardar los archivos"
   ]
  },
  {
   "cell_type": "code",
   "execution_count": 68,
   "id": "6731887a",
   "metadata": {},
   "outputs": [],
   "source": [
    "df.to_pickle(ruta_trabajo)\n",
    "cat.to_pickle(ruta_cat)\n",
    "num.to_pickle(ruta_num)"
   ]
  }
 ],
 "metadata": {
  "kernelspec": {
   "display_name": "Python 3 (ipykernel)",
   "language": "python",
   "name": "python3"
  },
  "language_info": {
   "codemirror_mode": {
    "name": "ipython",
    "version": 3
   },
   "file_extension": ".py",
   "mimetype": "text/x-python",
   "name": "python",
   "nbconvert_exporter": "python",
   "pygments_lexer": "ipython3",
   "version": "3.10.14"
  },
  "toc": {
   "base_numbering": 1,
   "nav_menu": {},
   "number_sections": true,
   "sideBar": true,
   "skip_h1_title": false,
   "title_cell": "Table of Contents",
   "title_sidebar": "Contents",
   "toc_cell": false,
   "toc_position": {
    "height": "calc(100% - 180px)",
    "left": "10px",
    "top": "150px",
    "width": "406.5px"
   },
   "toc_section_display": true,
   "toc_window_display": true
  },
  "varInspector": {
   "cols": {
    "lenName": 16,
    "lenType": 16,
    "lenVar": 40
   },
   "kernels_config": {
    "python": {
     "delete_cmd_postfix": "",
     "delete_cmd_prefix": "del ",
     "library": "var_list.py",
     "varRefreshCmd": "print(var_dic_list())"
    },
    "r": {
     "delete_cmd_postfix": ") ",
     "delete_cmd_prefix": "rm(",
     "library": "var_list.r",
     "varRefreshCmd": "cat(var_dic_list()) "
    }
   },
   "position": {
    "height": "546.85px",
    "left": "680.75px",
    "right": "20px",
    "top": "118px",
    "width": "350px"
   },
   "types_to_exclude": [
    "module",
    "function",
    "builtin_function_or_method",
    "instance",
    "_Feature"
   ],
   "window_display": false
  }
 },
 "nbformat": 4,
 "nbformat_minor": 5
}
