{
 "cells": [
  {
   "cell_type": "markdown",
   "id": "d31dea65",
   "metadata": {},
   "source": [
    "### AINAHACK - 2024_accions_formatives_previstes_consorci.csv"
   ]
  },
  {
   "cell_type": "markdown",
   "id": "swiss-fault",
   "metadata": {},
   "source": [
    "### IMPORTAR PAQUETES"
   ]
  },
  {
   "cell_type": "code",
   "execution_count": 183,
   "id": "adjacent-toddler",
   "metadata": {},
   "outputs": [],
   "source": [
    "import numpy as np\n",
    "import pandas as pd\n",
    "from janitor import clean_names\n",
    "\n",
    "# Automcompletar rápido\n",
    "%config IPCompleter.greedy=True"
   ]
  },
  {
   "cell_type": "markdown",
   "id": "graduate-compensation",
   "metadata": {},
   "source": [
    "### IMPORTAR LOS DATOS"
   ]
  },
  {
   "cell_type": "markdown",
   "id": "ba473b09",
   "metadata": {},
   "source": [
    "Sustituir el nombre_fichero_datos."
   ]
  },
  {
   "cell_type": "code",
   "execution_count": 184,
   "id": "5d9dc5ea",
   "metadata": {},
   "outputs": [],
   "source": [
    "nombre_fichero_datos = '2024_accions_formatives_previstes_consorci.csv'"
   ]
  },
  {
   "cell_type": "markdown",
   "id": "ae75bf0b",
   "metadata": {},
   "source": [
    "Cargar los datos."
   ]
  },
  {
   "cell_type": "code",
   "execution_count": 185,
   "id": "24ff453b",
   "metadata": {},
   "outputs": [
    {
     "name": "stdout",
     "output_type": "stream",
     "text": [
      "Archivo cargado exitosamente desde: C:\\Users\\Usuario\\Downloads\\YTT\\AINAHACK\\AinaHack-Data\\02_Datos\\01_Originales\\2024_accions_formatives_previstes_consorci.csv\n"
     ]
    },
    {
     "data": {
      "text/html": [
       "<div>\n",
       "<style scoped>\n",
       "    .dataframe tbody tr th:only-of-type {\n",
       "        vertical-align: middle;\n",
       "    }\n",
       "\n",
       "    .dataframe tbody tr th {\n",
       "        vertical-align: top;\n",
       "    }\n",
       "\n",
       "    .dataframe thead th {\n",
       "        text-align: right;\n",
       "    }\n",
       "</style>\n",
       "<table border=\"1\" class=\"dataframe\">\n",
       "  <thead>\n",
       "    <tr style=\"text-align: right;\">\n",
       "      <th></th>\n",
       "      <th>FAMÍLIA PROFESSIONAL</th>\n",
       "      <th>ÀREA PROFESSIONAL</th>\n",
       "      <th>NOM DE L'ACCIÓ</th>\n",
       "      <th>NIF_ENTITAT_FORMACIÓ</th>\n",
       "      <th>ENTITAT</th>\n",
       "      <th>CODI_MUNICIPI</th>\n",
       "      <th>NOM_MUNICIPI</th>\n",
       "      <th>CODI_COMARCA</th>\n",
       "      <th>NOM_COMARCA</th>\n",
       "      <th>MODALITAT</th>\n",
       "      <th>TIPUS DE FORMACIÓ</th>\n",
       "      <th>HORES</th>\n",
       "      <th>WEB</th>\n",
       "      <th>CORREU ELECTRÒNIC</th>\n",
       "      <th>TELÈFON</th>\n",
       "    </tr>\n",
       "    <tr>\n",
       "      <th>IDENTIFICADOR</th>\n",
       "      <th></th>\n",
       "      <th></th>\n",
       "      <th></th>\n",
       "      <th></th>\n",
       "      <th></th>\n",
       "      <th></th>\n",
       "      <th></th>\n",
       "      <th></th>\n",
       "      <th></th>\n",
       "      <th></th>\n",
       "      <th></th>\n",
       "      <th></th>\n",
       "      <th></th>\n",
       "      <th></th>\n",
       "      <th></th>\n",
       "    </tr>\n",
       "  </thead>\n",
       "  <tbody>\n",
       "    <tr>\n",
       "      <th>258262</th>\n",
       "      <td>Serveis socioculturals i a la comunitat</td>\n",
       "      <td>Formació i educació</td>\n",
       "      <td>SSCE0110_MP0353_Mòdul de pràctiques profession...</td>\n",
       "      <td>P7590004C</td>\n",
       "      <td>Institut Municipal d'Ocupació Salvador Segui</td>\n",
       "      <td>25120</td>\n",
       "      <td>LLEIDA</td>\n",
       "      <td>33</td>\n",
       "      <td>SEGRIÀ</td>\n",
       "      <td>Presencial</td>\n",
       "      <td>Certificats de Professionalitat</td>\n",
       "      <td>40</td>\n",
       "      <td>https://imolleida.com/detall-formacio/?idForma...</td>\n",
       "      <td>imo@paeria.cat</td>\n",
       "      <td>973242000.0</td>\n",
       "    </tr>\n",
       "    <tr>\n",
       "      <th>258172</th>\n",
       "      <td>Serveis socioculturals i a la comunitat</td>\n",
       "      <td>Formació i educació</td>\n",
       "      <td>SSCE0110_MP0353_Mòdul de pràctiques profession...</td>\n",
       "      <td>G60374022</td>\n",
       "      <td>JOVIAT</td>\n",
       "      <td>8113</td>\n",
       "      <td>MANRESA</td>\n",
       "      <td>7</td>\n",
       "      <td>BAGES</td>\n",
       "      <td>Presencial</td>\n",
       "      <td>Certificats de Professionalitat</td>\n",
       "      <td>40</td>\n",
       "      <td>www.joviat.cat</td>\n",
       "      <td>fcontinuada@joviat.cat</td>\n",
       "      <td>938726988.0</td>\n",
       "    </tr>\n",
       "    <tr>\n",
       "      <th>251433</th>\n",
       "      <td>Hostaleria i turisme</td>\n",
       "      <td>Restauració</td>\n",
       "      <td>Pastisseria: Postres per a restauració</td>\n",
       "      <td>A08311342</td>\n",
       "      <td>GRUP CETT</td>\n",
       "      <td>8019</td>\n",
       "      <td>BARCELONA</td>\n",
       "      <td>13</td>\n",
       "      <td>BARCELONÈS</td>\n",
       "      <td>Presencial</td>\n",
       "      <td>Altra Formació Professionalitzadora</td>\n",
       "      <td>20</td>\n",
       "      <td>https://www.cett.es/es/oferta-academica/por-ni...</td>\n",
       "      <td>careerservices@cett.cat</td>\n",
       "      <td>673775161.0</td>\n",
       "    </tr>\n",
       "    <tr>\n",
       "      <th>251440</th>\n",
       "      <td>Hostaleria i turisme</td>\n",
       "      <td>Restauració</td>\n",
       "      <td>Ofertes gastronòmiques de formatges</td>\n",
       "      <td>A08311342</td>\n",
       "      <td>GRUP CETT</td>\n",
       "      <td>8019</td>\n",
       "      <td>BARCELONA</td>\n",
       "      <td>13</td>\n",
       "      <td>BARCELONÈS</td>\n",
       "      <td>Presencial</td>\n",
       "      <td>Altra Formació Professionalitzadora</td>\n",
       "      <td>16</td>\n",
       "      <td>https://www.cett.es/es/oferta-academica/por-ni...</td>\n",
       "      <td>careerservices@cett.cat</td>\n",
       "      <td>673775161.0</td>\n",
       "    </tr>\n",
       "    <tr>\n",
       "      <th>256855</th>\n",
       "      <td>Administració i gestió</td>\n",
       "      <td>Gestió de la informació i comunicació</td>\n",
       "      <td>ADGG0208_UF0323_Aplicacions informàtiques per ...</td>\n",
       "      <td>B66117797</td>\n",
       "      <td>P.H.R.O. TRAINING CONSULTANTS &amp; PARTNERS, S.L.</td>\n",
       "      <td>8266</td>\n",
       "      <td>CERDANYOLA DEL VALLÈS</td>\n",
       "      <td>40</td>\n",
       "      <td>VALLÈS OCCIDENTAL</td>\n",
       "      <td>Presencial</td>\n",
       "      <td>NaN</td>\n",
       "      <td>30</td>\n",
       "      <td>phrofessional.com</td>\n",
       "      <td>phrofessional@phrofessional.com</td>\n",
       "      <td>935948990.0</td>\n",
       "    </tr>\n",
       "    <tr>\n",
       "      <th>...</th>\n",
       "      <td>...</td>\n",
       "      <td>...</td>\n",
       "      <td>...</td>\n",
       "      <td>...</td>\n",
       "      <td>...</td>\n",
       "      <td>...</td>\n",
       "      <td>...</td>\n",
       "      <td>...</td>\n",
       "      <td>...</td>\n",
       "      <td>...</td>\n",
       "      <td>...</td>\n",
       "      <td>...</td>\n",
       "      <td>...</td>\n",
       "      <td>...</td>\n",
       "      <td>...</td>\n",
       "    </tr>\n",
       "    <tr>\n",
       "      <th>242555</th>\n",
       "      <td>Sanitat</td>\n",
       "      <td>Atenció sanitària</td>\n",
       "      <td>Cures en pacients amb risc de lesions cutànies</td>\n",
       "      <td>G58825811</td>\n",
       "      <td>ACRA</td>\n",
       "      <td>8019</td>\n",
       "      <td>BARCELONA</td>\n",
       "      <td>13</td>\n",
       "      <td>BARCELONÈS</td>\n",
       "      <td>Presencial</td>\n",
       "      <td>Altra Formació Professionalitzadora</td>\n",
       "      <td>20</td>\n",
       "      <td>https://www.acra.cat/ca/formacio</td>\n",
       "      <td>formacio1@acra.cat</td>\n",
       "      <td>673724697.0</td>\n",
       "    </tr>\n",
       "    <tr>\n",
       "      <th>256225</th>\n",
       "      <td>Agrària</td>\n",
       "      <td>Ramaderia</td>\n",
       "      <td>Benestar animal: especialitat en explotacions ...</td>\n",
       "      <td>B62278783</td>\n",
       "      <td>CRITERIA</td>\n",
       "      <td>8019</td>\n",
       "      <td>BARCELONA</td>\n",
       "      <td>13</td>\n",
       "      <td>BARCELONÈS</td>\n",
       "      <td>Presencial</td>\n",
       "      <td>NaN</td>\n",
       "      <td>8</td>\n",
       "      <td>https://www.girosformacion.com</td>\n",
       "      <td>cursos@criteria.es</td>\n",
       "      <td>932652677.0</td>\n",
       "    </tr>\n",
       "    <tr>\n",
       "      <th>256240</th>\n",
       "      <td>Edificació i obra civil</td>\n",
       "      <td>Maquinària de construcció</td>\n",
       "      <td>Operador/a de plataformes mòbils de personal (...</td>\n",
       "      <td>B62278783</td>\n",
       "      <td>CRITERIA</td>\n",
       "      <td>8019</td>\n",
       "      <td>BARCELONA</td>\n",
       "      <td>13</td>\n",
       "      <td>BARCELONÈS</td>\n",
       "      <td>Presencial</td>\n",
       "      <td>NaN</td>\n",
       "      <td>12</td>\n",
       "      <td>https://www.girosformacion.com</td>\n",
       "      <td>cursos@criteria.es</td>\n",
       "      <td>932652677.0</td>\n",
       "    </tr>\n",
       "    <tr>\n",
       "      <th>256241</th>\n",
       "      <td>Seguretat i medi ambient</td>\n",
       "      <td>Seguretat i prevenció</td>\n",
       "      <td>Seguretat i tècniques en treballs en alçada</td>\n",
       "      <td>B62278783</td>\n",
       "      <td>CRITERIA</td>\n",
       "      <td>8019</td>\n",
       "      <td>BARCELONA</td>\n",
       "      <td>13</td>\n",
       "      <td>BARCELONÈS</td>\n",
       "      <td>Presencial</td>\n",
       "      <td>NaN</td>\n",
       "      <td>40</td>\n",
       "      <td>https://www.girosformacion.com</td>\n",
       "      <td>cursos@criteria.es</td>\n",
       "      <td>932652677.0</td>\n",
       "    </tr>\n",
       "    <tr>\n",
       "      <th>256239</th>\n",
       "      <td>Edificació i obra civil</td>\n",
       "      <td>Maquinària de construcció</td>\n",
       "      <td>Actualització plataformes elevadores mòbils de...</td>\n",
       "      <td>B62278783</td>\n",
       "      <td>CRITERIA</td>\n",
       "      <td>8019</td>\n",
       "      <td>BARCELONA</td>\n",
       "      <td>13</td>\n",
       "      <td>BARCELONÈS</td>\n",
       "      <td>Presencial</td>\n",
       "      <td>Altra Formació Professionalitzadora</td>\n",
       "      <td>8</td>\n",
       "      <td>https://www.girosformacion.com</td>\n",
       "      <td>cursos@criteria.es</td>\n",
       "      <td>932652677.0</td>\n",
       "    </tr>\n",
       "  </tbody>\n",
       "</table>\n",
       "<p>4952 rows × 15 columns</p>\n",
       "</div>"
      ],
      "text/plain": [
       "                                  FAMÍLIA PROFESSIONAL  \\\n",
       "IDENTIFICADOR                                            \n",
       "258262         Serveis socioculturals i a la comunitat   \n",
       "258172         Serveis socioculturals i a la comunitat   \n",
       "251433                            Hostaleria i turisme   \n",
       "251440                            Hostaleria i turisme   \n",
       "256855                          Administració i gestió   \n",
       "...                                                ...   \n",
       "242555                                         Sanitat   \n",
       "256225                                         Agrària   \n",
       "256240                         Edificació i obra civil   \n",
       "256241                        Seguretat i medi ambient   \n",
       "256239                         Edificació i obra civil   \n",
       "\n",
       "                                   ÀREA PROFESSIONAL  \\\n",
       "IDENTIFICADOR                                          \n",
       "258262                           Formació i educació   \n",
       "258172                           Formació i educació   \n",
       "251433                                   Restauració   \n",
       "251440                                   Restauració   \n",
       "256855         Gestió de la informació i comunicació   \n",
       "...                                              ...   \n",
       "242555                             Atenció sanitària   \n",
       "256225                                     Ramaderia   \n",
       "256240                     Maquinària de construcció   \n",
       "256241                         Seguretat i prevenció   \n",
       "256239                     Maquinària de construcció   \n",
       "\n",
       "                                                  NOM DE L'ACCIÓ  \\\n",
       "IDENTIFICADOR                                                      \n",
       "258262         SSCE0110_MP0353_Mòdul de pràctiques profession...   \n",
       "258172         SSCE0110_MP0353_Mòdul de pràctiques profession...   \n",
       "251433                    Pastisseria: Postres per a restauració   \n",
       "251440                       Ofertes gastronòmiques de formatges   \n",
       "256855         ADGG0208_UF0323_Aplicacions informàtiques per ...   \n",
       "...                                                          ...   \n",
       "242555            Cures en pacients amb risc de lesions cutànies   \n",
       "256225         Benestar animal: especialitat en explotacions ...   \n",
       "256240         Operador/a de plataformes mòbils de personal (...   \n",
       "256241               Seguretat i tècniques en treballs en alçada   \n",
       "256239         Actualització plataformes elevadores mòbils de...   \n",
       "\n",
       "              NIF_ENTITAT_FORMACIÓ  \\\n",
       "IDENTIFICADOR                        \n",
       "258262                   P7590004C   \n",
       "258172                   G60374022   \n",
       "251433                   A08311342   \n",
       "251440                   A08311342   \n",
       "256855                   B66117797   \n",
       "...                            ...   \n",
       "242555                   G58825811   \n",
       "256225                   B62278783   \n",
       "256240                   B62278783   \n",
       "256241                   B62278783   \n",
       "256239                   B62278783   \n",
       "\n",
       "                                                      ENTITAT  CODI_MUNICIPI  \\\n",
       "IDENTIFICADOR                                                                  \n",
       "258262           Institut Municipal d'Ocupació Salvador Segui          25120   \n",
       "258172                                                 JOVIAT           8113   \n",
       "251433                                              GRUP CETT           8019   \n",
       "251440                                              GRUP CETT           8019   \n",
       "256855         P.H.R.O. TRAINING CONSULTANTS & PARTNERS, S.L.           8266   \n",
       "...                                                       ...            ...   \n",
       "242555                                                   ACRA           8019   \n",
       "256225                                               CRITERIA           8019   \n",
       "256240                                               CRITERIA           8019   \n",
       "256241                                               CRITERIA           8019   \n",
       "256239                                               CRITERIA           8019   \n",
       "\n",
       "                        NOM_MUNICIPI  CODI_COMARCA        NOM_COMARCA  \\\n",
       "IDENTIFICADOR                                                           \n",
       "258262                        LLEIDA            33             SEGRIÀ   \n",
       "258172                       MANRESA             7              BAGES   \n",
       "251433                     BARCELONA            13         BARCELONÈS   \n",
       "251440                     BARCELONA            13         BARCELONÈS   \n",
       "256855         CERDANYOLA DEL VALLÈS            40  VALLÈS OCCIDENTAL   \n",
       "...                              ...           ...                ...   \n",
       "242555                     BARCELONA            13         BARCELONÈS   \n",
       "256225                     BARCELONA            13         BARCELONÈS   \n",
       "256240                     BARCELONA            13         BARCELONÈS   \n",
       "256241                     BARCELONA            13         BARCELONÈS   \n",
       "256239                     BARCELONA            13         BARCELONÈS   \n",
       "\n",
       "                MODALITAT                    TIPUS DE FORMACIÓ  HORES  \\\n",
       "IDENTIFICADOR                                                           \n",
       "258262         Presencial      Certificats de Professionalitat     40   \n",
       "258172         Presencial      Certificats de Professionalitat     40   \n",
       "251433         Presencial  Altra Formació Professionalitzadora     20   \n",
       "251440         Presencial  Altra Formació Professionalitzadora     16   \n",
       "256855         Presencial                                  NaN     30   \n",
       "...                   ...                                  ...    ...   \n",
       "242555         Presencial  Altra Formació Professionalitzadora     20   \n",
       "256225         Presencial                                  NaN      8   \n",
       "256240         Presencial                                  NaN     12   \n",
       "256241         Presencial                                  NaN     40   \n",
       "256239         Presencial  Altra Formació Professionalitzadora      8   \n",
       "\n",
       "                                                             WEB  \\\n",
       "IDENTIFICADOR                                                      \n",
       "258262         https://imolleida.com/detall-formacio/?idForma...   \n",
       "258172                                            www.joviat.cat   \n",
       "251433         https://www.cett.es/es/oferta-academica/por-ni...   \n",
       "251440         https://www.cett.es/es/oferta-academica/por-ni...   \n",
       "256855                                         phrofessional.com   \n",
       "...                                                          ...   \n",
       "242555                          https://www.acra.cat/ca/formacio   \n",
       "256225                            https://www.girosformacion.com   \n",
       "256240                            https://www.girosformacion.com   \n",
       "256241                            https://www.girosformacion.com   \n",
       "256239                            https://www.girosformacion.com   \n",
       "\n",
       "                             CORREU ELECTRÒNIC      TELÈFON  \n",
       "IDENTIFICADOR                                                \n",
       "258262                          imo@paeria.cat  973242000.0  \n",
       "258172                  fcontinuada@joviat.cat  938726988.0  \n",
       "251433                 careerservices@cett.cat  673775161.0  \n",
       "251440                 careerservices@cett.cat  673775161.0  \n",
       "256855         phrofessional@phrofessional.com  935948990.0  \n",
       "...                                        ...          ...  \n",
       "242555                      formacio1@acra.cat  673724697.0  \n",
       "256225                      cursos@criteria.es  932652677.0  \n",
       "256240                      cursos@criteria.es  932652677.0  \n",
       "256241                      cursos@criteria.es  932652677.0  \n",
       "256239                      cursos@criteria.es  932652677.0  \n",
       "\n",
       "[4952 rows x 15 columns]"
      ]
     },
     "execution_count": 185,
     "metadata": {},
     "output_type": "execute_result"
    }
   ],
   "source": [
    "# Fix the path to use proper directory separators and a more robust path construction\n",
    "import os\n",
    "\n",
    "# Update the project path with the complete path\n",
    "ruta_proyecto = os.path.join(os.path.expanduser(\"~\"), \"Downloads\", \"YTT\", \"AINAHACK\", \"AinaHack-Data\")\n",
    "\n",
    "# Update the path to match the actual file location\n",
    "ruta_completa = os.path.join(ruta_proyecto, \"02_Datos\", \"01_Originales\", nombre_fichero_datos)\n",
    "\n",
    "# Add error handling for file reading\n",
    "try:\n",
    "    df = pd.read_csv(ruta_completa, encoding='utf-8')\n",
    "    print(f\"Archivo cargado exitosamente desde: {ruta_completa}\")\n",
    "except FileNotFoundError:\n",
    "    print(f\"Error: No se encontró el archivo en la ruta: {ruta_completa}\")\n",
    "    print(\"Por favor, verifica que:\")\n",
    "    print(\"1. La ruta del proyecto es correcta:\", ruta_proyecto)\n",
    "    print(\"2. El archivo existe en la carpeta 02_Datos/01_Originales\")\n",
    "    print(\"3. El nombre del archivo es exactamente '2024_accions_formatives_previstes_consorci.csv'\")\n",
    "\n",
    "df = pd.read_csv(ruta_completa,index_col=0)\n",
    "df"
   ]
  },
  {
   "cell_type": "markdown",
   "id": "9790d322",
   "metadata": {},
   "source": [
    "### CORRECCIÓN DE NOMBRES DE VARIABLES"
   ]
  },
  {
   "cell_type": "markdown",
   "id": "f1fa5201",
   "metadata": {},
   "source": [
    "**Corrección automática**"
   ]
  },
  {
   "cell_type": "code",
   "execution_count": 186,
   "id": "02607b69",
   "metadata": {},
   "outputs": [
    {
     "data": {
      "text/html": [
       "<div>\n",
       "<style scoped>\n",
       "    .dataframe tbody tr th:only-of-type {\n",
       "        vertical-align: middle;\n",
       "    }\n",
       "\n",
       "    .dataframe tbody tr th {\n",
       "        vertical-align: top;\n",
       "    }\n",
       "\n",
       "    .dataframe thead th {\n",
       "        text-align: right;\n",
       "    }\n",
       "</style>\n",
       "<table border=\"1\" class=\"dataframe\">\n",
       "  <thead>\n",
       "    <tr style=\"text-align: right;\">\n",
       "      <th></th>\n",
       "      <th>familia_professional</th>\n",
       "      <th>area_professional</th>\n",
       "      <th>nom_de_laccio</th>\n",
       "      <th>nif_entitat_formacio</th>\n",
       "      <th>entitat</th>\n",
       "      <th>codi_municipi</th>\n",
       "      <th>nom_municipi</th>\n",
       "      <th>codi_comarca</th>\n",
       "      <th>nom_comarca</th>\n",
       "      <th>modalitat</th>\n",
       "      <th>tipus_de_formacio</th>\n",
       "      <th>hores</th>\n",
       "      <th>web</th>\n",
       "      <th>correu_electronic</th>\n",
       "      <th>telefon</th>\n",
       "    </tr>\n",
       "    <tr>\n",
       "      <th>IDENTIFICADOR</th>\n",
       "      <th></th>\n",
       "      <th></th>\n",
       "      <th></th>\n",
       "      <th></th>\n",
       "      <th></th>\n",
       "      <th></th>\n",
       "      <th></th>\n",
       "      <th></th>\n",
       "      <th></th>\n",
       "      <th></th>\n",
       "      <th></th>\n",
       "      <th></th>\n",
       "      <th></th>\n",
       "      <th></th>\n",
       "      <th></th>\n",
       "    </tr>\n",
       "  </thead>\n",
       "  <tbody>\n",
       "    <tr>\n",
       "      <th>258262</th>\n",
       "      <td>Serveis socioculturals i a la comunitat</td>\n",
       "      <td>Formació i educació</td>\n",
       "      <td>SSCE0110_MP0353_Mòdul de pràctiques profession...</td>\n",
       "      <td>P7590004C</td>\n",
       "      <td>Institut Municipal d'Ocupació Salvador Segui</td>\n",
       "      <td>25120</td>\n",
       "      <td>LLEIDA</td>\n",
       "      <td>33</td>\n",
       "      <td>SEGRIÀ</td>\n",
       "      <td>Presencial</td>\n",
       "      <td>Certificats de Professionalitat</td>\n",
       "      <td>40</td>\n",
       "      <td>https://imolleida.com/detall-formacio/?idForma...</td>\n",
       "      <td>imo@paeria.cat</td>\n",
       "      <td>973242000.0</td>\n",
       "    </tr>\n",
       "    <tr>\n",
       "      <th>258172</th>\n",
       "      <td>Serveis socioculturals i a la comunitat</td>\n",
       "      <td>Formació i educació</td>\n",
       "      <td>SSCE0110_MP0353_Mòdul de pràctiques profession...</td>\n",
       "      <td>G60374022</td>\n",
       "      <td>JOVIAT</td>\n",
       "      <td>8113</td>\n",
       "      <td>MANRESA</td>\n",
       "      <td>7</td>\n",
       "      <td>BAGES</td>\n",
       "      <td>Presencial</td>\n",
       "      <td>Certificats de Professionalitat</td>\n",
       "      <td>40</td>\n",
       "      <td>www.joviat.cat</td>\n",
       "      <td>fcontinuada@joviat.cat</td>\n",
       "      <td>938726988.0</td>\n",
       "    </tr>\n",
       "    <tr>\n",
       "      <th>251433</th>\n",
       "      <td>Hostaleria i turisme</td>\n",
       "      <td>Restauració</td>\n",
       "      <td>Pastisseria: Postres per a restauració</td>\n",
       "      <td>A08311342</td>\n",
       "      <td>GRUP CETT</td>\n",
       "      <td>8019</td>\n",
       "      <td>BARCELONA</td>\n",
       "      <td>13</td>\n",
       "      <td>BARCELONÈS</td>\n",
       "      <td>Presencial</td>\n",
       "      <td>Altra Formació Professionalitzadora</td>\n",
       "      <td>20</td>\n",
       "      <td>https://www.cett.es/es/oferta-academica/por-ni...</td>\n",
       "      <td>careerservices@cett.cat</td>\n",
       "      <td>673775161.0</td>\n",
       "    </tr>\n",
       "    <tr>\n",
       "      <th>251440</th>\n",
       "      <td>Hostaleria i turisme</td>\n",
       "      <td>Restauració</td>\n",
       "      <td>Ofertes gastronòmiques de formatges</td>\n",
       "      <td>A08311342</td>\n",
       "      <td>GRUP CETT</td>\n",
       "      <td>8019</td>\n",
       "      <td>BARCELONA</td>\n",
       "      <td>13</td>\n",
       "      <td>BARCELONÈS</td>\n",
       "      <td>Presencial</td>\n",
       "      <td>Altra Formació Professionalitzadora</td>\n",
       "      <td>16</td>\n",
       "      <td>https://www.cett.es/es/oferta-academica/por-ni...</td>\n",
       "      <td>careerservices@cett.cat</td>\n",
       "      <td>673775161.0</td>\n",
       "    </tr>\n",
       "    <tr>\n",
       "      <th>256855</th>\n",
       "      <td>Administració i gestió</td>\n",
       "      <td>Gestió de la informació i comunicació</td>\n",
       "      <td>ADGG0208_UF0323_Aplicacions informàtiques per ...</td>\n",
       "      <td>B66117797</td>\n",
       "      <td>P.H.R.O. TRAINING CONSULTANTS &amp; PARTNERS, S.L.</td>\n",
       "      <td>8266</td>\n",
       "      <td>CERDANYOLA DEL VALLÈS</td>\n",
       "      <td>40</td>\n",
       "      <td>VALLÈS OCCIDENTAL</td>\n",
       "      <td>Presencial</td>\n",
       "      <td>NaN</td>\n",
       "      <td>30</td>\n",
       "      <td>phrofessional.com</td>\n",
       "      <td>phrofessional@phrofessional.com</td>\n",
       "      <td>935948990.0</td>\n",
       "    </tr>\n",
       "    <tr>\n",
       "      <th>...</th>\n",
       "      <td>...</td>\n",
       "      <td>...</td>\n",
       "      <td>...</td>\n",
       "      <td>...</td>\n",
       "      <td>...</td>\n",
       "      <td>...</td>\n",
       "      <td>...</td>\n",
       "      <td>...</td>\n",
       "      <td>...</td>\n",
       "      <td>...</td>\n",
       "      <td>...</td>\n",
       "      <td>...</td>\n",
       "      <td>...</td>\n",
       "      <td>...</td>\n",
       "      <td>...</td>\n",
       "    </tr>\n",
       "    <tr>\n",
       "      <th>242555</th>\n",
       "      <td>Sanitat</td>\n",
       "      <td>Atenció sanitària</td>\n",
       "      <td>Cures en pacients amb risc de lesions cutànies</td>\n",
       "      <td>G58825811</td>\n",
       "      <td>ACRA</td>\n",
       "      <td>8019</td>\n",
       "      <td>BARCELONA</td>\n",
       "      <td>13</td>\n",
       "      <td>BARCELONÈS</td>\n",
       "      <td>Presencial</td>\n",
       "      <td>Altra Formació Professionalitzadora</td>\n",
       "      <td>20</td>\n",
       "      <td>https://www.acra.cat/ca/formacio</td>\n",
       "      <td>formacio1@acra.cat</td>\n",
       "      <td>673724697.0</td>\n",
       "    </tr>\n",
       "    <tr>\n",
       "      <th>256225</th>\n",
       "      <td>Agrària</td>\n",
       "      <td>Ramaderia</td>\n",
       "      <td>Benestar animal: especialitat en explotacions ...</td>\n",
       "      <td>B62278783</td>\n",
       "      <td>CRITERIA</td>\n",
       "      <td>8019</td>\n",
       "      <td>BARCELONA</td>\n",
       "      <td>13</td>\n",
       "      <td>BARCELONÈS</td>\n",
       "      <td>Presencial</td>\n",
       "      <td>NaN</td>\n",
       "      <td>8</td>\n",
       "      <td>https://www.girosformacion.com</td>\n",
       "      <td>cursos@criteria.es</td>\n",
       "      <td>932652677.0</td>\n",
       "    </tr>\n",
       "    <tr>\n",
       "      <th>256240</th>\n",
       "      <td>Edificació i obra civil</td>\n",
       "      <td>Maquinària de construcció</td>\n",
       "      <td>Operador/a de plataformes mòbils de personal (...</td>\n",
       "      <td>B62278783</td>\n",
       "      <td>CRITERIA</td>\n",
       "      <td>8019</td>\n",
       "      <td>BARCELONA</td>\n",
       "      <td>13</td>\n",
       "      <td>BARCELONÈS</td>\n",
       "      <td>Presencial</td>\n",
       "      <td>NaN</td>\n",
       "      <td>12</td>\n",
       "      <td>https://www.girosformacion.com</td>\n",
       "      <td>cursos@criteria.es</td>\n",
       "      <td>932652677.0</td>\n",
       "    </tr>\n",
       "    <tr>\n",
       "      <th>256241</th>\n",
       "      <td>Seguretat i medi ambient</td>\n",
       "      <td>Seguretat i prevenció</td>\n",
       "      <td>Seguretat i tècniques en treballs en alçada</td>\n",
       "      <td>B62278783</td>\n",
       "      <td>CRITERIA</td>\n",
       "      <td>8019</td>\n",
       "      <td>BARCELONA</td>\n",
       "      <td>13</td>\n",
       "      <td>BARCELONÈS</td>\n",
       "      <td>Presencial</td>\n",
       "      <td>NaN</td>\n",
       "      <td>40</td>\n",
       "      <td>https://www.girosformacion.com</td>\n",
       "      <td>cursos@criteria.es</td>\n",
       "      <td>932652677.0</td>\n",
       "    </tr>\n",
       "    <tr>\n",
       "      <th>256239</th>\n",
       "      <td>Edificació i obra civil</td>\n",
       "      <td>Maquinària de construcció</td>\n",
       "      <td>Actualització plataformes elevadores mòbils de...</td>\n",
       "      <td>B62278783</td>\n",
       "      <td>CRITERIA</td>\n",
       "      <td>8019</td>\n",
       "      <td>BARCELONA</td>\n",
       "      <td>13</td>\n",
       "      <td>BARCELONÈS</td>\n",
       "      <td>Presencial</td>\n",
       "      <td>Altra Formació Professionalitzadora</td>\n",
       "      <td>8</td>\n",
       "      <td>https://www.girosformacion.com</td>\n",
       "      <td>cursos@criteria.es</td>\n",
       "      <td>932652677.0</td>\n",
       "    </tr>\n",
       "  </tbody>\n",
       "</table>\n",
       "<p>4952 rows × 15 columns</p>\n",
       "</div>"
      ],
      "text/plain": [
       "                                  familia_professional  \\\n",
       "IDENTIFICADOR                                            \n",
       "258262         Serveis socioculturals i a la comunitat   \n",
       "258172         Serveis socioculturals i a la comunitat   \n",
       "251433                            Hostaleria i turisme   \n",
       "251440                            Hostaleria i turisme   \n",
       "256855                          Administració i gestió   \n",
       "...                                                ...   \n",
       "242555                                         Sanitat   \n",
       "256225                                         Agrària   \n",
       "256240                         Edificació i obra civil   \n",
       "256241                        Seguretat i medi ambient   \n",
       "256239                         Edificació i obra civil   \n",
       "\n",
       "                                   area_professional  \\\n",
       "IDENTIFICADOR                                          \n",
       "258262                           Formació i educació   \n",
       "258172                           Formació i educació   \n",
       "251433                                   Restauració   \n",
       "251440                                   Restauració   \n",
       "256855         Gestió de la informació i comunicació   \n",
       "...                                              ...   \n",
       "242555                             Atenció sanitària   \n",
       "256225                                     Ramaderia   \n",
       "256240                     Maquinària de construcció   \n",
       "256241                         Seguretat i prevenció   \n",
       "256239                     Maquinària de construcció   \n",
       "\n",
       "                                                   nom_de_laccio  \\\n",
       "IDENTIFICADOR                                                      \n",
       "258262         SSCE0110_MP0353_Mòdul de pràctiques profession...   \n",
       "258172         SSCE0110_MP0353_Mòdul de pràctiques profession...   \n",
       "251433                    Pastisseria: Postres per a restauració   \n",
       "251440                       Ofertes gastronòmiques de formatges   \n",
       "256855         ADGG0208_UF0323_Aplicacions informàtiques per ...   \n",
       "...                                                          ...   \n",
       "242555            Cures en pacients amb risc de lesions cutànies   \n",
       "256225         Benestar animal: especialitat en explotacions ...   \n",
       "256240         Operador/a de plataformes mòbils de personal (...   \n",
       "256241               Seguretat i tècniques en treballs en alçada   \n",
       "256239         Actualització plataformes elevadores mòbils de...   \n",
       "\n",
       "              nif_entitat_formacio  \\\n",
       "IDENTIFICADOR                        \n",
       "258262                   P7590004C   \n",
       "258172                   G60374022   \n",
       "251433                   A08311342   \n",
       "251440                   A08311342   \n",
       "256855                   B66117797   \n",
       "...                            ...   \n",
       "242555                   G58825811   \n",
       "256225                   B62278783   \n",
       "256240                   B62278783   \n",
       "256241                   B62278783   \n",
       "256239                   B62278783   \n",
       "\n",
       "                                                      entitat  codi_municipi  \\\n",
       "IDENTIFICADOR                                                                  \n",
       "258262           Institut Municipal d'Ocupació Salvador Segui          25120   \n",
       "258172                                                 JOVIAT           8113   \n",
       "251433                                              GRUP CETT           8019   \n",
       "251440                                              GRUP CETT           8019   \n",
       "256855         P.H.R.O. TRAINING CONSULTANTS & PARTNERS, S.L.           8266   \n",
       "...                                                       ...            ...   \n",
       "242555                                                   ACRA           8019   \n",
       "256225                                               CRITERIA           8019   \n",
       "256240                                               CRITERIA           8019   \n",
       "256241                                               CRITERIA           8019   \n",
       "256239                                               CRITERIA           8019   \n",
       "\n",
       "                        nom_municipi  codi_comarca        nom_comarca  \\\n",
       "IDENTIFICADOR                                                           \n",
       "258262                        LLEIDA            33             SEGRIÀ   \n",
       "258172                       MANRESA             7              BAGES   \n",
       "251433                     BARCELONA            13         BARCELONÈS   \n",
       "251440                     BARCELONA            13         BARCELONÈS   \n",
       "256855         CERDANYOLA DEL VALLÈS            40  VALLÈS OCCIDENTAL   \n",
       "...                              ...           ...                ...   \n",
       "242555                     BARCELONA            13         BARCELONÈS   \n",
       "256225                     BARCELONA            13         BARCELONÈS   \n",
       "256240                     BARCELONA            13         BARCELONÈS   \n",
       "256241                     BARCELONA            13         BARCELONÈS   \n",
       "256239                     BARCELONA            13         BARCELONÈS   \n",
       "\n",
       "                modalitat                    tipus_de_formacio  hores  \\\n",
       "IDENTIFICADOR                                                           \n",
       "258262         Presencial      Certificats de Professionalitat     40   \n",
       "258172         Presencial      Certificats de Professionalitat     40   \n",
       "251433         Presencial  Altra Formació Professionalitzadora     20   \n",
       "251440         Presencial  Altra Formació Professionalitzadora     16   \n",
       "256855         Presencial                                  NaN     30   \n",
       "...                   ...                                  ...    ...   \n",
       "242555         Presencial  Altra Formació Professionalitzadora     20   \n",
       "256225         Presencial                                  NaN      8   \n",
       "256240         Presencial                                  NaN     12   \n",
       "256241         Presencial                                  NaN     40   \n",
       "256239         Presencial  Altra Formació Professionalitzadora      8   \n",
       "\n",
       "                                                             web  \\\n",
       "IDENTIFICADOR                                                      \n",
       "258262         https://imolleida.com/detall-formacio/?idForma...   \n",
       "258172                                            www.joviat.cat   \n",
       "251433         https://www.cett.es/es/oferta-academica/por-ni...   \n",
       "251440         https://www.cett.es/es/oferta-academica/por-ni...   \n",
       "256855                                         phrofessional.com   \n",
       "...                                                          ...   \n",
       "242555                          https://www.acra.cat/ca/formacio   \n",
       "256225                            https://www.girosformacion.com   \n",
       "256240                            https://www.girosformacion.com   \n",
       "256241                            https://www.girosformacion.com   \n",
       "256239                            https://www.girosformacion.com   \n",
       "\n",
       "                             correu_electronic      telefon  \n",
       "IDENTIFICADOR                                                \n",
       "258262                          imo@paeria.cat  973242000.0  \n",
       "258172                  fcontinuada@joviat.cat  938726988.0  \n",
       "251433                 careerservices@cett.cat  673775161.0  \n",
       "251440                 careerservices@cett.cat  673775161.0  \n",
       "256855         phrofessional@phrofessional.com  935948990.0  \n",
       "...                                        ...          ...  \n",
       "242555                      formacio1@acra.cat  673724697.0  \n",
       "256225                      cursos@criteria.es  932652677.0  \n",
       "256240                      cursos@criteria.es  932652677.0  \n",
       "256241                      cursos@criteria.es  932652677.0  \n",
       "256239                      cursos@criteria.es  932652677.0  \n",
       "\n",
       "[4952 rows x 15 columns]"
      ]
     },
     "execution_count": 186,
     "metadata": {},
     "output_type": "execute_result"
    }
   ],
   "source": [
    "df = clean_names(df) # Limpieza de nombres de columnas de forma automática\n",
    "df"
   ]
  },
  {
   "cell_type": "markdown",
   "id": "25bf4c99",
   "metadata": {},
   "source": [
    "**Corrección manual**"
   ]
  },
  {
   "cell_type": "code",
   "execution_count": 187,
   "id": "c6d83e70",
   "metadata": {},
   "outputs": [],
   "source": [
    "# df.rename(columns = {'fomacion':'formacion',\n",
    "#                      'prestamo_hipotecario':'hipoteca',\n",
    "#                      'prestamo_personal':'consumo'}, inplace=True)\n",
    "# df"
   ]
  },
  {
   "cell_type": "markdown",
   "id": "d2d5443c",
   "metadata": {},
   "source": [
    "### VISIÓN GENERAL"
   ]
  },
  {
   "cell_type": "code",
   "execution_count": 188,
   "id": "976c8ac6",
   "metadata": {},
   "outputs": [
    {
     "name": "stdout",
     "output_type": "stream",
     "text": [
      "<class 'pandas.core.frame.DataFrame'>\n",
      "Index: 4952 entries, 258262 to 256239\n",
      "Data columns (total 15 columns):\n",
      " #   Column                Non-Null Count  Dtype  \n",
      "---  ------                --------------  -----  \n",
      " 0   familia_professional  4952 non-null   object \n",
      " 1   area_professional     4952 non-null   object \n",
      " 2   nom_de_laccio         4952 non-null   object \n",
      " 3   nif_entitat_formacio  4952 non-null   object \n",
      " 4   entitat               4952 non-null   object \n",
      " 5   codi_municipi         4952 non-null   int64  \n",
      " 6   nom_municipi          4952 non-null   object \n",
      " 7   codi_comarca          4952 non-null   int64  \n",
      " 8   nom_comarca           4952 non-null   object \n",
      " 9   modalitat             4952 non-null   object \n",
      " 10  tipus_de_formacio     3055 non-null   object \n",
      " 11  hores                 4952 non-null   int64  \n",
      " 12  web                   4938 non-null   object \n",
      " 13  correu_electronic     4938 non-null   object \n",
      " 14  telefon               4938 non-null   float64\n",
      "dtypes: float64(1), int64(3), object(11)\n",
      "memory usage: 619.0+ KB\n"
     ]
    }
   ],
   "source": [
    "df.info()"
   ]
  },
  {
   "cell_type": "markdown",
   "id": "158ee1d7",
   "metadata": {},
   "source": [
    "### TIPOS DE DATOS"
   ]
  },
  {
   "cell_type": "markdown",
   "id": "88162727",
   "metadata": {},
   "source": [
    "- Identificación"
   ]
  },
  {
   "cell_type": "code",
   "execution_count": 189,
   "id": "197a99c2",
   "metadata": {},
   "outputs": [
    {
     "data": {
      "text/plain": [
       "familia_professional     object\n",
       "area_professional        object\n",
       "nom_de_laccio            object\n",
       "nif_entitat_formacio     object\n",
       "entitat                  object\n",
       "codi_municipi             int64\n",
       "nom_municipi             object\n",
       "codi_comarca              int64\n",
       "nom_comarca              object\n",
       "modalitat                object\n",
       "tipus_de_formacio        object\n",
       "hores                     int64\n",
       "web                      object\n",
       "correu_electronic        object\n",
       "telefon                 float64\n",
       "dtype: object"
      ]
     },
     "execution_count": 189,
     "metadata": {},
     "output_type": "execute_result"
    }
   ],
   "source": [
    "df.dtypes"
   ]
  },
  {
   "cell_type": "markdown",
   "id": "54f495a6",
   "metadata": {},
   "source": [
    "- Corrección"
   ]
  },
  {
   "cell_type": "code",
   "execution_count": 190,
   "id": "828b9893",
   "metadata": {
    "scrolled": true
   },
   "outputs": [
    {
     "data": {
      "text/plain": [
       "familia_professional    object\n",
       "area_professional       object\n",
       "nom_de_laccio           object\n",
       "nif_entitat_formacio    object\n",
       "entitat                 object\n",
       "codi_municipi            int64\n",
       "nom_municipi            object\n",
       "codi_comarca             int64\n",
       "nom_comarca             object\n",
       "modalitat               object\n",
       "tipus_de_formacio       object\n",
       "hores                    int64\n",
       "web                     object\n",
       "correu_electronic       object\n",
       "telefon                 object\n",
       "dtype: object"
      ]
     },
     "execution_count": 190,
     "metadata": {},
     "output_type": "execute_result"
    }
   ],
   "source": [
    "# Convertir tipos de datos más apropiados\n",
    "df = df.astype({\n",
    "    # Mantener como object (campos de texto)\n",
    "    'familia_professional': 'object',    # Categoría de familia profesional\n",
    "    'area_professional': 'object',       # Área profesional\n",
    "    'nom_de_laccio': 'object',          # Nombre de la acción\n",
    "    'nif_entitat_formacio': 'object',   # NIF (mantener como texto para preservar formato)\n",
    "    'entitat': 'object',                # Nombre de la entidad\n",
    "    'nom_municipi': 'object',           # Nombre del municipio\n",
    "    'nom_comarca': 'object',            # Nombre de la comarca\n",
    "    'modalitat': 'object',              # Modalidad\n",
    "    'tipus_de_formacio': 'object',      # Tipo de formación\n",
    "    'web': 'object',                    # URL web\n",
    "    'correu_electronic': 'object',      # Email\n",
    "    \n",
    "    # Mantener como int64 (códigos y valores enteros)\n",
    "    'codi_municipi': 'int64',           # Código de municipio\n",
    "    'codi_comarca': 'int64',            # Código de comarca\n",
    "    'hores': 'int64',                   # Horas de formación\n",
    "    \n",
    "    # Convertir teléfono a string/object\n",
    "    'telefon': 'object'                 # Teléfono (mejor como texto para preservar formato)\n",
    "})\n",
    "\n",
    "df.dtypes"
   ]
  },
  {
   "cell_type": "markdown",
   "id": "0d00896f",
   "metadata": {},
   "source": [
    "- tipus_de_formacio tiene 1897 valores nulos (3055 no nulos de 4952)\n",
    "- web, correu_electronic y telefon tienen 14 valores nulos cada uno (4938 no nulos de 4952)\n",
    "- El resto de campos están completos (4952 no nulos)\n",
    "\n",
    "El cambio más significativo sugerido es convertir telefon de float64 a object porque:\n",
    "- Los números de teléfono no son realmente números para operar\n",
    "- Pueden tener formatos específicos (prefijos, guiones, etc.)\n",
    "- Pueden empezar por 0, lo cual se perdería en formato numérico"
   ]
  },
  {
   "cell_type": "markdown",
   "id": "cc8d4a22",
   "metadata": {},
   "source": [
    "### VALORES ÚNICOS"
   ]
  },
  {
   "cell_type": "markdown",
   "id": "f21f0e36",
   "metadata": {},
   "source": [
    "- Identificación"
   ]
  },
  {
   "cell_type": "code",
   "execution_count": 191,
   "id": "6e53e444",
   "metadata": {},
   "outputs": [
    {
     "data": {
      "text/plain": [
       "modalitat                  3\n",
       "tipus_de_formacio          4\n",
       "codi_comarca              21\n",
       "nom_comarca               22\n",
       "familia_professional      24\n",
       "codi_municipi             38\n",
       "nom_municipi              39\n",
       "hores                     61\n",
       "area_professional         82\n",
       "telefon                   99\n",
       "correu_electronic        101\n",
       "web                      101\n",
       "nif_entitat_formacio     104\n",
       "entitat                  104\n",
       "nom_de_laccio           1344\n",
       "dtype: int64"
      ]
     },
     "execution_count": 191,
     "metadata": {},
     "output_type": "execute_result"
    }
   ],
   "source": [
    "df.nunique().sort_values()"
   ]
  },
  {
   "cell_type": "code",
   "execution_count": 192,
   "id": "2f4ff709",
   "metadata": {},
   "outputs": [
    {
     "name": "stdout",
     "output_type": "stream",
     "text": [
      "Valores únicos en columnas con un solo valor:\n"
     ]
    }
   ],
   "source": [
    "columnas_un_valor = [col for col in df.columns if df[col].nunique() == 1]\n",
    "# ambit, tipusequipament, tipusgeneral, titularitat\n",
    "print(\"Valores únicos en columnas con un solo valor:\")\n",
    "for col in columnas_un_valor:\n",
    "    print(f\"{col}: {df[col].unique()[0]}\")"
   ]
  },
  {
   "cell_type": "code",
   "execution_count": 193,
   "id": "43b26b66",
   "metadata": {},
   "outputs": [
    {
     "name": "stdout",
     "output_type": "stream",
     "text": [
      "\n",
      "Categorías en modalitat:\n",
      "modalitat\n",
      "Presencial      3821\n",
      "Teleformació    1116\n",
      "Mixta             15\n",
      "Name: count, dtype: int64\n",
      "\n",
      "Categorías en tipus_de_formacio:\n",
      "tipus_de_formacio\n",
      "Altra Formació Professionalitzadora                                                                                                          2223\n",
      "Certificats de Professionalitat                                                                                                               530\n",
      "Acreditacions oficials que capaciten per a un lloc de treball, formació regulada per conveni col·lectiu o certificacions de fabricant TIC     172\n",
      "Formació d'idiomes preparatòria per certificacions segons Marc Comú Europeu de Referència de les Llengües                                     130\n",
      "Name: count, dtype: int64\n"
     ]
    }
   ],
   "source": [
    "# Variables con pocas categorías\n",
    "variables_categoricas = {\n",
    "    'modalitat': 3,           # Solo 3 tipos de modalidades\n",
    "    'tipus_de_formacio': 4    # 4 tipos de formación\n",
    "}\n",
    "\n",
    "# Ver las categorías específicas\n",
    "for var in variables_categoricas:\n",
    "    print(f\"\\nCategorías en {var}:\")\n",
    "    print(df[var].value_counts())"
   ]
  },
  {
   "cell_type": "code",
   "execution_count": 194,
   "id": "a39c3028",
   "metadata": {},
   "outputs": [
    {
     "name": "stdout",
     "output_type": "stream",
     "text": [
      "Verificación después de imputar modalitat:\n",
      "modalitat\n",
      "Presencial      3821\n",
      "Teleformació    1116\n",
      "Mixta             15\n",
      "Name: count, dtype: int64\n",
      "Nulos en modalitat: 0\n",
      "\n",
      "Análisis de tipus_de_formacio:\n",
      "\n",
      "a) Distribución actual:\n",
      "tipus_de_formacio\n",
      "Altra Formació Professionalitzadora                                                                                                          2223\n",
      "Certificats de Professionalitat                                                                                                               530\n",
      "Acreditacions oficials que capaciten per a un lloc de treball, formació regulada per conveni col·lectiu o certificacions de fabricant TIC     172\n",
      "Formació d'idiomes preparatòria per certificacions segons Marc Comú Europeu de Referència de les Llengües                                     130\n",
      "Name: count, dtype: int64\n",
      "\n",
      "b) Valores nulos: 1897 (38.3%)\n",
      "\n",
      "c) Relación entre tipus_de_formacio y modalitat:\n",
      "modalitat                                           Mixta  Presencial  \\\n",
      "tipus_de_formacio                                                       \n",
      "Acreditacions oficials que capaciten per a un l...      1         155   \n",
      "Altra Formació Professionalitzadora                     4        1550   \n",
      "Certificats de Professionalitat                         0         411   \n",
      "Formació d'idiomes preparatòria per certificaci...      0         100   \n",
      "All                                                     5        2216   \n",
      "\n",
      "modalitat                                           Teleformació   All  \n",
      "tipus_de_formacio                                                       \n",
      "Acreditacions oficials que capaciten per a un l...            16   172  \n",
      "Altra Formació Professionalitzadora                          669  2223  \n",
      "Certificats de Professionalitat                              119   530  \n",
      "Formació d'idiomes preparatòria per certificaci...            30   130  \n",
      "All                                                          834  3055  \n",
      "\n",
      "d) Características de registros con tipus_de_formacio nulo:\n",
      "\n",
      "Distribución de modalitat en registros con tipus_de_formacio nulo:\n",
      "modalitat\n",
      "Presencial      1605\n",
      "Teleformació     282\n",
      "Mixta             10\n",
      "Name: count, dtype: int64\n",
      "\n",
      "Distribución de familia_professional en registros con tipus_de_formacio nulo (top 5):\n",
      "familia_professional\n",
      "Seguretat i medi ambient                   308\n",
      "Serveis socioculturals i a la comunitat    264\n",
      "Formació complementària                    185\n",
      "Competències transversals                  162\n",
      "Informàtica i comunicacions                127\n",
      "Name: count, dtype: int64\n"
     ]
    }
   ],
   "source": [
    "# 1. Imputar modalitat por la moda\n",
    "moda_modalitat = df['modalitat'].mode()[0]  # Obtiene la moda ('Presencial')\n",
    "df['modalitat'] = df['modalitat'].fillna(moda_modalitat)\n",
    "\n",
    "print(\"Verificación después de imputar modalitat:\")\n",
    "print(df['modalitat'].value_counts())\n",
    "print(f\"Nulos en modalitat: {df['modalitat'].isna().sum()}\\n\")\n",
    "\n",
    "# 2. Análisis profundo de tipus_de_formacio\n",
    "print(\"Análisis de tipus_de_formacio:\")\n",
    "print(\"\\na) Distribución actual:\")\n",
    "print(df['tipus_de_formacio'].value_counts())\n",
    "print(f\"\\nb) Valores nulos: {df['tipus_de_formacio'].isna().sum()} ({(df['tipus_de_formacio'].isna().sum()/len(df)*100):.1f}%)\")\n",
    "\n",
    "# 3. Análisis cruzado\n",
    "print(\"\\nc) Relación entre tipus_de_formacio y modalitat:\")\n",
    "print(pd.crosstab(df['tipus_de_formacio'], df['modalitat'], margins=True))\n",
    "\n",
    "# 4. Análisis de patrones en los nulos\n",
    "print(\"\\nd) Características de registros con tipus_de_formacio nulo:\")\n",
    "nulos_tipus = df[df['tipus_de_formacio'].isna()]\n",
    "print(\"\\nDistribución de modalitat en registros con tipus_de_formacio nulo:\")\n",
    "print(nulos_tipus['modalitat'].value_counts())\n",
    "print(\"\\nDistribución de familia_professional en registros con tipus_de_formacio nulo (top 5):\")\n",
    "print(nulos_tipus['familia_professional'].value_counts().head())"
   ]
  },
  {
   "cell_type": "markdown",
   "id": "5e7161eb",
   "metadata": {},
   "source": [
    "- Anàlisis de la variable tipus_formacio"
   ]
  },
  {
   "cell_type": "code",
   "execution_count": 195,
   "id": "c547a9c7",
   "metadata": {},
   "outputs": [
    {
     "name": "stdout",
     "output_type": "stream",
     "text": [
      "Análisis de registros con tipus_de_formacio nulo:\n",
      "\n",
      "1. Distribución por familia_professional:\n",
      "familia_professional\n",
      "Seguretat i medi ambient                   308\n",
      "Serveis socioculturals i a la comunitat    264\n",
      "Formació complementària                    185\n",
      "Competències transversals                  162\n",
      "Informàtica i comunicacions                127\n",
      "Comerç i màrqueting                        121\n",
      "Administració i gestió                     106\n",
      "Hostaleria i turisme                       104\n",
      "Sanitat                                     78\n",
      "Transport i manteniment de vehicles         77\n",
      "Edificació i obra civil                     77\n",
      "Agrària                                     56\n",
      "Activitats físiques i esportives            51\n",
      "Fabricació mecànica                         30\n",
      "Indústries alimentàries                     28\n",
      "Imatge personal                             21\n",
      "Electricitat i electrònica                  21\n",
      "Energia i aigua                             20\n",
      "Química                                     20\n",
      "Arts gràfiques                              18\n",
      "Instal·lació i manteniment                  10\n",
      "Imatge i so                                  7\n",
      "Tèxtil, confecció i pell                     4\n",
      "Arts i artesanies                            2\n",
      "Name: count, dtype: int64\n",
      "\n",
      "2. Distribución por area_professional:\n",
      "area_professional\n",
      "Seguretat i prevenció                    295\n",
      "Formació i educació                      207\n",
      "Digitals / Ofimàtica / Tics              167\n",
      "Restauració                               97\n",
      "Atenció sanitària                         78\n",
      "Sistemes i telemàtica                     60\n",
      "Habilitats personals i socials            60\n",
      "Gestió de la informació i comunicació     59\n",
      "Desenvolupament                           57\n",
      "Màrqueting i relacions públiques          53\n",
      "Name: count, dtype: int64\n",
      "\n",
      "3. Ejemplo de algunos registros completos:\n",
      "                 familia_professional                      area_professional  \\\n",
      "IDENTIFICADOR                                                                  \n",
      "256855         Administració i gestió  Gestió de la informació i comunicació   \n",
      "241672                        Agrària                              Ramaderia   \n",
      "258823         Administració i gestió              Administració i auditoria   \n",
      "257941           Hostaleria i turisme                            Restauració   \n",
      "258446            Comerç i màrqueting                            Compravenda   \n",
      "\n",
      "                                                   nom_de_laccio     modalitat  \n",
      "IDENTIFICADOR                                                                   \n",
      "256855         ADGG0208_UF0323_Aplicacions informàtiques per ...    Presencial  \n",
      "241672         Benestar animal per a titulars i personal d'ex...    Presencial  \n",
      "258823         ADGD0308_MF0976_Operacions administratives com...    Presencial  \n",
      "257941         HOTR0109_MP0167_Mòdul de pràctiques profession...    Presencial  \n",
      "258446                COMT0211_MF1329_Atenció bàsica als clients  Teleformació  \n"
     ]
    }
   ],
   "source": [
    "# Ver los registros con tipus_de_formacio nulo\n",
    "nulos_analysis = df[df['tipus_de_formacio'].isna()]\n",
    "\n",
    "print(\"Análisis de registros con tipus_de_formacio nulo:\")\n",
    "print(\"\\n1. Distribución por familia_professional:\")\n",
    "print(nulos_analysis['familia_professional'].value_counts())\n",
    "\n",
    "print(\"\\n2. Distribución por area_professional:\")\n",
    "print(nulos_analysis['area_professional'].value_counts().head(10))  # Top 10\n",
    "\n",
    "print(\"\\n3. Ejemplo de algunos registros completos:\")\n",
    "print(nulos_analysis[['familia_professional', 'area_professional', 'nom_de_laccio', 'modalitat']].head())"
   ]
  },
  {
   "cell_type": "code",
   "execution_count": 196,
   "id": "52303551",
   "metadata": {},
   "outputs": [
    {
     "name": "stdout",
     "output_type": "stream",
     "text": [
      "Distribución final de tipus_de_formacio:\n",
      "tipus_de_formacio\n",
      "Altra Formació Professionalitzadora                                                                                                          3784\n",
      "Certificats de Professionalitat                                                                                                               866\n",
      "Acreditacions oficials que capaciten per a un lloc de treball, formació regulada per conveni col·lectiu o certificacions de fabricant TIC     172\n",
      "Formació d'idiomes preparatòria per certificacions segons Marc Comú Europeu de Referència de les Llengües                                     130\n",
      "Name: count, dtype: int64\n",
      "\n",
      "Valores nulos restantes: 0\n"
     ]
    }
   ],
   "source": [
    "import re\n",
    "\n",
    "# Función para asignar tipo de formación\n",
    "def asignar_tipo_formacion(row):\n",
    "    if pd.isna(row['tipus_de_formacio']):\n",
    "        # Si tiene código normalizado (XXXX####)\n",
    "        if bool(re.match(r'^[A-Z]{4}\\d{4}', row['nom_de_laccio'])):\n",
    "            return 'Certificats de Professionalitat'\n",
    "            \n",
    "        # Por familia profesional\n",
    "        if row['familia_professional'] in ['Seguretat i medi ambient', 'Formació complementària', 'Competències transversals']:\n",
    "            return 'Altra Formació Professionalitzadora'\n",
    "            \n",
    "        # Por área profesional\n",
    "        if row['area_professional'] in ['Digitals / Ofimàtica / Tics', 'Formació i educació']:\n",
    "            return 'Altra Formació Professionalitzadora'\n",
    "            \n",
    "        return 'Altra Formació Professionalitzadora'  # Categoría por defecto\n",
    "        \n",
    "    return row['tipus_de_formacio']\n",
    "\n",
    "# Aplicar la función\n",
    "df['tipus_de_formacio'] = df.apply(asignar_tipo_formacion, axis=1)\n",
    "\n",
    "# Verificar el resultado\n",
    "print(\"Distribución final de tipus_de_formacio:\")\n",
    "print(df['tipus_de_formacio'].value_counts())\n",
    "print(f\"\\nValores nulos restantes: {df['tipus_de_formacio'].isna().sum()}\")"
   ]
  },
  {
   "cell_type": "markdown",
   "id": "46428fe6",
   "metadata": {},
   "source": [
    "- Anàlisis de la variable codi_comarca / nom_comarca y codi_municipi / nom_municipi"
   ]
  },
  {
   "cell_type": "code",
   "execution_count": 197,
   "id": "6fad3372",
   "metadata": {},
   "outputs": [
    {
     "name": "stdout",
     "output_type": "stream",
     "text": [
      "1. Análisis comarca:\n",
      "\n",
      "Valores únicos codi_comarca vs nom_comarca:\n",
      "               codi_comarca          nom_comarca\n",
      "IDENTIFICADOR                                   \n",
      "260037                    0  NORTE METROPOLITANO\n",
      "260476                    0  OESTE METROPOLITANO\n",
      "260327                    3          ALT PENEDÈS\n",
      "258172                    7                BAGES\n",
      "253904                    8            BAIX CAMP\n",
      "259557                    9            BAIX EBRE\n",
      "257005                   10         BAIX EMPORDÀ\n",
      "259784                   11       BAIX LLOBREGAT\n",
      "251433                   13           BARCELONÈS\n",
      "251302                   19             GARROTXA\n",
      "258439                   20              GIRONÈS\n",
      "244863                   21              MARESME\n",
      "253285                   22              MONTSIÀ\n",
      "239981                   24                OSONA\n",
      "257176                   30        RIBERA D'EBRE\n",
      "258893                   31             RIPOLLÈS\n",
      "258262                   33               SEGRIÀ\n",
      "260450                   34                SELVA\n",
      "257556                   36           TARRAGONÈS\n",
      "259734                   39           VAL D'ARAN\n",
      "256855                   40    VALLÈS OCCIDENTAL\n",
      "259313                   41      VALLÈS ORIENTAL\n",
      "\n",
      "2. Análisis municipi:\n",
      "\n",
      "Valores únicos codi_municipi vs nom_municipi:\n",
      "               codi_municipi               nom_municipi\n",
      "IDENTIFICADOR                                          \n",
      "243443                  8015                   BADALONA\n",
      "251433                  8019                  BARCELONA\n",
      "259422                  8056              CASTELLDEFELS\n",
      "250167                  8073      CORNELLÀ DE LLOBREGAT\n",
      "256564                  8089                       GAVÀ\n",
      "259313                  8096                 GRANOLLERS\n",
      "257821                  8101  L'HOSPITALET DE LLOBREGAT\n",
      "258172                  8113                    MANRESA\n",
      "236173                  8114                  MARTORELL\n",
      "244863                  8121                     MATARÓ\n",
      "258210                  8124          MOLLET DEL VALLÈS\n",
      "259784                  8157                    PALLEJÀ\n",
      "243647                  8169       EL PRAT DE LLOBREGAT\n",
      "252966                  8180                   RIPOLLET\n",
      "260755                  8184                       RUBÍ\n",
      "253092                  8187                   SABADELL\n",
      "249367                  8205      SANT CUGAT DEL VALLÈS\n",
      "244325                  8208     SANT ESTEVE SESROVIRES\n",
      "251224                  8217            SANT JOAN DESPÍ\n",
      "247873                  8252         BARBERÀ DEL VALLÈS\n",
      "256855                  8266      CERDANYOLA DEL VALLÈS\n",
      "259088                  8266      CERDANYOLA DEL VALLES\n",
      "259587                  8279                   TERRASSA\n",
      "239981                  8285                    TORELLÓ\n",
      "260327                  8305     VILAFRANCA DEL PENEDÈS\n",
      "258439                 17079                     GIRONA\n",
      "251302                 17114                       OLOT\n",
      "257005                 17117                PALAFRUGELL\n",
      "258893                 17147                     RIPOLL\n",
      "260450                 17164         SANT HILARI SACALM\n",
      "259734                 25025        NAUT ARAN (Salardú)\n",
      "258262                 25120                     LLEIDA\n",
      "260476                 28115         POZUELO DE ALARCÓN\n",
      "260037                 28903                TRES CANTOS\n",
      "257176                 43093                MÓRA D'EBRE\n",
      "253904                 43123                       REUS\n",
      "253285                 43136                  LA RÀPITA\n",
      "257556                 43148                  TARRAGONA\n",
      "259557                 43155                    TORTOSA\n",
      "\n",
      "3. Valores nulos:\n",
      "codi_comarca     0\n",
      "nom_comarca      0\n",
      "codi_municipi    0\n",
      "nom_municipi     0\n",
      "dtype: int64\n"
     ]
    }
   ],
   "source": [
    "# Análisis de variables geográficas\n",
    "print(\"1. Análisis comarca:\")\n",
    "print(\"\\nValores únicos codi_comarca vs nom_comarca:\")\n",
    "print(df[['codi_comarca', 'nom_comarca']].drop_duplicates().sort_values('codi_comarca'))\n",
    "\n",
    "print(\"\\n2. Análisis municipi:\")\n",
    "print(\"\\nValores únicos codi_municipi vs nom_municipi:\")\n",
    "print(df[['codi_municipi', 'nom_municipi']].drop_duplicates().sort_values('codi_municipi'))\n",
    "\n",
    "# Verificar si hay nulos\n",
    "print(\"\\n3. Valores nulos:\")\n",
    "print(df[['codi_comarca', 'nom_comarca', 'codi_municipi', 'nom_municipi']].isna().sum())"
   ]
  },
  {
   "cell_type": "code",
   "execution_count": 198,
   "id": "b3d67576",
   "metadata": {},
   "outputs": [
    {
     "name": "stdout",
     "output_type": "stream",
     "text": [
      "1. Verificación de correspondencia única:\n",
      "\n",
      "Comarcas con más de un nombre:\n",
      "codi_comarca\n",
      "0    2\n",
      "Name: nom_comarca, dtype: int64\n",
      "\n",
      "Municipios con más de un nombre:\n",
      "codi_municipi\n",
      "8266    2\n",
      "Name: nom_municipi, dtype: int64\n",
      "\n",
      "2. Top 10 comarcas por número de registros:\n",
      "codi_comarca  nom_comarca        \n",
      "13            BARCELONÈS             3246\n",
      "40            VALLÈS OCCIDENTAL       473\n",
      "41            VALLÈS ORIENTAL         180\n",
      "11            BAIX LLOBREGAT          177\n",
      "33            SEGRIÀ                  122\n",
      "20            GIRONÈS                 122\n",
      "8             BAIX CAMP               106\n",
      "30            RIBERA D'EBRE           100\n",
      "0             OESTE METROPOLITANO      75\n",
      "31            RIPOLLÈS                 66\n",
      "dtype: int64\n",
      "\n",
      "3. Verificar si hay códigos sin nombre o nombres sin código:\n",
      "Registros con inconsistencias: 0\n"
     ]
    }
   ],
   "source": [
    "# 1. Verificar la correspondencia entre códigos y nombres\n",
    "print(\"1. Verificación de correspondencia única:\")\n",
    "comarca_check = df.groupby('codi_comarca')['nom_comarca'].nunique()\n",
    "municipi_check = df.groupby('codi_municipi')['nom_municipi'].nunique()\n",
    "\n",
    "print(\"\\nComarcas con más de un nombre:\")\n",
    "print(comarca_check[comarca_check > 1])\n",
    "\n",
    "print(\"\\nMunicipios con más de un nombre:\")\n",
    "print(municipi_check[municipi_check > 1])\n",
    "\n",
    "# 2. Distribución de registros por comarca\n",
    "print(\"\\n2. Top 10 comarcas por número de registros:\")\n",
    "print(df.groupby(['codi_comarca', 'nom_comarca']).size().sort_values(ascending=False).head(10))\n",
    "\n",
    "# 3. Verificar consistencia de códigos\n",
    "print(\"\\n3. Verificar si hay códigos sin nombre o nombres sin código:\")\n",
    "inconsistencias = df[\n",
    "    (df['codi_comarca'].notna() & df['nom_comarca'].isna()) |\n",
    "    (df['codi_comarca'].isna() & df['nom_comarca'].notna()) |\n",
    "    (df['codi_municipi'].notna() & df['nom_municipi'].isna()) |\n",
    "    (df['codi_municipi'].isna() & df['nom_municipi'].notna())\n",
    "]\n",
    "print(f\"Registros con inconsistencias: {len(inconsistencias)}\")"
   ]
  },
  {
   "cell_type": "code",
   "execution_count": 199,
   "id": "535b626b",
   "metadata": {},
   "outputs": [
    {
     "name": "stdout",
     "output_type": "stream",
     "text": [
      "Detalle de la comarca con código 0:\n",
      "               codi_comarca          nom_comarca\n",
      "IDENTIFICADOR                                   \n",
      "260476                    0  OESTE METROPOLITANO\n",
      "260037                    0  NORTE METROPOLITANO\n"
     ]
    }
   ],
   "source": [
    "# Ver detalle de la inconsistencia en comarca\n",
    "print(\"Detalle de la comarca con código 0:\")\n",
    "print(df[df['codi_comarca'] == 0][['codi_comarca', 'nom_comarca']].drop_duplicates())"
   ]
  },
  {
   "cell_type": "code",
   "execution_count": 200,
   "id": "a802aaca",
   "metadata": {},
   "outputs": [
    {
     "name": "stdout",
     "output_type": "stream",
     "text": [
      "\n",
      "Detalle del municipio con código 8266:\n",
      "               codi_municipi           nom_municipi\n",
      "IDENTIFICADOR                                      \n",
      "256855                  8266  CERDANYOLA DEL VALLÈS\n",
      "259088                  8266  CERDANYOLA DEL VALLES\n"
     ]
    }
   ],
   "source": [
    "# Ver detalle de la inconsistencia en municipio\n",
    "print(\"\\nDetalle del municipio con código 8266:\")\n",
    "print(df[df['codi_municipi'] == 8266][['codi_municipi', 'nom_municipi']].drop_duplicates())"
   ]
  },
  {
   "cell_type": "code",
   "execution_count": 201,
   "id": "f3814e61",
   "metadata": {},
   "outputs": [
    {
     "name": "stdout",
     "output_type": "stream",
     "text": [
      "Verificación después de correcciones:\n",
      "\n",
      "1. Comarcas con código 0:\n",
      "               codi_comarca              nom_comarca\n",
      "IDENTIFICADOR                                       \n",
      "260476                    0  ÀREA METROPOLITANA OEST\n",
      "260037                    0  ÀREA METROPOLITANA NORD\n",
      "\n",
      "2. Municipio 8266:\n",
      "               codi_municipi           nom_municipi\n",
      "IDENTIFICADOR                                      \n",
      "256855                  8266  CERDANYOLA DEL VALLÈS\n",
      "\n",
      "3. Verificación final de unicidad:\n",
      "Comarcas con más de un nombre:\n",
      "codi_comarca\n",
      "0    2\n",
      "Name: nom_comarca, dtype: int64\n",
      "\n",
      "Municipios con más de un nombre:\n",
      "Series([], Name: nom_municipi, dtype: int64)\n"
     ]
    }
   ],
   "source": [
    "# 1. Corregir comarca con código 0\n",
    "def corregir_comarca(row):\n",
    "    if row['codi_comarca'] == 0:\n",
    "        if row['nom_comarca'] == \"OESTE METROPOLITANO\":\n",
    "            return \"ÀREA METROPOLITANA OEST\"\n",
    "        elif row['nom_comarca'] == \"NORTE METROPOLITANO\":\n",
    "            return \"ÀREA METROPOLITANA NORD\"\n",
    "    return row['nom_comarca']\n",
    "\n",
    "# 2. Corregir municipio 8266 (normalizar a catalán con acento)\n",
    "def corregir_municipi(row):\n",
    "    if row['codi_municipi'] == 8266:\n",
    "        return \"CERDANYOLA DEL VALLÈS\"\n",
    "    return row['nom_municipi']\n",
    "\n",
    "# Aplicar correcciones\n",
    "df['nom_comarca'] = df.apply(corregir_comarca, axis=1)\n",
    "df['nom_municipi'] = df.apply(corregir_municipi, axis=1)\n",
    "\n",
    "# Verificar correcciones\n",
    "print(\"Verificación después de correcciones:\")\n",
    "print(\"\\n1. Comarcas con código 0:\")\n",
    "print(df[df['codi_comarca'] == 0][['codi_comarca', 'nom_comarca']].drop_duplicates())\n",
    "\n",
    "print(\"\\n2. Municipio 8266:\")\n",
    "print(df[df['codi_municipi'] == 8266][['codi_municipi', 'nom_municipi']].drop_duplicates())\n",
    "\n",
    "# Verificar que no quedan duplicados\n",
    "print(\"\\n3. Verificación final de unicidad:\")\n",
    "print(\"Comarcas con más de un nombre:\")\n",
    "print(df.groupby('codi_comarca')['nom_comarca'].nunique()[df.groupby('codi_comarca')['nom_comarca'].nunique() > 1])\n",
    "print(\"\\nMunicipios con más de un nombre:\")\n",
    "print(df.groupby('codi_municipi')['nom_municipi'].nunique()[df.groupby('codi_municipi')['nom_municipi'].nunique() > 1])"
   ]
  },
  {
   "cell_type": "markdown",
   "id": "0edf4702",
   "metadata": {},
   "source": [
    "- Anàlisis de la variable familia_profesional"
   ]
  },
  {
   "cell_type": "code",
   "execution_count": 202,
   "id": "95137ab3",
   "metadata": {},
   "outputs": [
    {
     "name": "stdout",
     "output_type": "stream",
     "text": [
      "1. Distribución de familia_professional:\n",
      "familia_professional\n",
      "Serveis socioculturals i a la comunitat    978\n",
      "Competències transversals                  699\n",
      "Administració i gestió                     664\n",
      "Comerç i màrqueting                        481\n",
      "Seguretat i medi ambient                   413\n",
      "Hostaleria i turisme                       266\n",
      "Formació complementària                    212\n",
      "Sanitat                                    197\n",
      "Informàtica i comunicacions                194\n",
      "Edificació i obra civil                    136\n",
      "Indústries alimentàries                    108\n",
      "Agrària                                    102\n",
      "Transport i manteniment de vehicles         92\n",
      "Fabricació mecànica                         88\n",
      "Activitats físiques i esportives            55\n",
      "Química                                     44\n",
      "Electricitat i electrònica                  44\n",
      "Arts gràfiques                              38\n",
      "Instal·lació i manteniment                  35\n",
      "Imatge personal                             31\n",
      "Energia i aigua                             25\n",
      "Imatge i so                                 24\n",
      "Tèxtil, confecció i pell                    21\n",
      "Arts i artesanies                            5\n",
      "Name: count, dtype: int64\n",
      "\n",
      "2. Relación entre familia_professional y area_professional:\n",
      "\n",
      "Número de áreas profesionales por familia:\n",
      "familia_professional\n",
      "Competències transversals                  11\n",
      "Edificació i obra civil                     6\n",
      "Formació complementària                     6\n",
      "Indústries alimentàries                     5\n",
      "Serveis socioculturals i a la comunitat     5\n",
      "Electricitat i electrònica                  4\n",
      "Agrària                                     4\n",
      "Comerç i màrqueting                         4\n",
      "Química                                     4\n",
      "Transport i manteniment de vehicles         4\n",
      "Arts gràfiques                              3\n",
      "Administració i gestió                      3\n",
      "Hostaleria i turisme                        3\n",
      "Informàtica i comunicacions                 3\n",
      "Imatge personal                             3\n",
      "Fabricació mecànica                         3\n",
      "Sanitat                                     2\n",
      "Activitats físiques i esportives            2\n",
      "Imatge i so                                 2\n",
      "Energia i aigua                             2\n",
      "Seguretat i medi ambient                    2\n",
      "Instal·lació i manteniment                  2\n",
      "Arts i artesanies                           1\n",
      "Tèxtil, confecció i pell                    1\n",
      "Name: area_professional, dtype: int64\n",
      "\n",
      "3. Ejemplo de distribución para una familia específica:\n",
      "\n",
      "Áreas profesionales en Serveis socioculturals i a la comunitat:\n",
      "area_professional\n",
      "Formació i educació                   594\n",
      "Assistència social                    163\n",
      "Atenció social                        159\n",
      "Activitats culturals i recreatives     53\n",
      "Serveis al consumidor                   9\n",
      "Name: count, dtype: int64\n",
      "\n",
      "4. Valores nulos:\n",
      "familia_professional    0\n",
      "area_professional       0\n",
      "dtype: int64\n"
     ]
    }
   ],
   "source": [
    "# 1. Análisis de familia_professional y area_professional\n",
    "print(\"1. Distribución de familia_professional:\")\n",
    "print(df['familia_professional'].value_counts())\n",
    "\n",
    "print(\"\\n2. Relación entre familia_professional y area_professional:\")\n",
    "relacion = df.groupby('familia_professional')['area_professional'].nunique()\n",
    "print(\"\\nNúmero de áreas profesionales por familia:\")\n",
    "print(relacion.sort_values(ascending=False))\n",
    "\n",
    "print(\"\\n3. Ejemplo de distribución para una familia específica:\")\n",
    "familia_ejemplo = df['familia_professional'].value_counts().index[0]\n",
    "print(f\"\\nÁreas profesionales en {familia_ejemplo}:\")\n",
    "print(df[df['familia_professional'] == familia_ejemplo]['area_professional'].value_counts())\n",
    "\n",
    "# 4. Verificar valores nulos\n",
    "print(\"\\n4. Valores nulos:\")\n",
    "print(df[['familia_professional', 'area_professional']].isna().sum())"
   ]
  },
  {
   "cell_type": "markdown",
   "id": "4e6d6ca1",
   "metadata": {},
   "source": [
    "- Anàlisis de la variable hores"
   ]
  },
  {
   "cell_type": "code",
   "execution_count": 203,
   "id": "f461559c",
   "metadata": {},
   "outputs": [
    {
     "name": "stdout",
     "output_type": "stream",
     "text": [
      "1. Estadísticas descriptivas de hores:\n",
      "count    4952.000000\n",
      "mean       44.114499\n",
      "std        41.276492\n",
      "min         4.000000\n",
      "25%        20.000000\n",
      "50%        30.000000\n",
      "75%        60.000000\n",
      "max       800.000000\n",
      "Name: hores, dtype: float64\n",
      "\n",
      "2. Valores más frecuentes:\n",
      "hores\n",
      "30    1032\n",
      "20     711\n",
      "60     567\n",
      "40     410\n",
      "50     211\n",
      "15     172\n",
      "10     161\n",
      "8      140\n",
      "12     135\n",
      "80     126\n",
      "Name: count, dtype: int64\n",
      "\n",
      "3. Promedio de horas por familia profesional (top 10):\n",
      "familia_professional\n",
      "Activitats físiques i esportives           82.000000\n",
      "Informàtica i comunicacions                71.195876\n",
      "Imatge personal                            61.677419\n",
      "Transport i manteniment de vehicles        61.467391\n",
      "Química                                    58.068182\n",
      "Serveis socioculturals i a la comunitat    56.391616\n",
      "Electricitat i electrònica                 52.727273\n",
      "Fabricació mecànica                        52.397727\n",
      "Arts gràfiques                             52.236842\n",
      "Instal·lació i manteniment                 49.971429\n",
      "Name: hores, dtype: float64\n",
      "\n",
      "4. Valores atípicos:\n",
      "Número de outliers: 215\n",
      "\n",
      "Ejemplos de cursos con valores atípicos:\n",
      "                 familia_professional  \\\n",
      "IDENTIFICADOR                           \n",
      "258439         Administració i gestió   \n",
      "258823         Administració i gestió   \n",
      "258305         Administració i gestió   \n",
      "259784         Administració i gestió   \n",
      "259088                        Química   \n",
      "\n",
      "                                                   nom_de_laccio  hores  \n",
      "IDENTIFICADOR                                                            \n",
      "258439         ADGG0408_MF0969_Tècniques administratives bàsi...    150  \n",
      "258823         ADGD0308_MF0976_Operacions administratives com...    160  \n",
      "258305                                 ADGD0308_MF0233_Ofimàtica    190  \n",
      "259784         ADGG0508_MF0974_Tractament de dades, textos i ...    150  \n",
      "259088         QUIT0209_MF0330_Operacions de transformació de...    140  \n",
      "\n",
      "5. Verificación de valores problemáticos:\n",
      "Valores nulos: 0\n",
      "Valores cero: 0\n"
     ]
    }
   ],
   "source": [
    "# 1. Análisis estadístico básico\n",
    "print(\"1. Estadísticas descriptivas de hores:\")\n",
    "print(df['hores'].describe())\n",
    "\n",
    "# 2. Distribución de valores\n",
    "print(\"\\n2. Valores más frecuentes:\")\n",
    "print(df['hores'].value_counts().head(10))\n",
    "\n",
    "# 3. Análisis por familia profesional\n",
    "print(\"\\n3. Promedio de horas por familia profesional (top 10):\")\n",
    "print(df.groupby('familia_professional')['hores'].mean().sort_values(ascending=False).head(10))\n",
    "\n",
    "# 4. Verificar valores atípicos\n",
    "Q1 = df['hores'].quantile(0.25)\n",
    "Q3 = df['hores'].quantile(0.75)\n",
    "IQR = Q3 - Q1\n",
    "outliers = df[(df['hores'] < (Q1 - 1.5 * IQR)) | (df['hores'] > (Q3 + 1.5 * IQR))]\n",
    "\n",
    "print(\"\\n4. Valores atípicos:\")\n",
    "print(f\"Número de outliers: {len(outliers)}\")\n",
    "print(\"\\nEjemplos de cursos con valores atípicos:\")\n",
    "print(outliers[['familia_professional', 'nom_de_laccio', 'hores']].head())\n",
    "\n",
    "# 5. Verificar valores nulos o cero\n",
    "print(\"\\n5. Verificación de valores problemáticos:\")\n",
    "print(f\"Valores nulos: {df['hores'].isna().sum()}\")\n",
    "print(f\"Valores cero: {len(df[df['hores'] == 0])}\")"
   ]
  },
  {
   "cell_type": "code",
   "execution_count": 204,
   "id": "cf02baa3",
   "metadata": {},
   "outputs": [
    {
     "name": "stdout",
     "output_type": "stream",
     "text": [
      "Cursos con más de 200 horas:\n",
      "                                                   nom_de_laccio  hores  \\\n",
      "IDENTIFICADOR                                                             \n",
      "259311         SSCS0108_MF0250_Atenció i suport psicosocial d...    210   \n",
      "260309         SEAG0210_MF0073_Funcionament i operació dels p...    220   \n",
      "259774         SSCS0108_MF0250_Atenció i suport psicosocial d...    210   \n",
      "259439         ADGD0208_MF0237_Gestió administrativa de les r...    210   \n",
      "257765         SSCS0108_MF0250_Atenció i suport psicosocial d...    210   \n",
      "\n",
      "                                  familia_professional  \n",
      "IDENTIFICADOR                                           \n",
      "259311         Serveis socioculturals i a la comunitat  \n",
      "260309                        Seguretat i medi ambient  \n",
      "259774         Serveis socioculturals i a la comunitat  \n",
      "259439                          Administració i gestió  \n",
      "257765         Serveis socioculturals i a la comunitat  \n"
     ]
    }
   ],
   "source": [
    "# 1. Crear categorías de duración para análisis\n",
    "df['categoria_duracion'] = pd.cut(df['hores'], \n",
    "                                bins=[0, 20, 40, 80, 800],\n",
    "                                labels=['Corta', 'Media', 'Larga', 'Extensa'])\n",
    "\n",
    "# 2. Verificar valores extremos (>200 horas)\n",
    "cursos_largos = df[df['hores'] > 200]\n",
    "print(\"Cursos con más de 200 horas:\")\n",
    "print(cursos_largos[['nom_de_laccio', 'hores', 'familia_professional']].head())"
   ]
  },
  {
   "cell_type": "markdown",
   "id": "6f4ffde8",
   "metadata": {},
   "source": [
    "- Anàlisis variables de contacte"
   ]
  },
  {
   "cell_type": "code",
   "execution_count": 205,
   "id": "eaac1df3",
   "metadata": {},
   "outputs": [
    {
     "name": "stdout",
     "output_type": "stream",
     "text": [
      "1. Valores nulos en variables de contacto:\n",
      "telefon              14\n",
      "correu_electronic    14\n",
      "web                  14\n",
      "dtype: int64\n",
      "\n",
      "2. Ejemplos de formatos de teléfono:\n",
      "telefon\n",
      "934964500.0    486\n",
      "932172515.0    311\n",
      "932689292.0    286\n",
      "934812717.0    212\n",
      "935210485.0    206\n",
      "Name: count, dtype: int64\n",
      "\n",
      "3. Ejemplos de formatos de correo:\n",
      "correu_electronic\n",
      "formacio@pimec.org                        486\n",
      "info@catformacio.org                      311\n",
      "sroman@idfo.com                           286\n",
      "fppuerto@ccoo.cat                         212\n",
      "formaciocatalunya@fundacionlaboral.org    206\n",
      "Name: count, dtype: int64\n",
      "\n",
      "4. Ejemplos de formatos de web:\n",
      "web\n",
      "www.pimecformacio.cat                                             486\n",
      "www.catformacio.com                                               311\n",
      "www.idfo.com                                                      286\n",
      "fundaciopacopuerto.cat                                            212\n",
      "https://www.cursosenconstruccion.com/cursos-gratuitos/cataluna    206\n",
      "Name: count, dtype: int64\n",
      "\n",
      "5. Número de contactos por entidad:\n",
      "          telefon  correu_electronic         web\n",
      "count  104.000000         104.000000  104.000000\n",
      "mean     0.990385           0.990385    0.990385\n",
      "std      0.098058           0.098058    0.098058\n",
      "min      0.000000           0.000000    0.000000\n",
      "25%      1.000000           1.000000    1.000000\n",
      "50%      1.000000           1.000000    1.000000\n",
      "75%      1.000000           1.000000    1.000000\n",
      "max      1.000000           1.000000    1.000000\n"
     ]
    }
   ],
   "source": [
    "# 1. Verificar valores nulos\n",
    "print(\"1. Valores nulos en variables de contacto:\")\n",
    "print(df[['telefon', 'correu_electronic', 'web']].isna().sum())\n",
    "\n",
    "# 2. Verificar formato de teléfono\n",
    "print(\"\\n2. Ejemplos de formatos de teléfono:\")\n",
    "print(df['telefon'].value_counts().head())\n",
    "\n",
    "# 3. Verificar formato de correo\n",
    "print(\"\\n3. Ejemplos de formatos de correo:\")\n",
    "print(df['correu_electronic'].value_counts().head())\n",
    "\n",
    "# 4. Verificar formato de web\n",
    "print(\"\\n4. Ejemplos de formatos de web:\")\n",
    "print(df['web'].value_counts().head())\n",
    "\n",
    "# 5. Verificar consistencia entre entidades y contacto\n",
    "print(\"\\n5. Número de contactos por entidad:\")\n",
    "contactos_por_entidad = df.groupby('entitat')[['telefon', 'correu_electronic', 'web']].nunique()\n",
    "print(contactos_por_entidad.describe())"
   ]
  },
  {
   "cell_type": "code",
   "execution_count": 206,
   "id": "a1c17e98",
   "metadata": {},
   "outputs": [
    {
     "name": "stdout",
     "output_type": "stream",
     "text": [
      "Registros sin información de contacto (incluyendo strings vacíos):\n",
      "              entitat              familia_professional\n",
      "IDENTIFICADOR                                          \n",
      "259734          ETEVA          Seguretat i medi ambient\n",
      "259730          ETEVA  Activitats físiques i esportives\n",
      "259737          ETEVA          Seguretat i medi ambient\n",
      "259736          ETEVA          Seguretat i medi ambient\n",
      "265581          ETEVA  Activitats físiques i esportives\n",
      "\n",
      "Total de registros sin información de contacto: 14\n"
     ]
    }
   ],
   "source": [
    "# 1. Convertir teléfono a formato string y limpiar\n",
    "df['telefon'] = df['telefon'].fillna('').astype(str).apply(lambda x: x.replace('.0', '').strip())\n",
    "\n",
    "# 2. Normalizar formato de webs y limpiar\n",
    "def normalizar_web(url):\n",
    "    if pd.isna(url) or str(url).strip() == '':\n",
    "        return ''\n",
    "    if not str(url).strip().startswith(('http://', 'https://')):\n",
    "        return 'https://' + str(url).strip()\n",
    "    return str(url).strip()\n",
    "\n",
    "df['web'] = df['web'].apply(normalizar_web)\n",
    "\n",
    "# 3. Limpiar correos electrónicos\n",
    "df['correu_electronic'] = df['correu_electronic'].fillna('').astype(str).str.strip()\n",
    "\n",
    "# 4. Verificar registros sin contacto (considerando strings vacíos)\n",
    "registros_sin_contacto = df[\n",
    "    (df['telefon'].str.len() == 0) & \n",
    "    (df['correu_electronic'].str.len() == 0) & \n",
    "    (df['web'].str.len() == 0)\n",
    "]\n",
    "\n",
    "print(\"Registros sin información de contacto (incluyendo strings vacíos):\")\n",
    "print(registros_sin_contacto[['entitat', 'familia_professional']].head())\n",
    "\n",
    "# Mostrar cantidad total de registros sin contacto\n",
    "print(f\"\\nTotal de registros sin información de contacto: {len(registros_sin_contacto)}\")"
   ]
  },
  {
   "cell_type": "markdown",
   "id": "fa3fee94",
   "metadata": {},
   "source": [
    "- Anàlisis de la variable d'entitat nif_entitat_formacio, entitat"
   ]
  },
  {
   "cell_type": "code",
   "execution_count": 207,
   "id": "166c67dd",
   "metadata": {},
   "outputs": [
    {
     "name": "stdout",
     "output_type": "stream",
     "text": [
      "1. Verificar correspondencia NIF-Entidad:\n",
      "\n",
      "NIFs con más de una entidad:\n",
      "Series([], Name: entitat, dtype: int64)\n",
      "\n",
      "2. Distribución de cursos por entidad (top 10):\n",
      "entitat\n",
      "PIME Coneixement, S.L.                               486\n",
      "Catformació                                          311\n",
      "IDFO                                                 286\n",
      "FUNDACIÓ PER A LA FORMACIÓ I L'ESTUDI PACO PUERTO    212\n",
      "FUNDACION LABORAL DE LA CONSTRUCCION                 206\n",
      "FOMENT FORMACIÓ                                      160\n",
      "Federació de Cooperatives Agràries de Catalunya      144\n",
      "Formar-te                                            139\n",
      "UPM                                                  138\n",
      "BRM PREVIFORM, S.L.                                  100\n",
      "Name: count, dtype: int64\n",
      "\n",
      "3. Ejemplos de formato NIF:\n",
      "nif_entitat_formacio\n",
      "B62765201    486\n",
      "G63127708    311\n",
      "G60189057    286\n",
      "G61676128    212\n",
      "G80468416    206\n",
      "Name: count, dtype: int64\n",
      "\n",
      "4. Valores nulos:\n",
      "nif_entitat_formacio    0\n",
      "entitat                 0\n",
      "dtype: int64\n"
     ]
    }
   ],
   "source": [
    "# 1. Verificar la relación entre NIF y entidad\n",
    "print(\"1. Verificar correspondencia NIF-Entidad:\")\n",
    "relacion_nif_entidad = df.groupby('nif_entitat_formacio')['entitat'].nunique()\n",
    "print(\"\\nNIFs con más de una entidad:\")\n",
    "print(relacion_nif_entidad[relacion_nif_entidad > 1])\n",
    "\n",
    "print(\"\\n2. Distribución de cursos por entidad (top 10):\")\n",
    "print(df['entitat'].value_counts().head(10))\n",
    "\n",
    "# 3. Verificar formato de NIF\n",
    "print(\"\\n3. Ejemplos de formato NIF:\")\n",
    "print(df['nif_entitat_formacio'].value_counts().head())\n",
    "\n",
    "# 4. Verificar valores nulos o problemáticos\n",
    "print(\"\\n4. Valores nulos:\")\n",
    "print(df[['nif_entitat_formacio', 'entitat']].isna().sum())"
   ]
  },
  {
   "cell_type": "markdown",
   "id": "df9d14db",
   "metadata": {},
   "source": [
    "- Aàlisis variable nom_de_laccio"
   ]
  },
  {
   "cell_type": "code",
   "execution_count": 208,
   "id": "fb2439f8",
   "metadata": {},
   "outputs": [
    {
     "name": "stdout",
     "output_type": "stream",
     "text": [
      "1. Estadísticas básicas:\n",
      "Total de cursos únicos: 1344\n",
      "Valores nulos: 0\n",
      "\n",
      "2. Ejemplos de nombres de cursos más frecuentes:\n",
      "nom_de_laccio\n",
      "Comptabilitat bàsica                        58\n",
      "Nòmines i seguretat social I                45\n",
      "Comptabilitat avançada                      45\n",
      "Nòmines i seguretat social II               43\n",
      "Mindfulness                                 43\n",
      "Resolució de conflictes                     42\n",
      "Operació de carretons Norma UNE 58451       36\n",
      "Gestió de les xarxes socials a l'empresa    33\n",
      "Habilitats de comunicació                   32\n",
      "Eines de coaching. Nivell I                 31\n",
      "Name: count, dtype: int64\n",
      "\n",
      "3. Distribución por tipo de formato:\n",
      "tipo_nombre\n",
      "otro           4086\n",
      "certificado     866\n",
      "Name: count, dtype: int64\n",
      "\n",
      "4. Estadísticas de longitud de nombres:\n",
      "count    4952.000000\n",
      "mean       48.237278\n",
      "std        28.558006\n",
      "min         7.000000\n",
      "25%        27.000000\n",
      "50%        41.000000\n",
      "75%        64.000000\n",
      "max       205.000000\n",
      "Name: longitud_nombre, dtype: float64\n",
      "\n",
      "5. Número promedio de cursos por familia profesional:\n",
      "familia_professional\n",
      "Serveis socioculturals i a la comunitat    192\n",
      "Seguretat i medi ambient                   186\n",
      "Administració i gestió                     113\n",
      "Informàtica i comunicacions                 91\n",
      "Sanitat                                     83\n",
      "Name: nom_de_laccio, dtype: int64\n"
     ]
    }
   ],
   "source": [
    "# 1. Análisis básico\n",
    "print(\"1. Estadísticas básicas:\")\n",
    "print(f\"Total de cursos únicos: {df['nom_de_laccio'].nunique()}\")\n",
    "print(f\"Valores nulos: {df['nom_de_laccio'].isna().sum()}\")\n",
    "\n",
    "# 2. Patrones en nombres de cursos\n",
    "print(\"\\n2. Ejemplos de nombres de cursos más frecuentes:\")\n",
    "print(df['nom_de_laccio'].value_counts().head(10))\n",
    "\n",
    "# 3. Análisis de formato\n",
    "def analizar_formato_curso(nombre):\n",
    "    if pd.isna(nombre):\n",
    "        return 'nulo'\n",
    "    if bool(re.match(r'^[A-Z]{4}\\d{4}', nombre)):\n",
    "        return 'certificado'\n",
    "    return 'otro'\n",
    "\n",
    "df['tipo_nombre'] = df['nom_de_laccio'].apply(analizar_formato_curso)\n",
    "print(\"\\n3. Distribución por tipo de formato:\")\n",
    "print(df['tipo_nombre'].value_counts())\n",
    "\n",
    "# 4. Longitud de nombres\n",
    "df['longitud_nombre'] = df['nom_de_laccio'].str.len()\n",
    "print(\"\\n4. Estadísticas de longitud de nombres:\")\n",
    "print(df['longitud_nombre'].describe())\n",
    "\n",
    "# 5. Relación con familia profesional\n",
    "print(\"\\n5. Número promedio de cursos por familia profesional:\")\n",
    "print(df.groupby('familia_professional')['nom_de_laccio'].nunique().sort_values(ascending=False).head())"
   ]
  },
  {
   "cell_type": "code",
   "execution_count": 209,
   "id": "27bd3f25",
   "metadata": {},
   "outputs": [],
   "source": [
    "# 1. Normalizar nombres de cursos\n",
    "def normalizar_nombre_curso(nombre):\n",
    "    # Eliminar espacios múltiples\n",
    "    nombre = ' '.join(nombre.split())\n",
    "    # Normalizar mayúsculas/minúsculas\n",
    "    if not nombre.startswith(('ADGG', 'SSCS', 'SEAG')):  # Preservar códigos de certificados\n",
    "        nombre = nombre.capitalize()\n",
    "    return nombre\n",
    "\n",
    "df['nom_de_laccio'] = df['nom_de_laccio'].apply(normalizar_nombre_curso)\n",
    "\n",
    "# 2. Crear categoría de nivel\n",
    "df['nivel_curso'] = df['nom_de_laccio'].str.extract(r'(I{1,3}|IV|V|VI)$')\n",
    "\n",
    "# 3. Identificar certificados profesionales\n",
    "df['es_certificado'] = df['nom_de_laccio'].str.match(r'^[A-Z]{4}\\d{4}')"
   ]
  },
  {
   "cell_type": "code",
   "execution_count": 210,
   "id": "241f4dc9",
   "metadata": {},
   "outputs": [
    {
     "name": "stdout",
     "output_type": "stream",
     "text": [
      "1. Nueva distribución de niveles:\n",
      "nivell\n",
      "None          4183\n",
      "Bàsic          355\n",
      "Nivell I       150\n",
      "Nivell II      110\n",
      "Avançat         96\n",
      "Mitjà           56\n",
      "Nivell III       2\n",
      "Name: count, dtype: int64\n",
      "\n",
      "2. Ejemplos de cursos con nivel detectado:\n",
      "                                                   nom_de_laccio  \\\n",
      "IDENTIFICADOR                                                      \n",
      "241674         Manipulació i aplicació de productes fitosanit...   \n",
      "258446                Comt0211_mf1329_atenció bàsica als clients   \n",
      "250718         Resolució de problemes a l'entorn digital (act...   \n",
      "241673         Manipulació i aplicació de productes fitosanit...   \n",
      "259073         ADGG0508_UF0511_Tractament bàsic de dades i fu...   \n",
      "251344           Principis bàsics de la intel·ligència emocional   \n",
      "259565         Ssce0110_mf1443_selecció, elaboració, adaptaci...   \n",
      "258457         Ssce0110_mf1443_selecció, elaboració, adaptaci...   \n",
      "249107                                      Comptabilitat bàsica   \n",
      "255822           Principis bàsics de la intel·ligència emocional   \n",
      "\n",
      "                                  familia_professional    nivell  \n",
      "IDENTIFICADOR                                                     \n",
      "241674                                         Agrària     Bàsic  \n",
      "258446                             Comerç i màrqueting     Bàsic  \n",
      "250718                         Formació complementària   Avançat  \n",
      "241673                                         Agrària   Avançat  \n",
      "259073                          Administració i gestió     Bàsic  \n",
      "251344                       Competències transversals     Bàsic  \n",
      "259565         Serveis socioculturals i a la comunitat  Nivell I  \n",
      "258457         Serveis socioculturals i a la comunitat  Nivell I  \n",
      "249107                          Administració i gestió     Bàsic  \n",
      "255822                       Competències transversals     Bàsic  \n",
      "\n",
      "3. Distribución de niveles por familia profesional:\n",
      "nivell                                   Avançat  Bàsic  Mitjà  Nivell I  \\\n",
      "familia_professional                                                       \n",
      "Administració i gestió                        16     78      0        48   \n",
      "Agrària                                        7     13      0         0   \n",
      "Arts gràfiques                                 0      0      0        10   \n",
      "Arts i artesanies                              0      0      0         2   \n",
      "Comerç i màrqueting                            0      2      0         0   \n",
      "Competències transversals                     13     93      9        31   \n",
      "Edificació i obra civil                        0     10     11         0   \n",
      "Electricitat i electrònica                     0      1      0         8   \n",
      "Energia i aigua                                0      0      0         7   \n",
      "Fabricació mecànica                            1      2      6        10   \n",
      "Formació complementària                       15     17     20         0   \n",
      "Hostaleria i turisme                           0     15      0         0   \n",
      "Imatge i so                                    3     10      3         0   \n",
      "Indústries alimentàries                       16     13      0         0   \n",
      "Informàtica i comunicacions                   10     32      0         1   \n",
      "Instal·lació i manteniment                     0      8      0         0   \n",
      "Química                                        0      3      0         0   \n",
      "Sanitat                                        9     21      0         0   \n",
      "Seguretat i medi ambient                       1     11      5         0   \n",
      "Serveis socioculturals i a la comunitat        2     10      2        26   \n",
      "Transport i manteniment de vehicles            2     15      0         3   \n",
      "Tèxtil, confecció i pell                       1      1      0         4   \n",
      "All                                           96    355     56       150   \n",
      "\n",
      "nivell                                   Nivell II  Nivell III  All  \n",
      "familia_professional                                                 \n",
      "Administració i gestió                          45           0  187  \n",
      "Agrària                                          0           0   20  \n",
      "Arts gràfiques                                   7           0   17  \n",
      "Arts i artesanies                                2           1    5  \n",
      "Comerç i màrqueting                              0           0    2  \n",
      "Competències transversals                       34           0  180  \n",
      "Edificació i obra civil                          0           0   21  \n",
      "Electricitat i electrònica                       5           0   14  \n",
      "Energia i aigua                                  6           0   13  \n",
      "Fabricació mecànica                              4           0   23  \n",
      "Formació complementària                          0           0   52  \n",
      "Hostaleria i turisme                             0           0   15  \n",
      "Imatge i so                                      0           0   16  \n",
      "Indústries alimentàries                          0           0   29  \n",
      "Informàtica i comunicacions                      1           0   44  \n",
      "Instal·lació i manteniment                       0           0    8  \n",
      "Química                                          0           0    3  \n",
      "Sanitat                                          0           0   30  \n",
      "Seguretat i medi ambient                         0           0   17  \n",
      "Serveis socioculturals i a la comunitat          0           0   40  \n",
      "Transport i manteniment de vehicles              2           1   23  \n",
      "Tèxtil, confecció i pell                         4           0   10  \n",
      "All                                            110           2  769  \n"
     ]
    }
   ],
   "source": [
    "# 1. Eliminar columna nivel_curso que está completamente vacía\n",
    "if 'nivel_curso' in df.columns:\n",
    "    df = df.drop('nivel_curso', axis=1)\n",
    "\n",
    "# 2. Mejorar la detección de niveles\n",
    "def detectar_nivel_mejorado(row):\n",
    "    nombre = row['nom_de_laccio'].lower()\n",
    "    \n",
    "    # Patrones de nivel\n",
    "    if any(x in nombre for x in ['inicial', 'introducció', 'bàsic', 'basic']):\n",
    "        return 'Bàsic'\n",
    "    elif any(x in nombre for x in ['mitjà', 'intermedi', 'mig']):\n",
    "        return 'Mitjà'\n",
    "    elif any(x in nombre for x in ['avançat', 'superior', 'especialitzat', 'avancat']):\n",
    "        return 'Avançat'\n",
    "    elif nombre.strip().endswith(' i'):\n",
    "        return 'Nivell I'\n",
    "    elif nombre.strip().endswith(' ii'):\n",
    "        return 'Nivell II'\n",
    "    elif nombre.strip().endswith(' iii'):\n",
    "        return 'Nivell III'\n",
    "    \n",
    "    # Para certificados profesionales\n",
    "    if bool(re.match(r'^[A-Z]{4}\\d{4}', row['nom_de_laccio'])):\n",
    "        if '_BASIC_' in nombre:\n",
    "            return 'Bàsic'\n",
    "        elif '_MIG_' in nombre:\n",
    "            return 'Mitjà'\n",
    "        elif '_SUPERIOR_' in nombre:\n",
    "            return 'Avançat'\n",
    "    \n",
    "    return None\n",
    "\n",
    "# Aplicar la función mejorada\n",
    "df['nivell'] = df.apply(detectar_nivel_mejorado, axis=1)\n",
    "\n",
    "# Mostrar resultados\n",
    "print(\"1. Nueva distribución de niveles:\")\n",
    "print(df['nivell'].value_counts(dropna=False))\n",
    "\n",
    "print(\"\\n2. Ejemplos de cursos con nivel detectado:\")\n",
    "print(df[df['nivell'].notna()][['nom_de_laccio', 'familia_professional', 'nivell']].head(10))\n",
    "\n",
    "# 3. Verificar consistencia\n",
    "print(\"\\n3. Distribución de niveles por familia profesional:\")\n",
    "print(pd.crosstab(df['familia_professional'], df['nivell'], margins=True))"
   ]
  },
  {
   "cell_type": "markdown",
   "id": "b1d1a668",
   "metadata": {},
   "source": [
    "- Corrección"
   ]
  },
  {
   "cell_type": "code",
   "execution_count": 211,
   "id": "62f7d14e",
   "metadata": {},
   "outputs": [],
   "source": [
    "# # Eliminar columnas con un único valor\n",
    "# columnas_vacias = [col for col in df.columns if df[col].nunique() == 1]\n",
    "# df = df.drop(columns=columnas_vacias)\n",
    "# print(\"Columnas eliminadas:\", columnas_vacias)"
   ]
  },
  {
   "cell_type": "markdown",
   "id": "e25cfc89",
   "metadata": {},
   "source": [
    "### DUPLICADOS"
   ]
  },
  {
   "cell_type": "markdown",
   "id": "8a079ed3",
   "metadata": {},
   "source": [
    "- Identificación"
   ]
  },
  {
   "cell_type": "code",
   "execution_count": 212,
   "id": "f5b23bfc",
   "metadata": {
    "scrolled": true
   },
   "outputs": [
    {
     "data": {
      "text/plain": [
       "np.int64(131)"
      ]
     },
     "execution_count": 212,
     "metadata": {},
     "output_type": "execute_result"
    }
   ],
   "source": [
    "df.duplicated().sum()"
   ]
  },
  {
   "cell_type": "code",
   "execution_count": 213,
   "id": "c665099c",
   "metadata": {},
   "outputs": [
    {
     "name": "stdout",
     "output_type": "stream",
     "text": [
      "1. Análisis de duplicados:\n",
      "Total de filas duplicadas: 131\n",
      "\n",
      "2. Duplicados por combinaciones de columnas:\n",
      "\n",
      "Duplicados considerando columnas clave: 262\n",
      "\n",
      "3. Ejemplos de registros duplicados:\n",
      "                                                   nom_de_laccio  \\\n",
      "IDENTIFICADOR                                                      \n",
      "243394         Actualització plataformes elevadores mòbils de...   \n",
      "243061         Actualització plataformes elevadores mòbils de...   \n",
      "253903         Actualització plataformes elevadores mòbils de...   \n",
      "253713         Actualització plataformes elevadores mòbils de...   \n",
      "249435         Actualització plataformes elevadores mòbils de...   \n",
      "249690         Actualització plataformes elevadores mòbils de...   \n",
      "250478                            Analítica i màrqueting digital   \n",
      "250667                            Analítica i màrqueting digital   \n",
      "249399                            Analítica i màrqueting digital   \n",
      "249692                            Analítica i màrqueting digital   \n",
      "\n",
      "                                            entitat     familia_professional  \\\n",
      "IDENTIFICADOR                                                                  \n",
      "243394         FUNDACION LABORAL DE LA CONSTRUCCION  Edificació i obra civil   \n",
      "243061         FUNDACION LABORAL DE LA CONSTRUCCION  Edificació i obra civil   \n",
      "253903                          MOTIVACCIO FORMACIO  Edificació i obra civil   \n",
      "253713                          MOTIVACCIO FORMACIO  Edificació i obra civil   \n",
      "249435                       PIME Coneixement, S.L.  Edificació i obra civil   \n",
      "249690                       PIME Coneixement, S.L.  Edificació i obra civil   \n",
      "250478                                  Catformació      Comerç i màrqueting   \n",
      "250667                                  Catformació      Comerç i màrqueting   \n",
      "249399                       PIME Coneixement, S.L.      Comerç i màrqueting   \n",
      "249692                       PIME Coneixement, S.L.      Comerç i màrqueting   \n",
      "\n",
      "                              area_professional   modalitat  hores  \n",
      "IDENTIFICADOR                                                       \n",
      "243394                Maquinària de construcció  Presencial      8  \n",
      "243061                Maquinària de construcció  Presencial      8  \n",
      "253903                Maquinària de construcció  Presencial      8  \n",
      "253713                Maquinària de construcció  Presencial      8  \n",
      "249435                Maquinària de construcció  Presencial      8  \n",
      "249690                Maquinària de construcció  Presencial      8  \n",
      "250478         Màrqueting i relacions públiques  Presencial     30  \n",
      "250667         Màrqueting i relacions públiques  Presencial     30  \n",
      "249399         Màrqueting i relacions públiques  Presencial     30  \n",
      "249692         Màrqueting i relacions públiques  Presencial     30  \n",
      "\n",
      "4. Número de duplicados por entidad:\n",
      "entitat\n",
      "PIME Coneixement, S.L.            34\n",
      "Catformació                       28\n",
      "ADAMS FORMACIÓ                    18\n",
      "Formar-te                         16\n",
      "LAE FORMACIÓN PROGRAMADA, S.L.    14\n",
      "Name: count, dtype: int64\n"
     ]
    }
   ],
   "source": [
    "# 1. Verificar duplicados exactos\n",
    "print(\"1. Análisis de duplicados:\")\n",
    "print(f\"Total de filas duplicadas: {df.duplicated().sum()}\")\n",
    "\n",
    "# 2. Ver qué columnas están causando los duplicados\n",
    "print(\"\\n2. Duplicados por combinaciones de columnas:\")\n",
    "columnas_clave = ['nom_de_laccio', 'entitat', 'familia_professional', 'area_professional', 'modalitat', 'hores']\n",
    "duplicados = df[df.duplicated(subset=columnas_clave, keep=False)].sort_values(by=columnas_clave)\n",
    "print(f\"\\nDuplicados considerando columnas clave: {len(duplicados)}\")\n",
    "\n",
    "# 3. Mostrar ejemplos de duplicados\n",
    "print(\"\\n3. Ejemplos de registros duplicados:\")\n",
    "print(duplicados[columnas_clave].head(10))\n",
    "\n",
    "# 4. Análisis de duplicados por entidad\n",
    "print(\"\\n4. Número de duplicados por entidad:\")\n",
    "print(duplicados['entitat'].value_counts().head())"
   ]
  },
  {
   "cell_type": "markdown",
   "id": "d440242b",
   "metadata": {},
   "source": [
    "- Corrección"
   ]
  },
  {
   "cell_type": "code",
   "execution_count": 214,
   "id": "a693f362",
   "metadata": {},
   "outputs": [
    {
     "name": "stdout",
     "output_type": "stream",
     "text": [
      "1. Estadísticas después de eliminar duplicados:\n",
      "Registros originales: 4952\n",
      "Registros únicos: 4821\n",
      "Duplicados eliminados: 131\n",
      "\n",
      "2. Ejemplos de duplicados eliminados:\n",
      "                                                   nom_de_laccio  \\\n",
      "IDENTIFICADOR                                                      \n",
      "259392         Ssce0110_mp0353_mòdul de pràctiques profession...   \n",
      "242826                         Elaboració d'un pla de màrqueting   \n",
      "253714         Operador/a de plataformes mòbils de personal (...   \n",
      "251336                                    Comptabilitat avançada   \n",
      "249996                              Comptabilitat informatitzada   \n",
      "\n",
      "                           entitat     modalitat  hores  \n",
      "IDENTIFICADOR                                            \n",
      "259392                       INKOR    Presencial     40  \n",
      "242826                         UPM    Presencial     60  \n",
      "253714         MOTIVACCIO FORMACIO    Presencial     12  \n",
      "251336              ADAMS FORMACIÓ  Teleformació     60  \n",
      "249996              CECOT FORMACIÓ    Presencial     40  \n"
     ]
    }
   ],
   "source": [
    "# 1. Crear identificador único de curso\n",
    "df['id_curso'] = df.apply(lambda x: f\"{x['nom_de_laccio']}_{x['entitat']}_{x['modalitat']}_{x['hores']}\", axis=1)\n",
    "\n",
    "# 2. Identificar duplicados manteniendo el primer registro\n",
    "duplicados = df[df.duplicated(['id_curso'], keep='first')]\n",
    "\n",
    "# 3. Eliminar duplicados manteniendo el primer registro\n",
    "df_sin_duplicados = df.drop_duplicates(['id_curso'], keep='first')\n",
    "\n",
    "# Verificar resultados\n",
    "print(\"1. Estadísticas después de eliminar duplicados:\")\n",
    "print(f\"Registros originales: {len(df)}\")\n",
    "print(f\"Registros únicos: {len(df_sin_duplicados)}\")\n",
    "print(f\"Duplicados eliminados: {len(df) - len(df_sin_duplicados)}\")\n",
    "\n",
    "# 4. Guardar registro de duplicados eliminados\n",
    "print(\"\\n2. Ejemplos de duplicados eliminados:\")\n",
    "print(duplicados[['nom_de_laccio', 'entitat', 'modalitat', 'hores']].head())"
   ]
  },
  {
   "cell_type": "markdown",
   "id": "632ec2cd",
   "metadata": {},
   "source": [
    "### SEPARAR NUMÉRICAS Y CATEGÓRICAS"
   ]
  },
  {
   "cell_type": "markdown",
   "id": "573a61ac",
   "metadata": {},
   "source": [
    "**Categóricas**"
   ]
  },
  {
   "cell_type": "code",
   "execution_count": 215,
   "id": "47a7eece",
   "metadata": {},
   "outputs": [],
   "source": [
    "cat = df.select_dtypes(exclude = 'number').copy()"
   ]
  },
  {
   "cell_type": "markdown",
   "id": "41756893",
   "metadata": {},
   "source": [
    "**Numéricas**"
   ]
  },
  {
   "cell_type": "code",
   "execution_count": 216,
   "id": "59140e9a",
   "metadata": {},
   "outputs": [],
   "source": [
    "num = df.select_dtypes(include='number').copy()"
   ]
  },
  {
   "cell_type": "markdown",
   "id": "5e7d8e7e",
   "metadata": {},
   "source": [
    "### GESTIÓN DE CATEGÓRICAS"
   ]
  },
  {
   "cell_type": "markdown",
   "id": "5b5808b7",
   "metadata": {},
   "source": [
    "#### NULOS"
   ]
  },
  {
   "cell_type": "markdown",
   "id": "5c08ca55",
   "metadata": {},
   "source": [
    "Identificación"
   ]
  },
  {
   "cell_type": "code",
   "execution_count": 217,
   "id": "da49ae63",
   "metadata": {
    "scrolled": true
   },
   "outputs": [
    {
     "data": {
      "text/plain": [
       "nivell                  4183\n",
       "familia_professional       0\n",
       "area_professional          0\n",
       "nif_entitat_formacio       0\n",
       "nom_de_laccio              0\n",
       "nom_municipi               0\n",
       "nom_comarca                0\n",
       "modalitat                  0\n",
       "entitat                    0\n",
       "tipus_de_formacio          0\n",
       "web                        0\n",
       "telefon                    0\n",
       "correu_electronic          0\n",
       "categoria_duracion         0\n",
       "tipo_nombre                0\n",
       "es_certificado             0\n",
       "id_curso                   0\n",
       "dtype: int64"
      ]
     },
     "execution_count": 217,
     "metadata": {},
     "output_type": "execute_result"
    }
   ],
   "source": [
    "cat.isna().sum().sort_values(ascending = False)"
   ]
  },
  {
   "cell_type": "code",
   "execution_count": 218,
   "id": "6692b715",
   "metadata": {},
   "outputs": [
    {
     "name": "stdout",
     "output_type": "stream",
     "text": [
      "1. Distribución general de niveles:\n",
      "nivell\n",
      "None           3639\n",
      "Bàsic           455\n",
      "Mitjà           201\n",
      "Pràctiques      150\n",
      "Avançat         142\n",
      "Idiomes B.2      60\n",
      "Idiomes B.1      59\n",
      "Idiomes A.1      58\n",
      "Idiomes A.2      43\n",
      "Idiomes C.1      40\n",
      "Idiomes C.2      39\n",
      "Idiomes A.       30\n",
      "Idiomes C.       30\n",
      "Idiomes D.        6\n",
      "Name: count, dtype: int64\n",
      "\n",
      "2. Distribución por familia profesional:\n",
      "nivell                            Avançat  Bàsic  Idiomes A.  Idiomes A.1  \\\n",
      "familia_professional                                                        \n",
      "Activitats físiques i esportives        0      0           0            0   \n",
      "Administració i gestió                 13    110           0            0   \n",
      "Agrària                                 7     13           0            0   \n",
      "Arts gràfiques                          0      0           0            0   \n",
      "Arts i artesanies                       0      0           2            0   \n",
      "\n",
      "nivell                            Idiomes A.2  Idiomes B.1  Idiomes B.2  \\\n",
      "familia_professional                                                      \n",
      "Activitats físiques i esportives            0            0            0   \n",
      "Administració i gestió                      0            0            0   \n",
      "Agrària                                     0            0            0   \n",
      "Arts gràfiques                              0            0            0   \n",
      "Arts i artesanies                           0            0            0   \n",
      "\n",
      "nivell                            Idiomes C.  Idiomes C.1  Idiomes C.2  \\\n",
      "familia_professional                                                     \n",
      "Activitats físiques i esportives           0            0            0   \n",
      "Administració i gestió                     0            0            0   \n",
      "Agrària                                    0            0            0   \n",
      "Arts gràfiques                             0            0            0   \n",
      "Arts i artesanies                          0            0            0   \n",
      "\n",
      "nivell                            Idiomes D.  Mitjà  Pràctiques  \n",
      "familia_professional                                             \n",
      "Activitats físiques i esportives           0      0          10  \n",
      "Administració i gestió                     0    127          16  \n",
      "Agrària                                    0      0           0  \n",
      "Arts gràfiques                             0      0           1  \n",
      "Arts i artesanies                          0      0           0  \n",
      "\n",
      "3. Ejemplos de detección por nivel:\n",
      "\n",
      "Nivel: Pràctiques\n",
      "                                                   nom_de_laccio  \\\n",
      "IDENTIFICADOR                                                      \n",
      "258262         Ssce0110_mp0353_mòdul de pràctiques profession...   \n",
      "258172         Ssce0110_mp0353_mòdul de pràctiques profession...   \n",
      "\n",
      "                                  familia_professional  \n",
      "IDENTIFICADOR                                           \n",
      "258262         Serveis socioculturals i a la comunitat  \n",
      "258172         Serveis socioculturals i a la comunitat  \n",
      "\n",
      "Nivel: Bàsic\n",
      "                                                   nom_de_laccio  \\\n",
      "IDENTIFICADOR                                                      \n",
      "256855         ADGG0208_UF0323_Aplicacions informàtiques per ...   \n",
      "241674         Manipulació i aplicació de productes fitosanit...   \n",
      "\n",
      "                 familia_professional  \n",
      "IDENTIFICADOR                          \n",
      "256855         Administració i gestió  \n",
      "241674                        Agrària  \n",
      "\n",
      "Nivel: Avançat\n",
      "                                                   nom_de_laccio  \\\n",
      "IDENTIFICADOR                                                      \n",
      "250718         Resolució de problemes a l'entorn digital (act...   \n",
      "241673         Manipulació i aplicació de productes fitosanit...   \n",
      "\n",
      "                  familia_professional  \n",
      "IDENTIFICADOR                           \n",
      "250718         Formació complementària  \n",
      "241673                         Agrària  \n",
      "\n",
      "Nivel: Mitjà\n",
      "                                           nom_de_laccio  \\\n",
      "IDENTIFICADOR                                              \n",
      "249108                         Gestió de recursos humans   \n",
      "259593         Adgd0208_mf0238_gestió de recursos humans   \n",
      "\n",
      "                 familia_professional  \n",
      "IDENTIFICADOR                          \n",
      "249108         Administració i gestió  \n",
      "259593         Administració i gestió  \n",
      "\n",
      "Nivel: Idiomes A.\n",
      "                                         nom_de_laccio  \\\n",
      "IDENTIFICADOR                                            \n",
      "255824         Programació neurolingüística. nivell ii   \n",
      "242883              Esmalt al foc en joieria. nivell i   \n",
      "\n",
      "                    familia_professional  \n",
      "IDENTIFICADOR                             \n",
      "255824         Competències transversals  \n",
      "242883                 Arts i artesanies  \n",
      "\n",
      "Nivel: Idiomes A.1\n",
      "               nom_de_laccio                     familia_professional\n",
      "IDENTIFICADOR                                                        \n",
      "251922         Anglès a.1.b.  Serveis socioculturals i a la comunitat\n",
      "251942         Anglès a.1.b.  Serveis socioculturals i a la comunitat\n",
      "\n",
      "Nivel: Idiomes C.\n",
      "                                                   nom_de_laccio  \\\n",
      "IDENTIFICADOR                                                      \n",
      "242862         C.30. operaris de magatzem, logística i aprovi...   \n",
      "242909               Tecnologia del vehicle elèctric. nivell iii   \n",
      "\n",
      "                              familia_professional  \n",
      "IDENTIFICADOR                                       \n",
      "242862                    Seguretat i medi ambient  \n",
      "242909         Transport i manteniment de vehicles  \n",
      "\n",
      "Nivel: Idiomes C.2\n",
      "                                                   nom_de_laccio  \\\n",
      "IDENTIFICADOR                                                      \n",
      "247229              C.28. operaris de pont grua. part específica   \n",
      "242647         C.29 operaris de plataformes elevadores. part ...   \n",
      "\n",
      "                   familia_professional  \n",
      "IDENTIFICADOR                            \n",
      "247229         Seguretat i medi ambient  \n",
      "242647         Seguretat i medi ambient  \n",
      "\n",
      "Nivel: Idiomes C.1\n",
      "                                                   nom_de_laccio  \\\n",
      "IDENTIFICADOR                                                      \n",
      "242855         C.15. instal·lacions i reparacions de línies e...   \n",
      "248015         C.15. instal·lacions i reparacions de línies e...   \n",
      "\n",
      "                   familia_professional  \n",
      "IDENTIFICADOR                            \n",
      "242855         Seguretat i medi ambient  \n",
      "248015         Seguretat i medi ambient  \n",
      "\n",
      "Nivel: Idiomes B.1\n",
      "               nom_de_laccio                     familia_professional\n",
      "IDENTIFICADOR                                                        \n",
      "255767         Anglès b.1.a.  Serveis socioculturals i a la comunitat\n",
      "245790         Anglès b.1.b.  Serveis socioculturals i a la comunitat\n",
      "\n",
      "Nivel: Idiomes A.2\n",
      "                                   nom_de_laccio  \\\n",
      "IDENTIFICADOR                                      \n",
      "245325         Llengua de signes catalana a.2.b.   \n",
      "255765                             Anglès a.2.a.   \n",
      "\n",
      "                                  familia_professional  \n",
      "IDENTIFICADOR                                           \n",
      "245325                       Competències transversals  \n",
      "255765         Serveis socioculturals i a la comunitat  \n",
      "\n",
      "Nivel: Idiomes B.2\n",
      "               nom_de_laccio                     familia_professional\n",
      "IDENTIFICADOR                                                        \n",
      "250746         Anglès b.2.d.  Serveis socioculturals i a la comunitat\n",
      "248668         Anglès b.2.a.  Serveis socioculturals i a la comunitat\n",
      "\n",
      "Nivel: Idiomes D.\n",
      "                                                   nom_de_laccio  \\\n",
      "IDENTIFICADOR                                                      \n",
      "248276         Desenvolupament d'aplicacions amb android. niv...   \n",
      "249196                        Disseny de moda 3d. nivell inicial   \n",
      "\n",
      "                      familia_professional  \n",
      "IDENTIFICADOR                               \n",
      "248276         Informàtica i comunicacions  \n",
      "249196            Tèxtil, confecció i pell  \n"
     ]
    }
   ],
   "source": [
    "def detectar_nivel_v5(row):\n",
    "    nombre = row['nom_de_laccio'].lower()\n",
    "    familia = row['familia_professional'].lower()\n",
    "    \n",
    "    # 1. Patrones específicos por familia profesional\n",
    "    patrones_especificos = {\n",
    "        'informàtica i comunicacions': {\n",
    "            'Bàsic': ['usuari', 'iniciació', 'fonaments', 'introducció', 'bàsic'],\n",
    "            'Mitjà': ['administració', 'desenvolupament', 'programació', 'tècnic'],\n",
    "            'Avançat': ['arquitectura', 'seguretat', 'cloud', 'expert', 'especialista']\n",
    "        },\n",
    "        'administració i gestió': {\n",
    "            'Bàsic': ['auxiliar', 'operacions', 'bàsic', 'inicial'],\n",
    "            'Mitjà': ['gestió', 'administratiu', 'comptable'],\n",
    "            'Avançat': ['direcció', 'estratègia', 'superior']\n",
    "        },\n",
    "        'idiomes': {\n",
    "            'Bàsic': ['a1', 'a2', 'basic', 'inicial'],\n",
    "            'Mitjà': ['b1', 'b2', 'intermediate'],\n",
    "            'Avançat': ['c1', 'c2', 'advanced']\n",
    "        }\n",
    "    }\n",
    "    \n",
    "    # 2. Patrones de idiomas específicos\n",
    "    match_idioma = re.search(r'([abcd][12]?\\.[12]?)', nombre)\n",
    "    if match_idioma:\n",
    "        nivel_idioma = match_idioma.group(1)\n",
    "        return f'Idiomes {nivel_idioma.upper()}'\n",
    "    \n",
    "    # 3. Módulos de prácticas\n",
    "    if any(x in nombre for x in ['pràctiques professionals', 'mp0', '_mp_']):\n",
    "        return 'Pràctiques'\n",
    "    \n",
    "    # 4. Verificar patrones específicos por familia\n",
    "    for fam, patrones in patrones_especificos.items():\n",
    "        if fam in familia:\n",
    "            for nivel, palabras in patrones.items():\n",
    "                if any(p in nombre for p in palabras):\n",
    "                    return nivel\n",
    "    \n",
    "    # 5. Certificados profesionales\n",
    "    if bool(re.match(r'^[A-Z]{4}\\d{4}', row['nom_de_laccio'])):\n",
    "        if any(x in nombre for x in ['_basic_', '_inicial_', '_uf0']):\n",
    "            return 'Bàsic'\n",
    "        elif any(x in nombre for x in ['_mig_', '_intermedi_']):\n",
    "            return 'Mitjà'\n",
    "        elif any(x in nombre for x in ['_superior_', '_avancat_']):\n",
    "            return 'Avançat'\n",
    "    \n",
    "    # 6. Patrones generales\n",
    "    patrones_generales = {\n",
    "        'Bàsic': ['inicial', 'introducció', 'bàsic', 'basic', 'iniciació', \n",
    "                 'elemental', 'principis', 'fonaments', 'primer nivell'],\n",
    "        'Mitjà': ['mitjà', 'intermedi', 'mig', 'segon nivell', \n",
    "                 'perfeccionament', 'especialització'],\n",
    "        'Avançat': ['avançat', 'superior', 'especialitzat', 'expert', \n",
    "                   'master', 'tercer nivell']\n",
    "    }\n",
    "    \n",
    "    for nivel, patrones in patrones_generales.items():\n",
    "        if any(p in nombre for p in patrones):\n",
    "            return nivel\n",
    "    \n",
    "    # 7. Números romanos\n",
    "    if re.search(r'\\bI\\b$', nombre):\n",
    "        return 'Nivell I'\n",
    "    elif re.search(r'\\bII\\b$', nombre):\n",
    "        return 'Nivell II'\n",
    "    elif re.search(r'\\bIII\\b$', nombre):\n",
    "        return 'Nivell III'\n",
    "    \n",
    "    return None\n",
    "\n",
    "# Aplicar la función mejorada\n",
    "df['nivell'] = df.apply(detectar_nivel_v5, axis=1)\n",
    "\n",
    "# Análisis de resultados\n",
    "print(\"1. Distribución general de niveles:\")\n",
    "print(df['nivell'].value_counts(dropna=False))\n",
    "\n",
    "print(\"\\n2. Distribución por familia profesional:\")\n",
    "print(pd.crosstab(df['familia_professional'], df['nivell']).head())\n",
    "\n",
    "print(\"\\n3. Ejemplos de detección por nivel:\")\n",
    "for nivel in df['nivell'].unique():\n",
    "    if nivel is not None:\n",
    "        print(f\"\\nNivel: {nivel}\")\n",
    "        print(df[df['nivell'] == nivel][['nom_de_laccio', 'familia_professional']].head(2))"
   ]
  },
  {
   "cell_type": "code",
   "execution_count": 219,
   "id": "5099e2e5",
   "metadata": {},
   "outputs": [
    {
     "name": "stdout",
     "output_type": "stream",
     "text": [
      "1. Distribución de niveles consolidados:\n",
      "nivel_consolidado\n",
      "Sense nivell    3639\n",
      "Bàsic            586\n",
      "Mitjà            320\n",
      "Avançat          257\n",
      "Pràctiques       150\n",
      "Name: count, dtype: int64\n",
      "\n",
      "2. Distribución por tipo de nivel:\n",
      "tipus_nivell\n",
      "Sense classificar    3639\n",
      "General               798\n",
      "Idiomes               365\n",
      "Pràctiques            150\n",
      "Name: count, dtype: int64\n"
     ]
    }
   ],
   "source": [
    "# 1. Consolidar niveles similares\n",
    "df['nivel_consolidado'] = df['nivell'].map(lambda x: \n",
    "    'Bàsic' if x in ['Bàsic', 'Idiomes A.', 'Idiomes A.1', 'Idiomes A.2'] else\n",
    "    'Mitjà' if x in ['Mitjà', 'Idiomes B.1', 'Idiomes B.2'] else\n",
    "    'Avançat' if x in ['Avançat', 'Idiomes C.', 'Idiomes C.1', 'Idiomes C.2', 'Idiomes D.'] else\n",
    "    'Pràctiques' if x == 'Pràctiques' else\n",
    "    'Sense nivell'\n",
    ")\n",
    "\n",
    "# 2. Crear columna de tipo de nivel\n",
    "df['tipus_nivell'] = df['nivell'].map(lambda x:\n",
    "    'Idiomes' if str(x).startswith('Idiomes') else\n",
    "    'Pràctiques' if x == 'Pràctiques' else\n",
    "    'General' if x in ['Bàsic', 'Mitjà', 'Avançat'] else\n",
    "    'Sense classificar'\n",
    ")\n",
    "\n",
    "# Mostrar resultados consolidados\n",
    "print(\"1. Distribución de niveles consolidados:\")\n",
    "print(df['nivel_consolidado'].value_counts())\n",
    "\n",
    "print(\"\\n2. Distribución por tipo de nivel:\")\n",
    "print(df['tipus_nivell'].value_counts())"
   ]
  },
  {
   "cell_type": "code",
   "execution_count": 220,
   "id": "a9b8b6b8",
   "metadata": {},
   "outputs": [
    {
     "name": "stdout",
     "output_type": "stream",
     "text": [
      "1. Distribución de niveles por modalidad:\n",
      "modalitat          Mixta  Presencial  Teleformació\n",
      "nivel_consolidado                                 \n",
      "Avançat                1         200            56\n",
      "Bàsic                  6         467           113\n",
      "Mitjà                  1         228            91\n",
      "Pràctiques             0         150             0\n",
      "Sense nivell           7        2776           856\n",
      "\n",
      "2. Distribución de tipos por familia profesional:\n",
      "tipus_nivell                             General  Idiomes  Pràctiques  \\\n",
      "familia_professional                                                    \n",
      "Activitats físiques i esportives               0        0          10   \n",
      "Administració i gestió                       250        0          16   \n",
      "Agrària                                       20        0           0   \n",
      "Arts gràfiques                                 0        0           1   \n",
      "Arts i artesanies                              0        2           0   \n",
      "Comerç i màrqueting                            2        3          12   \n",
      "Competències transversals                    116       48           0   \n",
      "Edificació i obra civil                       26        0           2   \n",
      "Electricitat i electrònica                    12        2           1   \n",
      "Energia i aigua                                3        0           0   \n",
      "Fabricació mecànica                           13        5           1   \n",
      "Formació complementària                       77        0           0   \n",
      "Hostaleria i turisme                          18        0           5   \n",
      "Imatge i so                                   16        0           0   \n",
      "Imatge personal                                0        0           4   \n",
      "Indústries alimentàries                       29        0           1   \n",
      "Informàtica i comunicacions                   85        4           5   \n",
      "Instal·lació i manteniment                     8        0           1   \n",
      "Química                                        3        0           4   \n",
      "Sanitat                                       33        0           8   \n",
      "Seguretat i medi ambient                      29       69          12   \n",
      "Serveis socioculturals i a la comunitat       40      227          66   \n",
      "Transport i manteniment de vehicles           18        3           1   \n",
      "Tèxtil, confecció i pell                       0        2           0   \n",
      "\n",
      "tipus_nivell                             Sense classificar  \n",
      "familia_professional                                        \n",
      "Activitats físiques i esportives                        45  \n",
      "Administració i gestió                                 398  \n",
      "Agrària                                                 82  \n",
      "Arts gràfiques                                          37  \n",
      "Arts i artesanies                                        3  \n",
      "Comerç i màrqueting                                    464  \n",
      "Competències transversals                              535  \n",
      "Edificació i obra civil                                108  \n",
      "Electricitat i electrònica                              29  \n",
      "Energia i aigua                                         22  \n",
      "Fabricació mecànica                                     69  \n",
      "Formació complementària                                135  \n",
      "Hostaleria i turisme                                   243  \n",
      "Imatge i so                                              8  \n",
      "Imatge personal                                         27  \n",
      "Indústries alimentàries                                 78  \n",
      "Informàtica i comunicacions                            100  \n",
      "Instal·lació i manteniment                              26  \n",
      "Química                                                 37  \n",
      "Sanitat                                                156  \n",
      "Seguretat i medi ambient                               303  \n",
      "Serveis socioculturals i a la comunitat                645  \n",
      "Transport i manteniment de vehicles                     70  \n",
      "Tèxtil, confecció i pell                                19  \n",
      "\n",
      "Estadísticas para nivel Pràctiques:\n",
      "Total cursos: 150\n",
      "Familias principales:\n",
      "familia_professional\n",
      "Serveis socioculturals i a la comunitat    66\n",
      "Administració i gestió                     16\n",
      "Seguretat i medi ambient                   12\n",
      "Name: count, dtype: int64\n",
      "Duración media: 78.9 horas\n",
      "\n",
      "Estadísticas para nivel Bàsic:\n",
      "Total cursos: 586\n",
      "Familias principales:\n",
      "familia_professional\n",
      "Competències transversals                  124\n",
      "Serveis socioculturals i a la comunitat    117\n",
      "Administració i gestió                     110\n",
      "Name: count, dtype: int64\n",
      "Duración media: 46.7 horas\n",
      "\n",
      "Estadísticas para nivel Avançat:\n",
      "Total cursos: 257\n",
      "Familias principales:\n",
      "familia_professional\n",
      "Seguretat i medi ambient       57\n",
      "Formació complementària        40\n",
      "Informàtica i comunicacions    37\n",
      "Name: count, dtype: int64\n",
      "Duración media: 39.3 horas\n",
      "\n",
      "Estadísticas para nivel Mitjà:\n",
      "Total cursos: 320\n",
      "Familias principales:\n",
      "familia_professional\n",
      "Administració i gestió                     127\n",
      "Serveis socioculturals i a la comunitat    121\n",
      "Formació complementària                     20\n",
      "Name: count, dtype: int64\n",
      "Duración media: 54.6 horas\n"
     ]
    }
   ],
   "source": [
    "# 1. Crear categorización completa\n",
    "df['categoritzacio_curs'] = df.apply(lambda row: {\n",
    "    'nivell': row['nivel_consolidado'],\n",
    "    'tipus': row['tipus_nivell'],\n",
    "    'familia': row['familia_professional'],\n",
    "    'modalitat': row['modalitat'],\n",
    "    'hores': row['categoria_duracion']\n",
    "}, axis=1)\n",
    "\n",
    "# 2. Análisis cruzado\n",
    "print(\"1. Distribución de niveles por modalidad:\")\n",
    "print(pd.crosstab(df['nivel_consolidado'], df['modalitat']))\n",
    "\n",
    "print(\"\\n2. Distribución de tipos por familia profesional:\")\n",
    "print(pd.crosstab(df['familia_professional'], df['tipus_nivell']))\n",
    "\n",
    "# 3. Estadísticas por nivel\n",
    "for nivel in df['nivel_consolidado'].unique():\n",
    "    if nivel != 'Sense nivell':\n",
    "        subset = df[df['nivel_consolidado'] == nivel]\n",
    "        print(f\"\\nEstadísticas para nivel {nivel}:\")\n",
    "        print(f\"Total cursos: {len(subset)}\")\n",
    "        print(f\"Familias principales:\")\n",
    "        print(subset['familia_professional'].value_counts().head(3))\n",
    "        print(f\"Duración media: {subset['hores'].mean():.1f} horas\")"
   ]
  },
  {
   "cell_type": "markdown",
   "id": "7866b642",
   "metadata": {},
   "source": [
    "1. La modalidad presencial domina (77.2%)\n",
    "2. Las prácticas son exclusivamente presenciales\n",
    "3. Los cursos básicos tienen mayor presencia en todas las modalidades\n",
    "4. La duración media varía significativamente por nivel\n",
    "5. Servicios socioculturales y Administración son las familias más diversas"
   ]
  },
  {
   "cell_type": "markdown",
   "id": "174690e9",
   "metadata": {},
   "source": [
    "Corrección"
   ]
  },
  {
   "cell_type": "markdown",
   "id": "8b7a0f5c",
   "metadata": {},
   "source": [
    "- Eliminar la variable"
   ]
  },
  {
   "cell_type": "code",
   "execution_count": 221,
   "id": "e73e2300",
   "metadata": {},
   "outputs": [],
   "source": [
    "# Opción 1: Eliminar estas columnas por tener demasiados nulos\n",
    "# cat = cat.drop(columns=['notes_equipament', 'notes_dades'])\n",
    "\n",
    "# # Opción 2: Mantenerlas pero imputar con un valor específico\n",
    "# cat['notes_equipament'] = cat['notes_equipament'].fillna('Sin notas')\n",
    "# cat['notes_dades'] = cat['notes_dades'].fillna('Sin notas')\n",
    "\n",
    "# Opción 3: Mantenerlas tal cual si la información, aunque escasa, es valiosa"
   ]
  },
  {
   "cell_type": "markdown",
   "id": "cdd2db55",
   "metadata": {},
   "source": [
    "- Eliminar registros"
   ]
  },
  {
   "cell_type": "markdown",
   "id": "d50e87a0",
   "metadata": {},
   "source": [
    "*Cuidado: Si se eliminan registros hay que eliminarlos tanto de cat como de num*"
   ]
  },
  {
   "cell_type": "code",
   "execution_count": 222,
   "id": "62ad5097",
   "metadata": {},
   "outputs": [],
   "source": [
    "# criterio = 3\n",
    "# cat.dropna(thresh=criterio, inplace=True)\n",
    "# num.dropna(thresh=criterio, inplace=True)"
   ]
  },
  {
   "cell_type": "markdown",
   "id": "ebeb52a6",
   "metadata": {},
   "source": [
    "- Imputar por un valor"
   ]
  },
  {
   "cell_type": "markdown",
   "id": "2cba1c3c",
   "metadata": {},
   "source": [
    "Variables a imputar"
   ]
  },
  {
   "cell_type": "code",
   "execution_count": 223,
   "id": "4050ef9f",
   "metadata": {},
   "outputs": [],
   "source": [
    "# var_imputar_valor = ['resultado_campana_anterior','formacion']"
   ]
  },
  {
   "cell_type": "markdown",
   "id": "fa866ac6",
   "metadata": {},
   "source": [
    "Valor por el que imputar"
   ]
  },
  {
   "cell_type": "code",
   "execution_count": 224,
   "id": "10abb34a",
   "metadata": {},
   "outputs": [],
   "source": [
    "# valor = 'NULO'"
   ]
  },
  {
   "cell_type": "markdown",
   "id": "78d10252",
   "metadata": {},
   "source": [
    "- Imputar"
   ]
  },
  {
   "cell_type": "code",
   "execution_count": 225,
   "id": "f16e8491",
   "metadata": {},
   "outputs": [],
   "source": [
    "# cat[var_imputar_valor] = cat[var_imputar_valor].fillna(valor)"
   ]
  },
  {
   "cell_type": "markdown",
   "id": "c111e44d",
   "metadata": {},
   "source": [
    "- Imputar por la moda"
   ]
  },
  {
   "cell_type": "markdown",
   "id": "4c1a9c46",
   "metadata": {},
   "source": [
    "Variables a imputar"
   ]
  },
  {
   "cell_type": "code",
   "execution_count": 226,
   "id": "cf4cee3d",
   "metadata": {},
   "outputs": [],
   "source": [
    "# var_imputar_moda = ['resultado_campana_anterior','formacion']"
   ]
  },
  {
   "cell_type": "markdown",
   "id": "e3a31c7d",
   "metadata": {},
   "source": [
    "Funcion para imputar con la moda"
   ]
  },
  {
   "cell_type": "code",
   "execution_count": 227,
   "id": "6d7c902b",
   "metadata": {},
   "outputs": [],
   "source": [
    "# def imputar_moda(variable):\n",
    "#     return(variable.fillna(variable.mode()[0]))"
   ]
  },
  {
   "cell_type": "markdown",
   "id": "b2c3ceba",
   "metadata": {},
   "source": [
    "Imputar con la moda"
   ]
  },
  {
   "cell_type": "code",
   "execution_count": 228,
   "id": "5f5184ef",
   "metadata": {},
   "outputs": [],
   "source": [
    "# cat[var_imputar_moda] = cat[var_imputar_moda].apply(imputar_moda)"
   ]
  },
  {
   "cell_type": "markdown",
   "id": "913cd65d",
   "metadata": {},
   "source": [
    "### ATÍPICOS"
   ]
  },
  {
   "cell_type": "markdown",
   "id": "5a575397",
   "metadata": {},
   "source": [
    "- Categorías poco frecuentes"
   ]
  },
  {
   "cell_type": "markdown",
   "id": "e88c9f39",
   "metadata": {},
   "source": [
    "Función para agrupar categorías raras en 'OTROS'"
   ]
  },
  {
   "cell_type": "code",
   "execution_count": 229,
   "id": "c59f8d06",
   "metadata": {},
   "outputs": [],
   "source": [
    "# def agrupar_cat_raras(variable, criterio = 0.05):\n",
    "#     # Calcula las frecuencias\n",
    "#     frecuencias = variable.value_counts(normalize=True)\n",
    "#     # Identifica las que están por debajo del criterio\n",
    "#     temp = [cada for cada in frecuencias.loc[frecuencias < criterio].index.values]\n",
    "#     # Las recodifica en 'OTROS'\n",
    "#     temp2 = np.where(variable.isin(temp),'OTROS',variable)\n",
    "#     # Devuelve el resultado\n",
    "#     return(temp2)"
   ]
  },
  {
   "cell_type": "markdown",
   "id": "4205e067",
   "metadata": {},
   "source": [
    "Variables a imputar"
   ]
  },
  {
   "cell_type": "code",
   "execution_count": 230,
   "id": "ec35c874",
   "metadata": {},
   "outputs": [],
   "source": [
    "# var_imputar_moda = ['trabajo','estado_civil']"
   ]
  },
  {
   "cell_type": "markdown",
   "id": "5eaca402",
   "metadata": {},
   "source": [
    "Aplicar"
   ]
  },
  {
   "cell_type": "code",
   "execution_count": 231,
   "id": "2b187bc7",
   "metadata": {},
   "outputs": [],
   "source": [
    "# for variable in var_imputar_moda:\n",
    "#     cat[variable] = agrupar_cat_raras(cat[variable],criterio = 0.02)"
   ]
  },
  {
   "cell_type": "markdown",
   "id": "db3a72a6",
   "metadata": {},
   "source": [
    "### GESTIÓN DE NUMÉRICAS"
   ]
  },
  {
   "cell_type": "markdown",
   "id": "d65bd06a",
   "metadata": {},
   "source": [
    "#### NULOS"
   ]
  },
  {
   "cell_type": "markdown",
   "id": "e5ee8416",
   "metadata": {},
   "source": [
    "Identificación"
   ]
  },
  {
   "cell_type": "code",
   "execution_count": 232,
   "id": "c9f054a3",
   "metadata": {
    "scrolled": true
   },
   "outputs": [
    {
     "data": {
      "text/plain": [
       "codi_municipi      0\n",
       "codi_comarca       0\n",
       "hores              0\n",
       "longitud_nombre    0\n",
       "dtype: int64"
      ]
     },
     "execution_count": 232,
     "metadata": {},
     "output_type": "execute_result"
    }
   ],
   "source": [
    "num.isna().sum().sort_values(ascending = False)"
   ]
  },
  {
   "cell_type": "markdown",
   "id": "1b7cb2c4",
   "metadata": {},
   "source": [
    "Corrección"
   ]
  },
  {
   "cell_type": "markdown",
   "id": "48c76393",
   "metadata": {},
   "source": [
    "- Eliminar la variable"
   ]
  },
  {
   "cell_type": "code",
   "execution_count": 233,
   "id": "ba078af2",
   "metadata": {},
   "outputs": [],
   "source": [
    "# num.drop(columns = 'num_contactos_otras_campanas',inplace = True)"
   ]
  },
  {
   "cell_type": "markdown",
   "id": "aab11eff",
   "metadata": {},
   "source": [
    "- Eliminar registros"
   ]
  },
  {
   "cell_type": "markdown",
   "id": "fa00a59d",
   "metadata": {},
   "source": [
    "*Cuidado: Si se eliminan registros hay que eliminarlos tanto de cat como de num*"
   ]
  },
  {
   "cell_type": "code",
   "execution_count": 234,
   "id": "c5292f66",
   "metadata": {},
   "outputs": [],
   "source": [
    "# criterio = 3\n",
    "# cat.dropna(thresh=criterio, inplace=True)\n",
    "# num.dropna(thresh=criterio, inplace=True)"
   ]
  },
  {
   "cell_type": "markdown",
   "id": "214264cb",
   "metadata": {},
   "source": [
    "- Imputar por la media"
   ]
  },
  {
   "cell_type": "markdown",
   "id": "1f927674",
   "metadata": {},
   "source": [
    "Variables a imputar"
   ]
  },
  {
   "cell_type": "code",
   "execution_count": 235,
   "id": "17c30954",
   "metadata": {},
   "outputs": [],
   "source": [
    "# var_imputar_media = ['edad','num_contactos_esta_campana']"
   ]
  },
  {
   "cell_type": "markdown",
   "id": "ac2fbb2c",
   "metadata": {},
   "source": [
    "Funcion para imputar con la media"
   ]
  },
  {
   "cell_type": "code",
   "execution_count": 236,
   "id": "e8ffdb3d",
   "metadata": {},
   "outputs": [],
   "source": [
    "# def imputar_media(variable):\n",
    "#     if pd.api.types.is_integer_dtype(variable):\n",
    "#         return(variable.fillna(int(variable.mean())))\n",
    "#     else:\n",
    "#         return(variable.fillna(variable.mean()))"
   ]
  },
  {
   "cell_type": "markdown",
   "id": "54407baa",
   "metadata": {},
   "source": [
    "- Imputar con la media"
   ]
  },
  {
   "cell_type": "code",
   "execution_count": 237,
   "id": "605f7ad2",
   "metadata": {},
   "outputs": [],
   "source": [
    "# num[var_imputar_media] = num[var_imputar_media].apply(imputar_media)"
   ]
  },
  {
   "cell_type": "markdown",
   "id": "649c19f3",
   "metadata": {},
   "source": [
    "- Imputar por la mediana"
   ]
  },
  {
   "cell_type": "markdown",
   "id": "d22ea297",
   "metadata": {},
   "source": [
    "Variables a imputar"
   ]
  },
  {
   "cell_type": "code",
   "execution_count": 238,
   "id": "37e4d7f6",
   "metadata": {},
   "outputs": [],
   "source": [
    "# var_imputar_mediana = ['edad','num_contactos_esta_campana']"
   ]
  },
  {
   "cell_type": "markdown",
   "id": "432c371c",
   "metadata": {},
   "source": [
    "Funcion para imputar con la mediana"
   ]
  },
  {
   "cell_type": "code",
   "execution_count": 239,
   "id": "66679233",
   "metadata": {},
   "outputs": [],
   "source": [
    "# def imputar_mediana(variable):\n",
    "#     if pd.api.types.is_integer_dtype(variable):\n",
    "#         return(variable.fillna(int(variable.median())))\n",
    "#     else:\n",
    "#         return(variable.fillna(variable.median()))"
   ]
  },
  {
   "cell_type": "markdown",
   "id": "70d7a1c5",
   "metadata": {},
   "source": [
    "- Imputar con la mediana"
   ]
  },
  {
   "cell_type": "code",
   "execution_count": 240,
   "id": "887a4106",
   "metadata": {},
   "outputs": [],
   "source": [
    "# num[var_imputar_mediana] = num[var_imputar_mediana].apply(imputar_mediana)"
   ]
  },
  {
   "cell_type": "markdown",
   "id": "82cb56e8",
   "metadata": {},
   "source": [
    "### ATÍPICOS"
   ]
  },
  {
   "cell_type": "markdown",
   "id": "760baf8c",
   "metadata": {},
   "source": [
    "**Por desviación típica**"
   ]
  },
  {
   "cell_type": "markdown",
   "id": "4b508149",
   "metadata": {},
   "source": [
    "- Identificación"
   ]
  },
  {
   "cell_type": "markdown",
   "id": "8ceda3d3",
   "metadata": {},
   "source": [
    "Definir el número de desviaciones típicas"
   ]
  },
  {
   "cell_type": "code",
   "execution_count": 241,
   "id": "2b7419cb",
   "metadata": {},
   "outputs": [],
   "source": [
    "# num_desv_tip = 4"
   ]
  },
  {
   "cell_type": "markdown",
   "id": "942da237",
   "metadata": {},
   "source": [
    "Función que devuelve los índices de los atípicos"
   ]
  },
  {
   "cell_type": "code",
   "execution_count": 242,
   "id": "8a81f494",
   "metadata": {},
   "outputs": [],
   "source": [
    "# def atipicos_desv_tip(variable, num_desv_tip = 4):\n",
    "#     #sacamos los nulos por ahora\n",
    "#     variable = variable.dropna()\n",
    "#     #calculamos los límites\n",
    "#     media = np.mean(variable)\n",
    "#     sd = np.std(variable)\n",
    "#     umbral = sd * num_desv_tip\n",
    "#     lim_inf = media - umbral\n",
    "#     lim_sup = media + umbral\n",
    "#     #encontramos los índices de los que están fuera de los límites\n",
    "#     indices = [indice for indice,valor in variable.items() if valor < lim_inf or valor > lim_sup]\n",
    "#     return(indices)"
   ]
  },
  {
   "cell_type": "markdown",
   "id": "768e7398",
   "metadata": {},
   "source": [
    "Función que cuenta el número de atípicos"
   ]
  },
  {
   "cell_type": "code",
   "execution_count": 243,
   "id": "5c8f4462",
   "metadata": {},
   "outputs": [],
   "source": [
    "# def conteo_atipicos(df,variable, num_desv_tip = 4):\n",
    "#     atipicos = atipicos_desv_tip(df[variable], num_desv_tip)\n",
    "#     return(df.loc[atipicos,variable].value_counts())"
   ]
  },
  {
   "cell_type": "markdown",
   "id": "5cd1e425",
   "metadata": {},
   "source": [
    "Variables a aplicar"
   ]
  },
  {
   "cell_type": "code",
   "execution_count": 244,
   "id": "cfbb3d88",
   "metadata": {},
   "outputs": [],
   "source": [
    "# var_atipicos_dt = ['edad','num_contactos_esta_campana']"
   ]
  },
  {
   "cell_type": "markdown",
   "id": "ac400ced",
   "metadata": {},
   "source": [
    "Aplicar"
   ]
  },
  {
   "cell_type": "code",
   "execution_count": 245,
   "id": "c4b74e98",
   "metadata": {},
   "outputs": [],
   "source": [
    "# for variable in var_atipicos_dt:\n",
    "#     print('\\n' + variable + ':\\n')\n",
    "#     print(conteo_atipicos(num,variable,num_desv_tip))"
   ]
  },
  {
   "cell_type": "markdown",
   "id": "5197aae9",
   "metadata": {},
   "source": [
    "- Corrección"
   ]
  },
  {
   "cell_type": "markdown",
   "id": "2b9255dd",
   "metadata": {},
   "source": [
    "Eliminar los registros que tengan al menos un atípico en alguna de las variables indicadas."
   ]
  },
  {
   "cell_type": "markdown",
   "id": "e1233b46",
   "metadata": {},
   "source": [
    "*Cuidado: Si se eliminan registros hay que eliminarlos tanto de cat como de num*"
   ]
  },
  {
   "cell_type": "markdown",
   "id": "18548d6d",
   "metadata": {},
   "source": [
    "Variables a aplicar"
   ]
  },
  {
   "cell_type": "code",
   "execution_count": 246,
   "id": "81e715d9",
   "metadata": {},
   "outputs": [],
   "source": [
    "# var_atipicos_dt = ['edad','num_contactos_esta_campana']"
   ]
  },
  {
   "cell_type": "markdown",
   "id": "b995bf77",
   "metadata": {},
   "source": [
    "Aplicar"
   ]
  },
  {
   "cell_type": "code",
   "execution_count": 247,
   "id": "413fa5ea",
   "metadata": {},
   "outputs": [],
   "source": [
    "# for variable in var_atipicos_dt:\n",
    "#     cat.drop(atipicos_desv_tip(num[variable], num_desv_tip),axis = 0, inplace = True)\n",
    "#     num.drop(atipicos_desv_tip(num[variable], num_desv_tip),axis = 0, inplace = True)"
   ]
  },
  {
   "cell_type": "markdown",
   "id": "47862bcf",
   "metadata": {},
   "source": [
    "**Por winsorización manual para una variable** "
   ]
  },
  {
   "cell_type": "markdown",
   "id": "963a3881",
   "metadata": {},
   "source": [
    "- Identificación"
   ]
  },
  {
   "cell_type": "markdown",
   "id": "af41a20d",
   "metadata": {},
   "source": [
    "Variable a analizar"
   ]
  },
  {
   "cell_type": "code",
   "execution_count": 248,
   "id": "f90db9dc",
   "metadata": {},
   "outputs": [],
   "source": [
    "# variable = 'variacion_tasa_empleo'"
   ]
  },
  {
   "cell_type": "markdown",
   "id": "e0332345",
   "metadata": {},
   "source": [
    "Comprobar el mínimo y máximo actual"
   ]
  },
  {
   "cell_type": "code",
   "execution_count": 249,
   "id": "64d5394b",
   "metadata": {},
   "outputs": [],
   "source": [
    "# num[variable].describe().loc[['min','max']]"
   ]
  },
  {
   "cell_type": "markdown",
   "id": "28d07312",
   "metadata": {},
   "source": [
    "- Corrección"
   ]
  },
  {
   "cell_type": "markdown",
   "id": "fbea3a26",
   "metadata": {},
   "source": [
    "Definir el mínimo y máximo tolerable."
   ]
  },
  {
   "cell_type": "code",
   "execution_count": 250,
   "id": "c8b2d8dc",
   "metadata": {},
   "outputs": [],
   "source": [
    "# minimo = -20\n",
    "# maximo = 10"
   ]
  },
  {
   "cell_type": "markdown",
   "id": "be19a3d1",
   "metadata": {},
   "source": [
    "Aplicar"
   ]
  },
  {
   "cell_type": "code",
   "execution_count": 251,
   "id": "a607d0dd",
   "metadata": {},
   "outputs": [],
   "source": [
    "# num[variable].clip(minimo,maximo, inplace=True)"
   ]
  },
  {
   "cell_type": "markdown",
   "id": "ec69099e",
   "metadata": {},
   "source": [
    "**Por winsorización automática para múltiples variables**"
   ]
  },
  {
   "cell_type": "markdown",
   "id": "49b8433c",
   "metadata": {},
   "source": [
    "Variables a winsorizar"
   ]
  },
  {
   "cell_type": "code",
   "execution_count": 252,
   "id": "e4b6c723",
   "metadata": {},
   "outputs": [],
   "source": [
    "# var_winsorizar = ['edad','num_contactos_esta_campana']"
   ]
  },
  {
   "cell_type": "markdown",
   "id": "9478239d",
   "metadata": {},
   "source": [
    "Definir los percentiles mínimos y máximos."
   ]
  },
  {
   "cell_type": "code",
   "execution_count": 253,
   "id": "0596e25f",
   "metadata": {},
   "outputs": [],
   "source": [
    "# p_min = 0.01\n",
    "# p_max = 0.99"
   ]
  },
  {
   "cell_type": "markdown",
   "id": "878af32b",
   "metadata": {},
   "source": [
    "Aplicar"
   ]
  },
  {
   "cell_type": "code",
   "execution_count": 254,
   "id": "b0317b54",
   "metadata": {},
   "outputs": [],
   "source": [
    "# for variable in var_winsorizar:\n",
    "#     num[variable].clip(lower = num[variable].quantile(p_min), \n",
    "#                        upper = num[variable].quantile(p_max), \n",
    "#                        inplace = True)"
   ]
  },
  {
   "cell_type": "markdown",
   "id": "0f6b1e4a",
   "metadata": {},
   "source": [
    "### GUARDAR DATASETS TRAS CALIDAD DE DATOS"
   ]
  },
  {
   "cell_type": "markdown",
   "id": "1e211b09",
   "metadata": {},
   "source": [
    "Guarda los avances en df, cat y num con un sufijo para poder guardar o recuperar avances del proyecto.\n",
    "\n",
    "En formato pickle para no perder las modificaciones de metadatos."
   ]
  },
  {
   "cell_type": "markdown",
   "id": "abb12eef",
   "metadata": {},
   "source": [
    "- Definir los nombres de los archivos"
   ]
  },
  {
   "cell_type": "code",
   "execution_count": 255,
   "id": "f83c6f26",
   "metadata": {},
   "outputs": [],
   "source": [
    "ruta_trabajo = ruta_proyecto + '/02_Datos/03_Trabajo/' + '2024_accions_formatives_previstes_consorci.pickle'\n",
    "ruta_cat = ruta_proyecto + '/02_Datos/03_Trabajo/' + 'cat_2024_accions_formatives_previstes_consorci.pickle'\n",
    "ruta_num = ruta_proyecto + '/02_Datos/03_Trabajo/' + 'num_2024_accions_formatives_previstes_consorci.pickle'"
   ]
  },
  {
   "cell_type": "markdown",
   "id": "1699f284",
   "metadata": {},
   "source": [
    "- Guardar los archivos"
   ]
  },
  {
   "cell_type": "code",
   "execution_count": 256,
   "id": "6731887a",
   "metadata": {},
   "outputs": [],
   "source": [
    "df.to_pickle(ruta_trabajo)\n",
    "cat.to_pickle(ruta_cat)\n",
    "num.to_pickle(ruta_num)"
   ]
  }
 ],
 "metadata": {
  "kernelspec": {
   "display_name": "Python 3 (ipykernel)",
   "language": "python",
   "name": "python3"
  },
  "language_info": {
   "codemirror_mode": {
    "name": "ipython",
    "version": 3
   },
   "file_extension": ".py",
   "mimetype": "text/x-python",
   "name": "python",
   "nbconvert_exporter": "python",
   "pygments_lexer": "ipython3",
   "version": "3.10.14"
  },
  "toc": {
   "base_numbering": 1,
   "nav_menu": {},
   "number_sections": true,
   "sideBar": true,
   "skip_h1_title": false,
   "title_cell": "Table of Contents",
   "title_sidebar": "Contents",
   "toc_cell": false,
   "toc_position": {
    "height": "calc(100% - 180px)",
    "left": "10px",
    "top": "150px",
    "width": "406.5px"
   },
   "toc_section_display": true,
   "toc_window_display": true
  },
  "varInspector": {
   "cols": {
    "lenName": 16,
    "lenType": 16,
    "lenVar": 40
   },
   "kernels_config": {
    "python": {
     "delete_cmd_postfix": "",
     "delete_cmd_prefix": "del ",
     "library": "var_list.py",
     "varRefreshCmd": "print(var_dic_list())"
    },
    "r": {
     "delete_cmd_postfix": ") ",
     "delete_cmd_prefix": "rm(",
     "library": "var_list.r",
     "varRefreshCmd": "cat(var_dic_list()) "
    }
   },
   "position": {
    "height": "546.85px",
    "left": "680.75px",
    "right": "20px",
    "top": "118px",
    "width": "350px"
   },
   "types_to_exclude": [
    "module",
    "function",
    "builtin_function_or_method",
    "instance",
    "_Feature"
   ],
   "window_display": false
  }
 },
 "nbformat": 4,
 "nbformat_minor": 5
}
